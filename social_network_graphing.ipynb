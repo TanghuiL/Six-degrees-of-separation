{
 "cells": [
  {
   "cell_type": "code",
   "execution_count": 47,
   "metadata": {},
   "outputs": [
    {
     "data": {
      "text/plain": [
       "True"
      ]
     },
     "execution_count": 47,
     "metadata": {},
     "output_type": "execute_result"
    }
   ],
   "source": [
    "a = \"stoems\"\n",
    "str.isalnum(a[3])"
   ]
  },
  {
   "cell_type": "code",
   "execution_count": 45,
   "metadata": {},
   "outputs": [
    {
     "name": "stdout",
     "output_type": "stream",
     "text": [
      "\n",
      " True \n",
      " False\n"
     ]
    }
   ],
   "source": [
    "str = raw_input()\n",
    "print any(c.isalnum()  for c in str)\n",
    "print any(c.isalpha() for c in str)\n",
    "print any(c.isdigit() for c in str)\n",
    "print any(c.islower() for c in str)\n",
    "print any(c.isupper() for c in str)"
   ]
  },
  {
   "cell_type": "markdown",
   "metadata": {},
   "source": [
    "eval as a hacky solution. eval should only ever be used with caution and there's usually a better solution. It's fragile (you may accidentally create invalid code) and can be dangerous (can offer ways for malicious code to be injected). It's also significantly slower, because the python code created by eval has to be recompiled on every iteration.\n",
    "\n",
    "You can do this more cleanly and safely a couple of ways. You could use getattr(). But I prefer just using function references. Remember that class methods are just functions with an object as the first parameter - true in any OO language but directly visible and usable from Python."
   ]
  },
  {
   "cell_type": "code",
   "execution_count": null,
   "metadata": {},
   "outputs": [],
   "source": [
    "for method in [str.isalnum, str.isalpha, str.isdigit, str.islower, str.isupper]:\n",
    "    print any(method(c) for c in s)"
   ]
  },
  {
   "cell_type": "code",
   "execution_count": null,
   "metadata": {},
   "outputs": [],
   "source": [
    "t = type(s)\n",
    "for method in [t.isalnum, t.isalpha, t.isdigit, t.islower, t.isupper]:\n",
    "    print any(method(c) for c in s)"
   ]
  },
  {
   "cell_type": "code",
   "execution_count": null,
   "metadata": {},
   "outputs": [],
   "source": []
  },
  {
   "cell_type": "code",
   "execution_count": null,
   "metadata": {},
   "outputs": [],
   "source": []
  },
  {
   "cell_type": "code",
   "execution_count": null,
   "metadata": {},
   "outputs": [],
   "source": []
  },
  {
   "cell_type": "code",
   "execution_count": null,
   "metadata": {},
   "outputs": [],
   "source": []
  },
  {
   "cell_type": "code",
   "execution_count": null,
   "metadata": {},
   "outputs": [],
   "source": []
  },
  {
   "cell_type": "code",
   "execution_count": 1065,
   "metadata": {},
   "outputs": [],
   "source": [
    "%matplotlib inline\n",
    "import matplotlib\n",
    "import seaborn as sns\n",
    "\n",
    "sns.set()\n",
    "matplotlib.rcParams['figure.dpi'] = 144"
   ]
  },
  {
   "cell_type": "code",
   "execution_count": 1066,
   "metadata": {},
   "outputs": [],
   "source": [
    "from static_grader import grader"
   ]
  },
  {
   "cell_type": "markdown",
   "metadata": {},
   "source": [
    "# The New York Social Graph\n"
   ]
  },
  {
   "cell_type": "markdown",
   "metadata": {},
   "source": [
    "[New York Social Diary](https://web.archive.org/web/20150913224145/http://www.newyorksocialdiary.com/) provides a\n",
    "fascinating lens onto New York's socially well-to-do.  The data forms a natural social graph for New York's social elite.  Take a look at this page of a recent [run-of-the-mill holiday party](https://web.archive.org/web/20150913224145/http://www.newyorksocialdiary.com/party-pictures/2014/holiday-dinners-and-doers). Please note that these links point to the internet archive, as the original website has recently removed most of its archives. Many of the images no longer load, but all the HTML is still there.\n",
    "\n",
    "Besides the brand-name celebrities, you will notice the photos have carefully annotated captions labeling those that appear in the photos.  We can think of this as implicitly implying a social graph: there is a connection between two individuals if they appear in a picture together.\n",
    "\n",
    "For this project, we will assemble the social graph from photo captions for parties dated December 1, 2014, and before.  Using this graph, we can make guesses at the most popular socialites, the most influential people, and the most tightly coupled pairs.\n",
    "\n",
    "We will attack the project in three phases:\n",
    "1. Get a list of all the photo pages to be analyzed.\n",
    "2. Parse all of the captions on a sample page.\n",
    "3. Parse all of the captions on all pages, and assemble the graph."
   ]
  },
  {
   "cell_type": "markdown",
   "metadata": {},
   "source": [
    "## Phase One\n"
   ]
  },
  {
   "cell_type": "markdown",
   "metadata": {},
   "source": [
    "The first step is to crawl the data.  We want photos from parties on or before December 1st, 2014.  Go to the [Party Pictures Archive](https://web.archive.org/web/20150913224145/http://www.newyorksocialdiary.com/party-pictures) to see a list of (party) pages.  We want to get the url for each party page, along with its date.\n",
    "\n",
    "Here are some packages that you may find useful.  You are welcome to use others, if you prefer."
   ]
  },
  {
   "cell_type": "code",
   "execution_count": 1067,
   "metadata": {},
   "outputs": [],
   "source": [
    "import requests\n",
    "import dill\n",
    "from bs4 import BeautifulSoup\n",
    "from datetime import datetime\n",
    "import re"
   ]
  },
  {
   "cell_type": "markdown",
   "metadata": {},
   "source": [
    "We recommend using Python [Requests](http://docs.python-requests.org/en/master/) to download the HTML pages, and [BeautifulSoup](https://www.crummy.com/software/BeautifulSoup/) to process the HTML.  Let's start by getting the [first page](https://web.archive.org/web/20150913224145/http://www.newyorksocialdiary.com/party-pictures)."
   ]
  },
  {
   "cell_type": "code",
   "execution_count": 1068,
   "metadata": {},
   "outputs": [
    {
     "data": {
      "text/plain": [
       "requests.models.Response"
      ]
     },
     "execution_count": 1068,
     "metadata": {},
     "output_type": "execute_result"
    }
   ],
   "source": [
    "page = requests.get(\"https://web.archive.org/web/20150913224145/http://www.newyorksocialdiary.com/party-pictures\")# Use requests.get to download the page.\n",
    "type(page)"
   ]
  },
  {
   "cell_type": "markdown",
   "metadata": {},
   "source": [
    "Now, we process the text of the page with BeautifulSoup."
   ]
  },
  {
   "cell_type": "code",
   "execution_count": 1069,
   "metadata": {
    "scrolled": false
   },
   "outputs": [
    {
     "data": {
      "text/plain": [
       "bs4.BeautifulSoup"
      ]
     },
     "execution_count": 1069,
     "metadata": {},
     "output_type": "execute_result"
    }
   ],
   "source": [
    "soup = BeautifulSoup(page.text, \"lxml\")\n",
    "type(soup)"
   ]
  },
  {
   "cell_type": "markdown",
   "metadata": {},
   "source": [
    "This page has links to 50 party pages. Look at the structure of the page and determine how to isolate those links.  Your browser's developer tools (usually `Cmd`-`Option`-`I` on Mac, `Ctrl`-`Shift`-`I` on others) offer helpful tools to explore the structure of the HTML page.\n",
    "\n",
    "Once you have found a pattern, use BeautifulSoup's [select](https://www.crummy.com/software/BeautifulSoup/bs4/doc/#css-selectors) or [find_all](https://www.crummy.com/software/BeautifulSoup/bs4/doc/#find) methods to get those elements."
   ]
  },
  {
   "cell_type": "code",
   "execution_count": 1070,
   "metadata": {},
   "outputs": [],
   "source": [
    "links = soup.find_all('div', attrs = {'class': 'views-row'})"
   ]
  },
  {
   "cell_type": "markdown",
   "metadata": {},
   "source": [
    "There should be 50 per page."
   ]
  },
  {
   "cell_type": "code",
   "execution_count": 1071,
   "metadata": {},
   "outputs": [],
   "source": [
    "assert len(links) == 50"
   ]
  },
  {
   "cell_type": "markdown",
   "metadata": {},
   "source": [
    "Let's take a look at that first link.  Figure out how to extract the URL of the link, as well as the date.  You probably want to use `datetime.strptime`.  See the [format codes for dates](https://docs.python.org/3/library/datetime.html#strftime-and-strptime-behavior) for reference."
   ]
  },
  {
   "cell_type": "code",
   "execution_count": 1072,
   "metadata": {},
   "outputs": [
    {
     "data": {
      "text/plain": [
       "<div class=\"views-row views-row-1 views-row-odd views-row-first\">\n",
       "<span class=\"views-field views-field-title\"> <span class=\"field-content\"><a href=\"/web/20150913224145/http://www.newyorksocialdiary.com/party-pictures/2015/kicks-offs-sing-offs-and-pro-ams\">Kicks offs, sing offs, and pro ams</a></span> </span>\n",
       "<span class=\"views-field views-field-created\"> <span class=\"field-content\">Friday, September 11, 2015</span> </span> </div>"
      ]
     },
     "execution_count": 1072,
     "metadata": {},
     "output_type": "execute_result"
    }
   ],
   "source": [
    "links[0]"
   ]
  },
  {
   "cell_type": "code",
   "execution_count": 1073,
   "metadata": {},
   "outputs": [
    {
     "data": {
      "text/plain": [
       "'\\n Kicks offs, sing offs, and pro ams \\n Friday, September 11, 2015  '"
      ]
     },
     "execution_count": 1073,
     "metadata": {},
     "output_type": "execute_result"
    }
   ],
   "source": [
    "link = links[0]\n",
    "link.get_text()\n",
    "# Check that the title and date match what you see visually."
   ]
  },
  {
   "cell_type": "code",
   "execution_count": 1074,
   "metadata": {},
   "outputs": [
    {
     "data": {
      "text/plain": [
       "datetime.datetime(2015, 9, 11, 0, 0)"
      ]
     },
     "execution_count": 1074,
     "metadata": {},
     "output_type": "execute_result"
    }
   ],
   "source": [
    "s = link.text\n",
    "date = re.findall(r'(January|February|March|April|May|June|July|August|September|October|November|December)\\s(\\d\\d?),\\s(\\d\\d\\d\\d)', s)\n",
    "date = ':'.join(date[0])\n",
    "date = datetime.strptime(date, \"%B:%d:%Y\")\n",
    "date"
   ]
  },
  {
   "cell_type": "code",
   "execution_count": 1075,
   "metadata": {},
   "outputs": [
    {
     "data": {
      "text/plain": [
       "'/web/20150913224145/http://www.newyorksocialdiary.com/party-pictures/2015/kicks-offs-sing-offs-and-pro-ams'"
      ]
     },
     "execution_count": 1075,
     "metadata": {},
     "output_type": "execute_result"
    }
   ],
   "source": [
    "# Extracting URLs from the attribute href in the <a> tags.\n",
    "link.a.get('href')"
   ]
  },
  {
   "cell_type": "markdown",
   "metadata": {},
   "source": [
    "For purposes of code reuse, let's put that logic into a function.  It should take the link element and return the URL and date parsed from it."
   ]
  },
  {
   "cell_type": "code",
   "execution_count": 1076,
   "metadata": {},
   "outputs": [
    {
     "data": {
      "text/plain": [
       "('/web/20150913224145/http://www.newyorksocialdiary.com/party-pictures/2015/kicks-offs-sing-offs-and-pro-ams',\n",
       " datetime.datetime(2015, 9, 11, 0, 0))"
      ]
     },
     "execution_count": 1076,
     "metadata": {},
     "output_type": "execute_result"
    }
   ],
   "source": [
    "def get_link_date(el):\n",
    "    url = el.a.get('href')\n",
    "    \n",
    "    date = re.findall(r'(January|February|March|April|May|June|July|August|September|October|November|December)\\s(\\d\\d?),\\s(\\d\\d\\d\\d)', el.text)\n",
    "    date = ':'.join(date[0])\n",
    "    date = datetime.strptime(date, \"%B:%d:%Y\")\n",
    "    \n",
    "    return url, date\n",
    "\n",
    "get_link_date(link)"
   ]
  },
  {
   "cell_type": "markdown",
   "metadata": {},
   "source": [
    "You may want to check that it works as you expected.\n",
    "\n",
    "Once that's working, let's write another function to parse all of the links on a page.  Thinking ahead, we can make it take a Requests [Response](http://docs.python-requests.org/en/master/api/#requests.Response) object and do the BeautifulSoup parsing within it."
   ]
  },
  {
   "cell_type": "code",
   "execution_count": 1077,
   "metadata": {},
   "outputs": [],
   "source": [
    "def get_links(response, typ = 'request'):\n",
    "    if typ == 'request':\n",
    "        soup = BeautifulSoup(response.text, \"lxml\")\n",
    "    elif typ == 'future':\n",
    "        soup = BeautifulSoup(response.result().content, \"lxml\")\n",
    "    else:\n",
    "        return 'response type not recognized'\n",
    "    links = soup.find_all('div', attrs = {'class': 'views-row'})\n",
    "    \n",
    "    link_dates = [get_link_date(link) for link in links]\n",
    "    \n",
    "    return link_dates # A list of URL, date pairs"
   ]
  },
  {
   "cell_type": "code",
   "execution_count": 1078,
   "metadata": {
    "scrolled": true
   },
   "outputs": [
    {
     "name": "stdout",
     "output_type": "stream",
     "text": [
      "2015-09-11 00:00:00\n"
     ]
    },
    {
     "data": {
      "text/plain": [
       "True"
      ]
     },
     "execution_count": 1078,
     "metadata": {},
     "output_type": "execute_result"
    }
   ],
   "source": [
    "links_dates = get_links(page)\n",
    "print(links_dates[0][1])\n",
    "links_dates[0][1] > datetime(2014, 12, 1)"
   ]
  },
  {
   "cell_type": "markdown",
   "metadata": {},
   "source": [
    "If we run this on the previous response, we should get 50 pairs."
   ]
  },
  {
   "cell_type": "code",
   "execution_count": 1079,
   "metadata": {},
   "outputs": [],
   "source": [
    "assert len(get_links(page)) == 50"
   ]
  },
  {
   "cell_type": "markdown",
   "metadata": {},
   "source": [
    "But we only want parties with dates on or before the first of December, 2014.  Let's write a function to filter our list of dates to those at or before a cutoff.  Using a keyword argument, we can put in a default cutoff, but allow us to test with others."
   ]
  },
  {
   "cell_type": "code",
   "execution_count": 1080,
   "metadata": {},
   "outputs": [],
   "source": [
    "def filter_by_date(links, cutoff=datetime(2014, 12, 1)):\n",
    "    filtered_links=[]\n",
    "    for l in links:\n",
    "        if(l[1] <= cutoff):\n",
    "            filtered_links.append(l)\n",
    "        else:\n",
    "            next\n",
    "    return(filtered_links)\n",
    "    # Return only the elements with date <= cutoff"
   ]
  },
  {
   "cell_type": "markdown",
   "metadata": {},
   "source": [
    "With the default cutoff, there should be no valid parties on the first page.  Adjust the cutoff date to check that it is actually working."
   ]
  },
  {
   "cell_type": "code",
   "execution_count": 1081,
   "metadata": {},
   "outputs": [],
   "source": [
    "assert len(filter_by_date(get_links(page))) == 0"
   ]
  },
  {
   "cell_type": "code",
   "execution_count": 1082,
   "metadata": {},
   "outputs": [
    {
     "data": {
      "text/plain": [
       "50"
      ]
     },
     "execution_count": 1082,
     "metadata": {},
     "output_type": "execute_result"
    }
   ],
   "source": [
    "len(filter_by_date(get_links(page), cutoff=datetime(2019, 1,1)))"
   ]
  },
  {
   "cell_type": "markdown",
   "metadata": {},
   "source": [
    "Now we should be ready to get all of the party URLs.  Click through a few of the index pages to determine how the URL changes.  Figure out a strategy to visit all of them.\n",
    "\n",
    "HTTP requests are generally IO-bound.  This means that most of the time is spent waiting for the remote server to respond.  If you use `requests` directly, you can only wait on one response at a time.  [requests-futures](https://github.com/ross/requests-futures) lets you wait for multiple requests at a time.  You may wish to use this to speed up the downloading process."
   ]
  },
  {
   "cell_type": "code",
   "execution_count": 1083,
   "metadata": {},
   "outputs": [],
   "source": [
    "from requests_futures.sessions import FuturesSession\n",
    "session = FuturesSession(max_workers=10)\n",
    "\n",
    "page0 = session.get('https://web.archive.org/web/20150913224145/http://www.newyorksocialdiary.com/party-pictures')\n",
    "\n",
    "type(page0)\n",
    "\n",
    "futures=[page0]\n",
    "for page_num in range(1,26):\n",
    "    url=\"https://web.archive.org/web/20150913224145/http://www.newyorksocialdiary.com/party-pictures?page={}\".format(page_num)\n",
    "    futures.append(session.get(url))\n",
    "\n",
    "print(len(futures))"
   ]
  },
  {
   "cell_type": "code",
   "execution_count": 1087,
   "metadata": {},
   "outputs": [
    {
     "name": "stdout",
     "output_type": "stream",
     "text": [
      "1193\n",
      "('/web/20150918040703/http://www.newyorksocialdiary.com/party-pictures/2014/the-thanksgiving-day-parade-from-the-ground-up', datetime.datetime(2014, 12, 1, 0, 0))\n",
      "('/web/20150918040708/http://www.newyorksocialdiary.com/party-pictures/2014/its-showtime', datetime.datetime(2014, 6, 19, 0, 0))\n",
      "('/web/20150910152250/http://www.newyorksocialdiary.com/party-pictures/2011/sunrise-sunset', datetime.datetime(2011, 5, 23, 0, 0))\n",
      "('/web/20150910134150/http://www.newyorksocialdiary.com/party-pictures/2008/dessert-and-dancing', datetime.datetime(2008, 3, 14, 0, 0))\n"
     ]
    }
   ],
   "source": [
    "link_list = []\n",
    "[link_list.extend(get_links(future, 'future')) for future in futures]\n",
    "link_list = filter_by_date(link_list)\n",
    "print(len(link_list))\n",
    "print(link_list[0])\n",
    "print(link_list[45])\n",
    "print(link_list[452])\n",
    "print(link_list[1020])"
   ]
  },
  {
   "cell_type": "markdown",
   "metadata": {},
   "source": [
    "In the end, you should have 1193 parties."
   ]
  },
  {
   "cell_type": "code",
   "execution_count": 1088,
   "metadata": {},
   "outputs": [],
   "source": [
    "assert len(link_list) == 1193"
   ]
  },
  {
   "cell_type": "markdown",
   "metadata": {},
   "source": [
    "In case we need to restart the notebook, we should save this information to a file.  There are many ways you could do this; here's one using `dill`."
   ]
  },
  {
   "cell_type": "code",
   "execution_count": 1089,
   "metadata": {},
   "outputs": [],
   "source": [
    "dill.dump(link_list, open('nysd-links.pkd', 'wb'))"
   ]
  },
  {
   "cell_type": "markdown",
   "metadata": {},
   "source": [
    "To restore the list, we can just load it from the file.  When the notebook is restarted, you can skip the code above and just run this command."
   ]
  },
  {
   "cell_type": "code",
   "execution_count": 1090,
   "metadata": {},
   "outputs": [],
   "source": [
    "link_list = dill.load(open('nysd-links.pkd', 'rb'))"
   ]
  },
  {
   "cell_type": "markdown",
   "metadata": {},
   "source": [
    "## Question 1: histogram\n"
   ]
  },
  {
   "cell_type": "markdown",
   "metadata": {},
   "source": [
    "Get the number of party pages for the 95 months (that is, month-year pair) in the data.  Represent this histogram as a list of 95 tuples, each of the form `(\"Dec-2014\", 1)`.  Note that you can convert `datetime` objects into these sort of strings with `strftime` and the [format codes for dates](https://docs.python.org/3/library/datetime.html#strftime-and-strptime-behavior).\n",
    "\n",
    "Plot the histogram for yourself.  Do you see any trends?"
   ]
  },
  {
   "cell_type": "code",
   "execution_count": 1091,
   "metadata": {},
   "outputs": [],
   "source": [
    "import numpy as np\n",
    "import pandas as pd"
   ]
  },
  {
   "cell_type": "code",
   "execution_count": 1092,
   "metadata": {},
   "outputs": [
    {
     "data": {
      "text/plain": [
       "pandas._libs.tslibs.timestamps.Timestamp"
      ]
     },
     "execution_count": 1092,
     "metadata": {},
     "output_type": "execute_result"
    }
   ],
   "source": [
    "dates = pd.Series([link[1] for link in link_list])\n",
    "type(dates[0])"
   ]
  },
  {
   "cell_type": "code",
   "execution_count": 1392,
   "metadata": {},
   "outputs": [
    {
     "data": {
      "text/html": [
       "<div>\n",
       "<style scoped>\n",
       "    .dataframe tbody tr th:only-of-type {\n",
       "        vertical-align: middle;\n",
       "    }\n",
       "\n",
       "    .dataframe tbody tr th {\n",
       "        vertical-align: top;\n",
       "    }\n",
       "\n",
       "    .dataframe thead th {\n",
       "        text-align: right;\n",
       "    }\n",
       "</style>\n",
       "<table border=\"1\" class=\"dataframe\">\n",
       "  <thead>\n",
       "    <tr style=\"text-align: right;\">\n",
       "      <th></th>\n",
       "      <th>url</th>\n",
       "      <th>date</th>\n",
       "    </tr>\n",
       "  </thead>\n",
       "  <tbody>\n",
       "    <tr>\n",
       "      <th>0</th>\n",
       "      <td>/web/20150918040703/http://www.newyorksocialdi...</td>\n",
       "      <td>2014-12-01</td>\n",
       "    </tr>\n",
       "    <tr>\n",
       "      <th>1</th>\n",
       "      <td>/web/20150918040703/http://www.newyorksocialdi...</td>\n",
       "      <td>2014-11-24</td>\n",
       "    </tr>\n",
       "    <tr>\n",
       "      <th>2</th>\n",
       "      <td>/web/20150918040703/http://www.newyorksocialdi...</td>\n",
       "      <td>2014-11-20</td>\n",
       "    </tr>\n",
       "    <tr>\n",
       "      <th>3</th>\n",
       "      <td>/web/20150918040703/http://www.newyorksocialdi...</td>\n",
       "      <td>2014-11-18</td>\n",
       "    </tr>\n",
       "    <tr>\n",
       "      <th>4</th>\n",
       "      <td>/web/20150918040703/http://www.newyorksocialdi...</td>\n",
       "      <td>2014-11-17</td>\n",
       "    </tr>\n",
       "  </tbody>\n",
       "</table>\n",
       "</div>"
      ],
      "text/plain": [
       "                                                 url       date\n",
       "0  /web/20150918040703/http://www.newyorksocialdi... 2014-12-01\n",
       "1  /web/20150918040703/http://www.newyorksocialdi... 2014-11-24\n",
       "2  /web/20150918040703/http://www.newyorksocialdi... 2014-11-20\n",
       "3  /web/20150918040703/http://www.newyorksocialdi... 2014-11-18\n",
       "4  /web/20150918040703/http://www.newyorksocialdi... 2014-11-17"
      ]
     },
     "execution_count": 1392,
     "metadata": {},
     "output_type": "execute_result"
    }
   ],
   "source": [
    "df = pd.DataFrame(link_list)\n",
    "df.columns = ['url', 'date']\n",
    "df.head()"
   ]
  },
  {
   "cell_type": "code",
   "execution_count": 1393,
   "metadata": {},
   "outputs": [
    {
     "data": {
      "text/plain": [
       "<matplotlib.axes._subplots.AxesSubplot at 0x7fa6b39dc748>"
      ]
     },
     "execution_count": 1393,
     "metadata": {},
     "output_type": "execute_result"
    },
    {
     "data": {
      "image/png": "[encoded data removed]",
      "text/plain": [
       "<Figure size 864x576 with 1 Axes>"
      ]
     },
     "metadata": {},
     "output_type": "display_data"
    }
   ],
   "source": [
    "df.groupby(df[\"date\"].dt.month).count().plot(kind=\"bar\")"
   ]
  },
  {
   "cell_type": "code",
   "execution_count": null,
   "metadata": {},
   "outputs": [],
   "source": [
    "df.set_index('date', inplace=True)"
   ]
  },
  {
   "cell_type": "code",
   "execution_count": 1400,
   "metadata": {},
   "outputs": [
    {
     "data": {
      "text/plain": [
       "<bound method DataFrameGroupBy.aggregate of <pandas.core.groupby.groupby.DataFrameGroupBy object at 0x7fa6b3906080>>"
      ]
     },
     "execution_count": 1400,
     "metadata": {},
     "output_type": "execute_result"
    }
   ],
   "source": [
    "g = df.groupby(pd.Grouper(freq=\"M\"))\n",
    "count_df = g.count()\n",
    "count_df.reset_index(inplace=True)\n",
    "count_df['date'] =  pd.to_datetime(count_df['date'], format='%Y-%m-%d')\n",
    "count_df.head()"
   ]
  },
  {
   "cell_type": "code",
   "execution_count": 1096,
   "metadata": {},
   "outputs": [
    {
     "data": {
      "image/png": "[encoded data removed]",
      "text/plain": [
       "<Figure size 864x576 with 1 Axes>"
      ]
     },
     "metadata": {},
     "output_type": "display_data"
    }
   ],
   "source": [
    "plt = count_df.plot.bar(x='date', y = 'url')"
   ]
  },
  {
   "cell_type": "code",
   "execution_count": 1097,
   "metadata": {},
   "outputs": [
    {
     "data": {
      "text/plain": [
       "pandas._libs.tslibs.timestamps.Timestamp"
      ]
     },
     "execution_count": 1097,
     "metadata": {},
     "output_type": "execute_result"
    }
   ],
   "source": [
    "type(count_df['date'][0])"
   ]
  },
  {
   "cell_type": "code",
   "execution_count": 1098,
   "metadata": {},
   "outputs": [
    {
     "data": {
      "text/html": [
       "<div>\n",
       "<style scoped>\n",
       "    .dataframe tbody tr th:only-of-type {\n",
       "        vertical-align: middle;\n",
       "    }\n",
       "\n",
       "    .dataframe tbody tr th {\n",
       "        vertical-align: top;\n",
       "    }\n",
       "\n",
       "    .dataframe thead th {\n",
       "        text-align: right;\n",
       "    }\n",
       "</style>\n",
       "<table border=\"1\" class=\"dataframe\">\n",
       "  <thead>\n",
       "    <tr style=\"text-align: right;\">\n",
       "      <th></th>\n",
       "      <th>date</th>\n",
       "      <th>url</th>\n",
       "    </tr>\n",
       "  </thead>\n",
       "  <tbody>\n",
       "    <tr>\n",
       "      <th>0</th>\n",
       "      <td>Feb-2007</td>\n",
       "      <td>1</td>\n",
       "    </tr>\n",
       "    <tr>\n",
       "      <th>1</th>\n",
       "      <td>Mar-2007</td>\n",
       "      <td>18</td>\n",
       "    </tr>\n",
       "    <tr>\n",
       "      <th>2</th>\n",
       "      <td>Apr-2007</td>\n",
       "      <td>17</td>\n",
       "    </tr>\n",
       "    <tr>\n",
       "      <th>3</th>\n",
       "      <td>May-2007</td>\n",
       "      <td>20</td>\n",
       "    </tr>\n",
       "    <tr>\n",
       "      <th>4</th>\n",
       "      <td>Jun-2007</td>\n",
       "      <td>10</td>\n",
       "    </tr>\n",
       "  </tbody>\n",
       "</table>\n",
       "</div>"
      ],
      "text/plain": [
       "       date  url\n",
       "0  Feb-2007    1\n",
       "1  Mar-2007   18\n",
       "2  Apr-2007   17\n",
       "3  May-2007   20\n",
       "4  Jun-2007   10"
      ]
     },
     "execution_count": 1098,
     "metadata": {},
     "output_type": "execute_result"
    }
   ],
   "source": [
    "count_df['date'] = count_df['date'].dt.strftime('%b-%Y')\n",
    "count_df.head()\n"
   ]
  },
  {
   "cell_type": "code",
   "execution_count": 1099,
   "metadata": {},
   "outputs": [
    {
     "data": {
      "text/plain": [
       "[('Feb-2007', 1),\n",
       " ('Mar-2007', 18),\n",
       " ('Apr-2007', 17),\n",
       " ('May-2007', 20),\n",
       " ('Jun-2007', 10),\n",
       " ('Jul-2007', 15),\n",
       " ('Aug-2007', 14),\n",
       " ('Sep-2007', 12),\n",
       " ('Oct-2007', 14),\n",
       " ('Nov-2007', 17),\n",
       " ('Dec-2007', 9),\n",
       " ('Jan-2008', 9),\n",
       " ('Feb-2008', 10),\n",
       " ('Mar-2008', 17),\n",
       " ('Apr-2008', 15),\n",
       " ('May-2008', 17),\n",
       " ('Jun-2008', 15),\n",
       " ('Jul-2008', 16),\n",
       " ('Aug-2008', 15),\n",
       " ('Sep-2008', 14),\n",
       " ('Oct-2008', 19),\n",
       " ('Nov-2008', 16),\n",
       " ('Dec-2008', 13),\n",
       " ('Jan-2009', 8),\n",
       " ('Feb-2009', 10),\n",
       " ('Mar-2009', 16),\n",
       " ('Apr-2009', 15),\n",
       " ('May-2009', 13),\n",
       " ('Jun-2009', 16),\n",
       " ('Jul-2009', 18),\n",
       " ('Aug-2009', 4),\n",
       " ('Sep-2009', 13),\n",
       " ('Oct-2009', 15),\n",
       " ('Nov-2009', 14),\n",
       " ('Dec-2009', 10),\n",
       " ('Jan-2010', 12),\n",
       " ('Feb-2010', 16),\n",
       " ('Mar-2010', 17),\n",
       " ('Apr-2010', 15),\n",
       " ('May-2010', 18),\n",
       " ('Jun-2010', 19),\n",
       " ('Jul-2010', 18),\n",
       " ('Aug-2010', 18),\n",
       " ('Sep-2010', 27),\n",
       " ('Oct-2010', 14),\n",
       " ('Nov-2010', 16),\n",
       " ('Dec-2010', 11),\n",
       " ('Jan-2011', 11),\n",
       " ('Feb-2011', 11),\n",
       " ('Mar-2011', 15),\n",
       " ('Apr-2011', 15),\n",
       " ('May-2011', 16),\n",
       " ('Jun-2011', 14),\n",
       " ('Jul-2011', 14),\n",
       " ('Aug-2011', 15),\n",
       " ('Sep-2011', 9),\n",
       " ('Oct-2011', 12),\n",
       " ('Nov-2011', 13),\n",
       " ('Dec-2011', 11),\n",
       " ('Jan-2012', 8),\n",
       " ('Feb-2012', 9),\n",
       " ('Mar-2012', 10),\n",
       " ('Apr-2012', 12),\n",
       " ('May-2012', 14),\n",
       " ('Jun-2012', 14),\n",
       " ('Jul-2012', 8),\n",
       " ('Aug-2012', 10),\n",
       " ('Sep-2012', 11),\n",
       " ('Oct-2012', 15),\n",
       " ('Nov-2012', 13),\n",
       " ('Dec-2012', 9),\n",
       " ('Jan-2013', 4),\n",
       " ('Feb-2013', 10),\n",
       " ('Mar-2013', 11),\n",
       " ('Apr-2013', 12),\n",
       " ('May-2013', 14),\n",
       " ('Jun-2013', 13),\n",
       " ('Jul-2013', 11),\n",
       " ('Aug-2013', 11),\n",
       " ('Sep-2013', 8),\n",
       " ('Oct-2013', 13),\n",
       " ('Nov-2013', 12),\n",
       " ('Dec-2013', 11),\n",
       " ('Jan-2014', 8),\n",
       " ('Feb-2014', 8),\n",
       " ('Mar-2014', 11),\n",
       " ('Apr-2014', 8),\n",
       " ('May-2014', 12),\n",
       " ('Jun-2014', 10),\n",
       " ('Jul-2014', 10),\n",
       " ('Aug-2014', 6),\n",
       " ('Sep-2014', 5),\n",
       " ('Oct-2014', 9),\n",
       " ('Nov-2014', 10),\n",
       " ('Dec-2014', 1)]"
      ]
     },
     "execution_count": 1099,
     "metadata": {},
     "output_type": "execute_result"
    }
   ],
   "source": [
    "histogram = [tuple(x) for x in count_df.values]  # Replace this fake answer with your real results\n",
    "histogram"
   ]
  },
  {
   "cell_type": "code",
   "execution_count": 1100,
   "metadata": {},
   "outputs": [
    {
     "name": "stdout",
     "output_type": "stream",
     "text": [
      "==================\n",
      "Your score:  0.9789473684210537\n",
      "==================\n"
     ]
    }
   ],
   "source": [
    "grader.score('graph__histogram', histogram)"
   ]
  },
  {
   "cell_type": "markdown",
   "metadata": {},
   "source": [
    "## Phase Two\n"
   ]
  },
  {
   "cell_type": "markdown",
   "metadata": {},
   "source": [
    "In this phase, we we concentrate on getting the names out of captions for a given page.  We'll start with [the benefit cocktails and dinner](https://web.archive.org/web/20150913224145/http://www.newyorksocialdiary.com/party-pictures/2015/celebrating-the-neighborhood) for [Lenox Hill Neighborhood House](http://www.lenoxhill.org/), a neighborhood organization for the East Side.\n",
    "\n",
    "Take a look at that page.  Note that some of the text on the page is captions, but others are descriptions of the event.  Determine how to select only the captions."
   ]
  },
  {
   "cell_type": "code",
   "execution_count": 1159,
   "metadata": {},
   "outputs": [
    {
     "data": {
      "text/plain": [
       "109"
      ]
     },
     "execution_count": 1159,
     "metadata": {},
     "output_type": "execute_result"
    }
   ],
   "source": [
    "page = requests.get('https://web.archive.org/web/20151114014941/http://www.newyorksocialdiary.com/party-pictures/2015/celebrating-the-neighborhood')\n",
    "soup = BeautifulSoup(page.text, \"lxml\")\n",
    "captions = soup.find_all('div', {'class': 'photocaption'})\n",
    "len(captions)"
   ]
  },
  {
   "cell_type": "markdown",
   "metadata": {},
   "source": [
    "By our count, there are about 110.  But if you're off by a couple, you're probably okay."
   ]
  },
  {
   "cell_type": "code",
   "execution_count": 1160,
   "metadata": {},
   "outputs": [],
   "source": [
    "assert abs(len(captions) - 110) < 5"
   ]
  },
  {
   "cell_type": "markdown",
   "metadata": {},
   "source": [
    "Let's encapsulate this in a function.  As with the links pages, we want to avoid downloading a given page the next time we need to run the notebook.  While we could save the files by hand, as we did before, a checkpoint library like [ediblepickle](https://pypi.python.org/pypi/ediblepickle/1.1.3) can handle this for you.  (Note, though, that you may not want to enable this until you are sure that your function is working.)\n",
    "\n",
    "You should also keep in mind that HTTP requests fail occasionally, for transient reasons.  You should plan how to detect and react to these failures.   The [retrying module](https://pypi.python.org/pypi/retrying) is one way to deal with this."
   ]
  },
  {
   "cell_type": "code",
   "execution_count": 1161,
   "metadata": {},
   "outputs": [],
   "source": [
    "from ediblepickle import checkpoint\n",
    "import string\n",
    "import os\n",
    "\n",
    "cache_dir = 'cache'\n",
    "if not os.path.exists(cache_dir):\n",
    "    os.mkdir(cache_dir)"
   ]
  },
  {
   "cell_type": "code",
   "execution_count": 1162,
   "metadata": {},
   "outputs": [
    {
     "data": {
      "text/plain": [
       "'2015-celebrating-the-neighborhood'"
      ]
     },
     "execution_count": 1162,
     "metadata": {},
     "output_type": "execute_result"
    }
   ],
   "source": [
    "path = \"/web/20150913224145/http://www.newyorksocialdiary.com/party-pictures/2015/celebrating-the-neighborhood\"\n",
    "x = '-'.join(path.split('/')[-2:])\n",
    "x\n"
   ]
  },
  {
   "cell_type": "code",
   "execution_count": 1163,
   "metadata": {},
   "outputs": [
    {
     "ename": "SyntaxError",
     "evalue": "unexpected EOF while parsing (<ipython-input-1163-6e8874980ad6>, line 4)",
     "output_type": "error",
     "traceback": [
      "\u001b[0;36m  File \u001b[0;32m\"<ipython-input-1163-6e8874980ad6>\"\u001b[0;36m, line \u001b[0;32m4\u001b[0m\n\u001b[0;31m    )\u001b[0m\n\u001b[0m     ^\u001b[0m\n\u001b[0;31mSyntaxError\u001b[0m\u001b[0;31m:\u001b[0m unexpected EOF while parsing\n"
     ]
    }
   ],
   "source": [
    "@checkpoint(\n",
    "    key=lambda args, kwargs: '-'.join(args[0].split('/')[-2:])+'.p',\n",
    "    work_dir=cache_dir\n",
    ")"
   ]
  },
  {
   "cell_type": "code",
   "execution_count": 1259,
   "metadata": {},
   "outputs": [],
   "source": [
    "def get_page_soup(path):\n",
    "    page = requests.get('https://web.archive.org' + path)\n",
    "    soup = BeautifulSoup(page.text, \"lxml\")\n",
    "    return(soup)\n",
    "\n",
    "def get_captions(soup):\n",
    "    #page = requests.get('https://web.archive.org' + path)\n",
    "    #soup = BeautifulSoup(page.text, \"lxml\")\n",
    "    captions = soup.find_all('div', {'class': 'photocaption'})\n",
    "    if len(captions) == 0:\n",
    "        captions = soup.find_all('td', {'class': 'photocaption'})\n",
    "    if len(captions) == 0:\n",
    "        captions = soup.find_all('font', {'size': 1})\n",
    "    captions = [caption.text for caption in captions]\n",
    "    return captions"
   ]
  },
  {
   "cell_type": "code",
   "execution_count": 1260,
   "metadata": {},
   "outputs": [],
   "source": [
    "#soup = get_page_soup(path)\n",
    "soup = soups[1192]"
   ]
  },
  {
   "cell_type": "code",
   "execution_count": 1262,
   "metadata": {},
   "outputs": [
    {
     "data": {
      "text/plain": [
       "('/web/20150918040534/http://www.newyorksocialdiary.com/party-pictures/2007/orchids-growing-wild',\n",
       " datetime.datetime(2007, 2, 21, 0, 0))"
      ]
     },
     "execution_count": 1262,
     "metadata": {},
     "output_type": "execute_result"
    }
   ],
   "source": [
    "link_list[1192]"
   ]
  },
  {
   "cell_type": "code",
   "execution_count": 1263,
   "metadata": {},
   "outputs": [
    {
     "data": {
      "text/plain": [
       "'Oscar\\n                    Mora for Valentino'"
      ]
     },
     "execution_count": 1263,
     "metadata": {},
     "output_type": "execute_result"
    }
   ],
   "source": [
    "captions = get_captions(soup)\n",
    "captions[0]"
   ]
  },
  {
   "cell_type": "markdown",
   "metadata": {},
   "source": [
    "This should get the same captions as before."
   ]
  },
  {
   "cell_type": "code",
   "execution_count": 1168,
   "metadata": {},
   "outputs": [],
   "source": [
    "assert captions == get_captions(get_page_soup(\"/web/20150913224145/http://www.newyorksocialdiary.com/party-pictures/2015/celebrating-the-neighborhood\"))"
   ]
  },
  {
   "cell_type": "code",
   "execution_count": 1169,
   "metadata": {},
   "outputs": [],
   "source": [
    "import spacy as sp"
   ]
  },
  {
   "cell_type": "code",
   "execution_count": 1170,
   "metadata": {},
   "outputs": [],
   "source": [
    "import spacy\n",
    "nlp = spacy.load(\"en_core_web_sm\")"
   ]
  },
  {
   "cell_type": "code",
   "execution_count": 1171,
   "metadata": {},
   "outputs": [
    {
     "data": {
      "text/plain": [
       "\"Glenn Adamson, Simon Doonan, Victoire de Castellane, Craig Leavitt, Jerome Chazen, Andi Potamkin, Ralph Pucci, Kirsten Bailey, Edwin Hathaway, and Dennis Freedman at the Museum of Art and Design's annual MAD BALL. \""
      ]
     },
     "execution_count": 1171,
     "metadata": {},
     "output_type": "execute_result"
    }
   ],
   "source": [
    "caption = captions[0]\n",
    "caption"
   ]
  },
  {
   "cell_type": "code",
   "execution_count": 1172,
   "metadata": {},
   "outputs": [
    {
     "name": "stdout",
     "output_type": "stream",
     "text": [
      "['PROPN', 'PROPN', 'PUNCT', 'PROPN', 'PROPN', 'PUNCT', 'PROPN', 'PROPN', 'PROPN', 'PUNCT', 'PROPN', 'PROPN', 'PUNCT', 'PROPN', 'PROPN', 'PUNCT', 'PROPN', 'PROPN', 'PUNCT', 'PROPN', 'PROPN', 'PUNCT', 'PROPN', 'PROPN', 'PUNCT', 'PROPN', 'PROPN', 'PUNCT', 'CCONJ', 'PROPN', 'PROPN', 'ADP', 'DET', 'PROPN', 'ADP', 'PROPN', 'CCONJ', 'PROPN', 'PART', 'ADJ', 'PROPN', 'NOUN', 'PUNCT']\n"
     ]
    }
   ],
   "source": [
    "doc = nlp(caption)\n",
    "tokens = [token.pos_ for token in doc]\n",
    "print(tokens)"
   ]
  },
  {
   "cell_type": "code",
   "execution_count": 1173,
   "metadata": {
    "collapsed": true
   },
   "outputs": [
    {
     "name": "stdout",
     "output_type": "stream",
     "text": [
      "Glenn PROPN compound\n",
      "Adamson PROPN ROOT\n",
      ", PUNCT punct\n",
      "Simon PROPN compound\n",
      "Doonan PROPN conj\n",
      ", PUNCT punct\n",
      "Victoire PROPN compound\n",
      "de PROPN compound\n",
      "Castellane PROPN conj\n",
      ", PUNCT punct\n",
      "Craig PROPN compound\n",
      "Leavitt PROPN conj\n",
      ", PUNCT punct\n",
      "Jerome PROPN compound\n",
      "Chazen PROPN conj\n",
      ", PUNCT punct\n",
      "Andi PROPN compound\n",
      "Potamkin PROPN conj\n",
      ", PUNCT punct\n",
      "Ralph PROPN compound\n",
      "Pucci PROPN conj\n",
      ", PUNCT punct\n",
      "Kirsten PROPN compound\n",
      "Bailey PROPN conj\n",
      ", PUNCT punct\n",
      "Edwin PROPN compound\n",
      "Hathaway PROPN conj\n",
      ", PUNCT punct\n",
      "and CCONJ cc\n",
      "Dennis PROPN compound\n",
      "Freedman PROPN conj\n",
      "at ADP prep\n",
      "the DET det\n",
      "Museum PROPN pobj\n",
      "of ADP prep\n",
      "Art PROPN pobj\n",
      "and CCONJ cc\n",
      "Design PROPN poss\n",
      "'s PART case\n",
      "annual ADJ amod\n",
      "MAD PROPN compound\n",
      "BALL NOUN conj\n",
      ". PUNCT punct\n"
     ]
    }
   ],
   "source": [
    "for token in doc:\n",
    "    print(token.text, token.pos_, token.dep_)\n",
    "    "
   ]
  },
  {
   "cell_type": "markdown",
   "metadata": {},
   "source": [
    "Now that we have some sample captions, let's start parsing names out of those captions.  There are many ways of going about this, and we leave the details up to you.  Some issues to consider:\n",
    "\n",
    "  1. Some captions are not useful: they contain long narrative texts that explain the event.  Try to find some heuristic rules to separate captions that are a list of names from those that are not.  A few heuristics include:\n",
    "    - look for sentences (which have verbs) and as opposed to lists of nouns. For example, [`nltk` does part of speech tagging](http://www.nltk.org/book/ch05.html) but it is a little slow. There may also be heuristics that accomplish the same thing.\n",
    "    - Similarly, spaCy's [entity recognition](https://spacy.io/docs/usage/entity-recognition) could be useful here.\n",
    "    - Look for commonly repeated threads (e.g. you might end up picking up the photo credits or people such as \"a friend\").\n",
    "    - Long captions are often not lists of people.  The cutoff is subjective, but for grading purposes, *set that cutoff at 250 characters*.\n",
    "  2. You will want to separate the captions based on various forms of punctuation.  Try using `re.split`, which is more sophisticated than `string.split`. **Note**: The reference solution uses regex exclusively for name parsing.\n",
    "  3. You might find a person named \"ra Lebenthal\".  There is no one by this name.  Can anyone spot what's happening here?\n",
    "  4. This site is pretty formal and likes to say things like \"Mayor Michael Bloomberg\" after his election but \"Michael Bloomberg\" before his election.  Can you find other ('optional') titles that are being used?  They should probably be filtered out because they ultimately refer to the same person: \"Michael Bloomberg.\"\n",
    "  5. There is a special case you might find where couples are written as eg. \"John and Mary Smith\". You will need to write some extra logic to make sure this properly parses to two names: \"John Smith\" and \"Mary Smith\".\n",
    "  6. When parsing names from captions, it can help to look at your output frequently and address the problems that you see coming up, iterating until you have a list that looks reasonable. This is the approach used in the reference solution. Because we can only asymptotically approach perfect identification and entity matching, we have to stop somewhere.\n",
    "  \n",
    "**Questions worth considering:**\n",
    "  1. Who is Patrick McMullan and should he be included in the results? How would you address this?\n",
    "  2. What else could you do to improve the quality of the graph's information?"
   ]
  },
  {
   "cell_type": "code",
   "execution_count": 1359,
   "metadata": {},
   "outputs": [],
   "source": [
    "def filter_captions(caption_list):\n",
    "    filtered_captions=[]\n",
    "    for caption in caption_list:\n",
    "        caption = caption.strip()\n",
    "        if len(caption) > 250:\n",
    "            next\n",
    "        else:\n",
    "            doc=nlp(caption)\n",
    "            tokens=[token.pos_ for token in doc]\n",
    "        \n",
    "            if ( 'VERB' in tokens or\n",
    "                 not 'PROPN' in tokens or\n",
    "                 re.search('^[Tt]he\\s', caption)\n",
    "               ):\n",
    "                #print(caption)\n",
    "                next\n",
    "                \n",
    "            else:\n",
    "                filtered_captions.append(caption)\n",
    "\n",
    "    return(filtered_captions)"
   ]
  },
  {
   "cell_type": "code",
   "execution_count": 1357,
   "metadata": {
    "scrolled": false
   },
   "outputs": [
    {
     "name": "stdout",
     "output_type": "stream",
     "text": [
      "94\n",
      "93\n"
     ]
    },
    {
     "data": {
      "text/plain": [
       "list"
      ]
     },
     "execution_count": 1357,
     "metadata": {},
     "output_type": "execute_result"
    }
   ],
   "source": [
    "filtered_captions = filter_captions(captions)\n",
    "print(len(captions))\n",
    "print(len(filtered_captions))\n",
    "type(filtered_captions)"
   ]
  },
  {
   "cell_type": "markdown",
   "metadata": {},
   "source": [
    "#### Test Cases"
   ]
  },
  {
   "cell_type": "markdown",
   "metadata": {},
   "source": [
    "caption = filtered_captions[2]\n",
    "#caption = \"Althea Goodwin, Bruce Lee, and James Lederman\"\n",
    "#caption = \"James Lederman and David Gloss\"\n",
    "#caption = \"James and David Lederman\"\n",
    "\n",
    "caption"
   ]
  },
  {
   "cell_type": "markdown",
   "metadata": {},
   "source": [
    "\n",
    "parts = re.split(r\",\\s+with\\s+|\\sat\\s|,\\s\", caption)\n",
    "#list_1 = [item for item in list_1 if item[2] >= 5 or item[3] >= 0.3]\n",
    "parts = [part.strip() for part in parts if not re.search('\\s?[Tt]he\\s', part)]\n",
    "parts"
   ]
  },
  {
   "cell_type": "markdown",
   "metadata": {},
   "source": [
    "#part = parts[9]\n",
    "part = \"James and David Lederman\"\n",
    "part\n",
    "\n",
    "p = re.search(r'^and\\s(.*)', part) #if a part starts with and ie 'and Dennis Freedman'\n",
    "print(p)"
   ]
  },
  {
   "cell_type": "markdown",
   "metadata": {},
   "source": [
    "if p:\n",
    "    names.append(p.group(1))\n",
    "names"
   ]
  },
  {
   "cell_type": "markdown",
   "metadata": {},
   "source": [
    "p = re.search(r'(.*)\\sand\\s(.*)', part) #if there's an and between two names\n",
    "p\n",
    "p.group(1)\n",
    "\n",
    "re.search(r' ', p.group(2))\n",
    "lastname = re.split(' ', p.group(2))[1]\n",
    "lastname\n",
    "p.group(1)+' '+lastname\n",
    "p.group(2)"
   ]
  },
  {
   "cell_type": "markdown",
   "metadata": {},
   "source": [
    "if p:\n",
    "    #if there's a space in the first name, it's probably a full name\n",
    "    if re.search(r' ', p.group(1)):\n",
    "        names.append(p.group(1))\n",
    "    else: #if not, it's prob just a first name as in 'Jane and John Doe'\n",
    "        lastname = re.split(' ', p.group(2))[1]\n",
    "    names.append(p.group(1)+' '+lastname)\n",
    "    names.append(p.group(2))\n",
    "names"
   ]
  },
  {
   "cell_type": "code",
   "execution_count": 1666,
   "metadata": {},
   "outputs": [],
   "source": [
    "def get_names(caption):\n",
    "    names = []\n",
    "    caption = re.sub(r'\\n', '', caption)\n",
    "    caption = re.sub(r'M\\.?D\\.?', '', caption) #remove MD and M.D.\n",
    "    caption = re.sub(r'Ph[Dd]', '', caption) #remove PhD and Phd\n",
    "    caption = re.sub(r'friend\\'?s?\\'?', '', caption) #remove friend, friends, friend's, friends'\n",
    "    caption = re.sub(r',\\sa\\s', ' ', caption) #replace ', a ' with a space\n",
    "    caption = re.sub(r',\\s?Jr.', ' Jr.', caption) #change 'James Lederman, Jr.' to James Lederman_Jr\n",
    "    \n",
    "    parts = re.split(r\",?\\s+with\\s+|\\sat\\s|,\\s\", caption)\n",
    "    parts = [part for part in parts if not re.search('\\s?[Tt]he\\s', part)]\n",
    "\n",
    "    for part in parts:\n",
    "        p = re.search(r'^and\\s(.*)', part) #if a part starts with and ie 'and Dennis Freedman'\n",
    "        if p:\n",
    "            names.append(p.group(1))\n",
    "        \n",
    "        elif re.search(r'(.*)\\sand\\s(.*)', part):\n",
    "            p = re.search(r'(.*)\\sand\\s(.*)', part) #if there's an 'and' between two names\n",
    "            if p:\n",
    "                #if there's a space in the first name, it's probably a full name\n",
    "                if re.search(r' ', p.group(1)):\n",
    "                    names.append(p.group(1))\n",
    "                    names.append(p.group(2))\n",
    "                elif re.search('. .', p.group(2)): #if not, it's prob just a first name as in 'Jane and John Doe'\n",
    "                    #print(caption)\n",
    "                    lastname = re.split(' ', p.group(2))[1]\n",
    "                    names.append(p.group(1)+' '+lastname)\n",
    "                    names.append(p.group(2))\n",
    "                else:\n",
    "                    next\n",
    "        else:\n",
    "            names.append(part)\n",
    "    \n",
    "    #strip whitespace and exclude Patrick McMullan, a photographer\n",
    "    names = [name.strip() for name in names]\n",
    "    names = [name for name in names if not re.search('Patrick McMullan', name)]\n",
    "    #names = [name.strip(\"'s\") for name in names if not re.search('\"', name)]\n",
    "    names = [name for name in names if not len(name)==0]\n",
    "    return names"
   ]
  },
  {
   "cell_type": "code",
   "execution_count": 1605,
   "metadata": {},
   "outputs": [
    {
     "data": {
      "text/plain": [
       "'Mandolins, guitars, accordions and more give Poor Old Shine their unique sound JHC Board members Bob Garry and Jim Kelsey with friends and family'"
      ]
     },
     "execution_count": 1605,
     "metadata": {},
     "output_type": "execute_result"
    }
   ],
   "source": [
    "caption"
   ]
  },
  {
   "cell_type": "code",
   "execution_count": 1486,
   "metadata": {},
   "outputs": [],
   "source": [
    "caption = \"Mandolins, guitars, accordions and more give Poor Old Shine their unique sound JHC Board members Bob Garry and Jim Kelsey with friends and family\""
   ]
  },
  {
   "cell_type": "code",
   "execution_count": 1487,
   "metadata": {},
   "outputs": [
    {
     "data": {
      "text/plain": [
       "['NOUN',\n",
       " 'PUNCT',\n",
       " 'NOUN',\n",
       " 'PUNCT',\n",
       " 'NOUN',\n",
       " 'CCONJ',\n",
       " 'ADJ',\n",
       " 'VERB',\n",
       " 'PROPN',\n",
       " 'PROPN',\n",
       " 'VERB',\n",
       " 'DET',\n",
       " 'ADJ',\n",
       " 'NOUN',\n",
       " 'PROPN',\n",
       " 'PROPN',\n",
       " 'NOUN',\n",
       " 'PROPN',\n",
       " 'PROPN',\n",
       " 'CCONJ',\n",
       " 'PROPN',\n",
       " 'PROPN',\n",
       " 'ADP',\n",
       " 'NOUN',\n",
       " 'CCONJ',\n",
       " 'NOUN']"
      ]
     },
     "execution_count": 1487,
     "metadata": {},
     "output_type": "execute_result"
    }
   ],
   "source": [
    "doc=nlp(caption)\n",
    "tokens=[token.pos_ for token in doc]\n",
    "\n",
    "tokens"
   ]
  },
  {
   "cell_type": "code",
   "execution_count": 1281,
   "metadata": {
    "collapsed": true
   },
   "outputs": [
    {
     "data": {
      "text/plain": [
       "[\"Glenn Adamson, Simon Doonan, Victoire de Castellane, Craig Leavitt, Jerome Chazen, Andi Potamkin, Ralph Pucci, Kirsten Bailey, Edwin Hathaway, and Dennis Freedman at the Museum of Art and Design's annual MAD BALL.\",\n",
       " 'Randy Takian',\n",
       " 'Kamie Lightburn and Christopher Spitzmiller',\n",
       " 'Christopher Spitzmiller and Diana Quasha',\n",
       " 'Mariam Azarm, Sana Sabbagh, and Lynette Dallas',\n",
       " 'Christopher Spitzmiller, Sydney Shuman, and Matthew Bees',\n",
       " 'Christopher Spitzmiller and Tom Edelman',\n",
       " 'Warren Scharf and Sydney Shuman',\n",
       " 'Amory McAndrew and Sean McAndrew',\n",
       " 'Sydney Shuman, Mario Buatta, and Helene Tilney',\n",
       " 'Katherine DeConti and Elijah Duckworth-Schachter',\n",
       " 'John Rosselli and Elizabeth Swartz',\n",
       " 'Stephen Simcock, Lee Strock, and Thomas Hammer',\n",
       " 'Searcy Dryden, Lesley Dryden, Richard Lightburn, and Michel Witmer',\n",
       " 'Jennifer Cacioppo and Kevin Michael Barba',\n",
       " 'Virginia Wilbanks and Lacary Sharpe',\n",
       " 'Valentin Hernandez, Yaz Hernandez, Chele Farley, and James Farley',\n",
       " 'Harry Heissmann, Angela Clofine, and Michael Clofine',\n",
       " 'Jared Goss and Kristina Stewart Ward',\n",
       " 'Alex Papachristidis and Mario Buatta',\n",
       " 'Nick Olsen, Lindsey Coral Harper, Alberto Villalobos, and David Duncan',\n",
       " 'Caroline Dean, Christopher Spitzmiller, and Ellen Niven',\n",
       " 'Debbie Bancroft and David Svanda',\n",
       " 'Julia Weld and Christopher Spitzmiller',\n",
       " 'Kevin Lichten, Robert Ruffino, Joan Craig, and Michael McGraw',\n",
       " 'Roric Tobin, Chele Farley, Richard Farley, and Geoffrey Bradfield',\n",
       " 'Lacary Sharpe, Kamie Lightburn, and Emily Leonard',\n",
       " 'Dr. Doug Steinbrech and Mary Van Pelt',\n",
       " 'Kathy  and Othon Prounis',\n",
       " 'Victoire de Castellane, Dennis Freedman, Andi Potamkin, and Ralph Pucci',\n",
       " 'Donald Tober, Barbara Tober, Linda Fargo, and Bjorn Wallander',\n",
       " 'Andi Potamkin, Glenn Adamson, Ralph Pucci, Victoire de Castellane, Dennis Freedman, and Craig Leavitt',\n",
       " 'Celia Morrissette and Keith Johnson',\n",
       " 'Simon Doonan',\n",
       " 'Sandra Gering and Julia Kuni',\n",
       " 'Alexandra Richards and Paul Longo',\n",
       " 'Bryna and Martin Pomp',\n",
       " 'Neville Wakefield',\n",
       " 'Caroline Cokley',\n",
       " 'Ryan Davis',\n",
       " 'Freddie Leiba and Cynthia Adler',\n",
       " 'Rick and Leticia Presutti',\n",
       " 'Glenn Adamson and Ebony G. Patterson',\n",
       " 'Lowery Stokes Sims and C. Virginia Fields',\n",
       " 'Barbara Regna',\n",
       " 'Deborah Lloyd',\n",
       " 'Kelly  and Jay Sugarman',\n",
       " 'Steve Evans, Kate White, Liz Nacey, Anne Strickland, Patrick Jones, and Jennifer Fujitani',\n",
       " 'Wendy Diamond',\n",
       " 'Tood Eberle and Gina Nanni',\n",
       " 'Linda Fargo and Bjorn Wallander',\n",
       " 'Tony Ingrao and Randy Kemper',\n",
       " 'C. Virginia Fields, Gordan Kenney, and Jill Huggins',\n",
       " 'Wendy MacGaw and Howard Ben Tre',\n",
       " 'Laura  and Lewis Kruger',\n",
       " 'Deborah Marton (Executive Director of the NYRP)',\n",
       " 'Bette Midler',\n",
       " 'Lance LePere and Michael Kors',\n",
       " \"Linda Allard's party\",\n",
       " 'Mrs. and Mrs. Ben Needell Esq.',\n",
       " 'Nile Rodgers and Bette Midler',\n",
       " 'Todd DeGarmo and Deborah Marton',\n",
       " 'Samuel Kelly',\n",
       " 'David and Lola Rockwell',\n",
       " 'Davon Windsor and Rachel Hilbert',\n",
       " 'Honorees Sheryl and and Dan Tishman with Bette Midler',\n",
       " 'Darcy Stacom',\n",
       " 'Judy Gold and Bette Midler',\n",
       " 'Kevin and Michelle Fox',\n",
       " 'Jane Krakowski, Michael Kors, Bette Midler, and Lance LePere',\n",
       " 'Shoshanna Gruss and Dr. Drew Schiff',\n",
       " 'Margo and Jimmy Nederlander',\n",
       " 'Nederlander table as Zombie Gillian’s Island',\n",
       " 'Jon Recor',\n",
       " 'Shelly Malkin and Nathalie Gerschel Kaplan',\n",
       " 'Douglas Little and friend',\n",
       " 'Martin von Haselberg',\n",
       " 'Mr. and Mrs. Allen Swerdlick',\n",
       " \"Ta'Rhonda Jones of Empire (on right)\",\n",
       " 'Lance LePere, Jane Krakowski, and Michael Kors',\n",
       " 'Kelly Bensimon and John Demsey',\n",
       " 'Michael Kors and Lauren duPont',\n",
       " 'Nancy Hunt, Bette Midler, and Nile Rodgers',\n",
       " 'Nile Rodgers & CHIC with Bette Midler on stage',\n",
       " 'Richard and Donna Soloway',\n",
       " 'Barbara  and Peter Regna',\n",
       " 'Jonas Barcellos and friends',\n",
       " 'Michelle Halpern, Mark Robinson, and Lisa Halpern',\n",
       " 'Clark  and Esra Munnell',\n",
       " 'Elizabeth Johnson and friends',\n",
       " 'Wendy Carduner and George Perry',\n",
       " 'Lisa and Tom Wilkenson',\n",
       " 'Stacy Reilly and friends',\n",
       " 'Eveyln Subramaniam',\n",
       " 'Sarah and Chips Page',\n",
       " 'Mrs. DeMaurier and friend',\n",
       " 'Jim Killerlane and Allison Minton',\n",
       " 'Liana Makkos',\n",
       " 'Ken and Maria Fishel, Tina Wong, and George Perry',\n",
       " 'Marisa Rose and \"KISS\" friends',\n",
       " 'Eveyln Subramaniam',\n",
       " 'Alexis Mersentes and Doris Liebman']"
      ]
     },
     "execution_count": 1281,
     "metadata": {},
     "output_type": "execute_result"
    }
   ],
   "source": [
    "filtered_captions"
   ]
  },
  {
   "cell_type": "code",
   "execution_count": 1282,
   "metadata": {
    "collapsed": true
   },
   "outputs": [
    {
     "data": {
      "text/plain": [
       "[['Glenn Adamson',\n",
       "  'Simon Doonan',\n",
       "  'Victoire de Castellane',\n",
       "  'Craig Leavitt',\n",
       "  'Jerome Chazen',\n",
       "  'Andi Potamkin',\n",
       "  'Ralph Pucci',\n",
       "  'Kirsten Bailey',\n",
       "  'Edwin Hathaway',\n",
       "  'Dennis Freedman'],\n",
       " ['Randy Takian'],\n",
       " ['Kamie Lightburn', 'Christopher Spitzmiller'],\n",
       " ['Christopher Spitzmiller', 'Diana Quasha'],\n",
       " ['Mariam Azarm', 'Sana Sabbagh', 'Lynette Dallas'],\n",
       " ['Christopher Spitzmiller', 'Sydney Shuman', 'Matthew Bees'],\n",
       " ['Christopher Spitzmiller', 'Tom Edelman'],\n",
       " ['Warren Scharf', 'Sydney Shuman'],\n",
       " ['Amory McAndrew', 'Sean McAndrew'],\n",
       " ['Sydney Shuman', 'Mario Buatta', 'Helene Tilney'],\n",
       " ['Katherine DeConti', 'Elijah Duckworth-Schachter'],\n",
       " ['John Rosselli', 'Elizabeth Swartz'],\n",
       " ['Stephen Simcock', 'Lee Strock', 'Thomas Hammer'],\n",
       " ['Searcy Dryden', 'Lesley Dryden', 'Richard Lightburn', 'Michel Witmer'],\n",
       " ['Jennifer Cacioppo', 'Kevin Michael Barba'],\n",
       " ['Virginia Wilbanks', 'Lacary Sharpe'],\n",
       " ['Valentin Hernandez', 'Yaz Hernandez', 'Chele Farley', 'James Farley'],\n",
       " ['Harry Heissmann', 'Angela Clofine', 'Michael Clofine'],\n",
       " ['Jared Goss', 'Kristina Stewart Ward'],\n",
       " ['Alex Papachristidis', 'Mario Buatta'],\n",
       " ['Nick Olsen', 'Lindsey Coral Harper', 'Alberto Villalobos', 'David Duncan'],\n",
       " ['Caroline Dean', 'Christopher Spitzmiller', 'Ellen Niven'],\n",
       " ['Debbie Bancroft', 'David Svanda'],\n",
       " ['Julia Weld', 'Christopher Spitzmiller'],\n",
       " ['Kevin Lichten', 'Robert Ruffino', 'Joan Craig', 'Michael McGraw'],\n",
       " ['Roric Tobin', 'Chele Farley', 'Richard Farley', 'Geoffrey Bradfield'],\n",
       " ['Lacary Sharpe', 'Kamie Lightburn', 'Emily Leonard'],\n",
       " ['Dr. Doug Steinbrech', 'Mary Van Pelt'],\n",
       " ['Kathy', 'Othon Prounis'],\n",
       " ['Victoire de Castellane', 'Dennis Freedman', 'Andi Potamkin', 'Ralph Pucci'],\n",
       " ['Donald Tober', 'Barbara Tober', 'Linda Fargo', 'Bjorn Wallander'],\n",
       " ['Andi Potamkin',\n",
       "  'Glenn Adamson',\n",
       "  'Ralph Pucci',\n",
       "  'Victoire de Castellane',\n",
       "  'Dennis Freedman',\n",
       "  'Craig Leavitt'],\n",
       " ['Celia Morrissette', 'Keith Johnson'],\n",
       " ['Simon Doonan'],\n",
       " ['Sandra Gering', 'Julia Kuni'],\n",
       " ['Alexandra Richards', 'Paul Longo'],\n",
       " ['Bryna Pomp', 'Martin Pomp'],\n",
       " ['Neville Wakefield'],\n",
       " ['Caroline Cokley'],\n",
       " ['Ryan Davis'],\n",
       " ['Freddie Leiba', 'Cynthia Adler'],\n",
       " ['Rick Presutti', 'Leticia Presutti'],\n",
       " ['Glenn Adamson', 'Ebony G. Patterson'],\n",
       " ['Lowery Stokes Sims', 'C. Virginia Fields'],\n",
       " ['Barbara Regna'],\n",
       " ['Deborah Lloyd'],\n",
       " ['Kelly', 'Jay Sugarman'],\n",
       " ['Steve Evans',\n",
       "  'Kate White',\n",
       "  'Liz Nacey',\n",
       "  'Anne Strickland',\n",
       "  'Patrick Jones',\n",
       "  'Jennifer Fujitani'],\n",
       " ['Wendy Diamond'],\n",
       " ['Tood Eberle', 'Gina Nanni'],\n",
       " ['Linda Fargo', 'Bjorn Wallander'],\n",
       " ['Tony Ingrao', 'Randy Kemper'],\n",
       " ['C. Virginia Fields', 'Gordan Kenney', 'Jill Huggins'],\n",
       " ['Wendy MacGaw', 'Howard Ben Tre'],\n",
       " ['Laura', 'Lewis Kruger'],\n",
       " [],\n",
       " ['Bette Midler'],\n",
       " ['Lance LePere', 'Michael Kors'],\n",
       " [\"Linda Allard's party\"],\n",
       " ['Mrs. Ben', 'Mrs. Ben Needell Esq.'],\n",
       " ['Nile Rodgers', 'Bette Midler'],\n",
       " ['Todd DeGarmo', 'Deborah Marton'],\n",
       " ['Samuel Kelly'],\n",
       " ['David Rockwell', 'Lola Rockwell'],\n",
       " ['Davon Windsor', 'Rachel Hilbert'],\n",
       " ['Honorees Sheryl and', 'Dan Tishman', 'Bette Midler'],\n",
       " ['Darcy Stacom'],\n",
       " ['Judy Gold', 'Bette Midler'],\n",
       " ['Kevin Fox', 'Michelle Fox'],\n",
       " ['Jane Krakowski', 'Michael Kors', 'Bette Midler', 'Lance LePere'],\n",
       " ['Shoshanna Gruss', 'Dr. Drew Schiff'],\n",
       " ['Margo Nederlander', 'Jimmy Nederlander'],\n",
       " ['Nederlander table as Zombie Gillian’s Island'],\n",
       " ['Jon Recor'],\n",
       " ['Shelly Malkin', 'Nathalie Gerschel Kaplan'],\n",
       " ['Douglas Little', 'friend'],\n",
       " ['Martin von Haselberg'],\n",
       " ['Mr. Allen', 'Mrs. Allen Swerdlick'],\n",
       " [\"Ta'Rhonda Jones of Empire (on right)\"],\n",
       " ['Lance LePere', 'Jane Krakowski', 'Michael Kors'],\n",
       " ['Kelly Bensimon', 'John Demsey'],\n",
       " ['Michael Kors', 'Lauren duPont'],\n",
       " ['Nancy Hunt', 'Bette Midler', 'Nile Rodgers'],\n",
       " ['Nile Rodgers & CHIC', 'Bette Midler on stage'],\n",
       " ['Richard Soloway', 'Donna Soloway'],\n",
       " ['Barbara', 'Peter Regna'],\n",
       " ['Jonas Barcellos', 'friends'],\n",
       " ['Michelle Halpern', 'Mark Robinson', 'Lisa Halpern'],\n",
       " ['Clark', 'Esra Munnell'],\n",
       " ['Elizabeth Johnson', 'friends'],\n",
       " ['Wendy Carduner', 'George Perry'],\n",
       " ['Lisa Wilkenson', 'Tom Wilkenson'],\n",
       " ['Stacy Reilly', 'friends'],\n",
       " ['Eveyln Subramaniam'],\n",
       " ['Sarah Page', 'Chips Page'],\n",
       " ['Mrs. DeMaurier', 'friend'],\n",
       " ['Jim Killerlane', 'Allison Minton'],\n",
       " ['Liana Makkos'],\n",
       " ['Ken Fishel', 'Maria Fishel', 'Tina Wong', 'George Perry'],\n",
       " ['Marisa Rose', '\"KISS\" friends'],\n",
       " ['Eveyln Subramaniam'],\n",
       " ['Alexis Mersentes', 'Doris Liebman']]"
      ]
     },
     "execution_count": 1282,
     "metadata": {},
     "output_type": "execute_result"
    }
   ],
   "source": [
    "names = [get_names(caption) for caption in filtered_captions]\n",
    "names"
   ]
  },
  {
   "cell_type": "markdown",
   "metadata": {},
   "source": [
    "## Question 2: sample_names\n"
   ]
  },
  {
   "cell_type": "markdown",
   "metadata": {},
   "source": [
    "Once you feel that your algorithm is working well on these captions, parse all of the captions and extract all the names mentioned.  Sort them alphabetically, by first name, and return the first hundred."
   ]
  },
  {
   "cell_type": "code",
   "execution_count": 1283,
   "metadata": {},
   "outputs": [],
   "source": [
    "sample_names = []"
   ]
  },
  {
   "cell_type": "code",
   "execution_count": 1284,
   "metadata": {
    "collapsed": true
   },
   "outputs": [
    {
     "data": {
      "text/plain": [
       "['Glenn Adamson',\n",
       " 'Simon Doonan',\n",
       " 'Victoire de Castellane',\n",
       " 'Craig Leavitt',\n",
       " 'Jerome Chazen',\n",
       " 'Andi Potamkin',\n",
       " 'Ralph Pucci',\n",
       " 'Kirsten Bailey',\n",
       " 'Edwin Hathaway',\n",
       " 'Dennis Freedman',\n",
       " 'Randy Takian',\n",
       " 'Kamie Lightburn',\n",
       " 'Christopher Spitzmiller',\n",
       " 'Christopher Spitzmiller',\n",
       " 'Diana Quasha',\n",
       " 'Mariam Azarm',\n",
       " 'Sana Sabbagh',\n",
       " 'Lynette Dallas',\n",
       " 'Christopher Spitzmiller',\n",
       " 'Sydney Shuman',\n",
       " 'Matthew Bees',\n",
       " 'Christopher Spitzmiller',\n",
       " 'Tom Edelman',\n",
       " 'Warren Scharf',\n",
       " 'Sydney Shuman',\n",
       " 'Amory McAndrew',\n",
       " 'Sean McAndrew',\n",
       " 'Sydney Shuman',\n",
       " 'Mario Buatta',\n",
       " 'Helene Tilney',\n",
       " 'Katherine DeConti',\n",
       " 'Elijah Duckworth-Schachter',\n",
       " 'John Rosselli',\n",
       " 'Elizabeth Swartz',\n",
       " 'Stephen Simcock',\n",
       " 'Lee Strock',\n",
       " 'Thomas Hammer',\n",
       " 'Searcy Dryden',\n",
       " 'Lesley Dryden',\n",
       " 'Richard Lightburn',\n",
       " 'Michel Witmer',\n",
       " 'Jennifer Cacioppo',\n",
       " 'Kevin Michael Barba',\n",
       " 'Virginia Wilbanks',\n",
       " 'Lacary Sharpe',\n",
       " 'Valentin Hernandez',\n",
       " 'Yaz Hernandez',\n",
       " 'Chele Farley',\n",
       " 'James Farley',\n",
       " 'Harry Heissmann',\n",
       " 'Angela Clofine',\n",
       " 'Michael Clofine',\n",
       " 'Jared Goss',\n",
       " 'Kristina Stewart Ward',\n",
       " 'Alex Papachristidis',\n",
       " 'Mario Buatta',\n",
       " 'Nick Olsen',\n",
       " 'Lindsey Coral Harper',\n",
       " 'Alberto Villalobos',\n",
       " 'David Duncan',\n",
       " 'Caroline Dean',\n",
       " 'Christopher Spitzmiller',\n",
       " 'Ellen Niven',\n",
       " 'Debbie Bancroft',\n",
       " 'David Svanda',\n",
       " 'Julia Weld',\n",
       " 'Christopher Spitzmiller',\n",
       " 'Kevin Lichten',\n",
       " 'Robert Ruffino',\n",
       " 'Joan Craig',\n",
       " 'Michael McGraw',\n",
       " 'Roric Tobin',\n",
       " 'Chele Farley',\n",
       " 'Richard Farley',\n",
       " 'Geoffrey Bradfield',\n",
       " 'Lacary Sharpe',\n",
       " 'Kamie Lightburn',\n",
       " 'Emily Leonard',\n",
       " 'Dr. Doug Steinbrech',\n",
       " 'Mary Van Pelt',\n",
       " 'Kathy',\n",
       " 'Othon Prounis',\n",
       " 'Victoire de Castellane',\n",
       " 'Dennis Freedman',\n",
       " 'Andi Potamkin',\n",
       " 'Ralph Pucci',\n",
       " 'Donald Tober',\n",
       " 'Barbara Tober',\n",
       " 'Linda Fargo',\n",
       " 'Bjorn Wallander',\n",
       " 'Andi Potamkin',\n",
       " 'Glenn Adamson',\n",
       " 'Ralph Pucci',\n",
       " 'Victoire de Castellane',\n",
       " 'Dennis Freedman',\n",
       " 'Craig Leavitt',\n",
       " 'Celia Morrissette',\n",
       " 'Keith Johnson',\n",
       " 'Simon Doonan',\n",
       " 'Sandra Gering',\n",
       " 'Julia Kuni',\n",
       " 'Alexandra Richards',\n",
       " 'Paul Longo',\n",
       " 'Bryna Pomp',\n",
       " 'Martin Pomp',\n",
       " 'Neville Wakefield',\n",
       " 'Caroline Cokley',\n",
       " 'Ryan Davis',\n",
       " 'Freddie Leiba',\n",
       " 'Cynthia Adler',\n",
       " 'Rick Presutti',\n",
       " 'Leticia Presutti',\n",
       " 'Glenn Adamson',\n",
       " 'Ebony G. Patterson',\n",
       " 'Lowery Stokes Sims',\n",
       " 'C. Virginia Fields',\n",
       " 'Barbara Regna',\n",
       " 'Deborah Lloyd',\n",
       " 'Kelly',\n",
       " 'Jay Sugarman',\n",
       " 'Steve Evans',\n",
       " 'Kate White',\n",
       " 'Liz Nacey',\n",
       " 'Anne Strickland',\n",
       " 'Patrick Jones',\n",
       " 'Jennifer Fujitani',\n",
       " 'Wendy Diamond',\n",
       " 'Tood Eberle',\n",
       " 'Gina Nanni',\n",
       " 'Linda Fargo',\n",
       " 'Bjorn Wallander',\n",
       " 'Tony Ingrao',\n",
       " 'Randy Kemper',\n",
       " 'C. Virginia Fields',\n",
       " 'Gordan Kenney',\n",
       " 'Jill Huggins',\n",
       " 'Wendy MacGaw',\n",
       " 'Howard Ben Tre',\n",
       " 'Laura',\n",
       " 'Lewis Kruger',\n",
       " 'Bette Midler',\n",
       " 'Lance LePere',\n",
       " 'Michael Kors',\n",
       " \"Linda Allard's party\",\n",
       " 'Mrs. Ben',\n",
       " 'Mrs. Ben Needell Esq.',\n",
       " 'Nile Rodgers',\n",
       " 'Bette Midler',\n",
       " 'Todd DeGarmo',\n",
       " 'Deborah Marton',\n",
       " 'Samuel Kelly',\n",
       " 'David Rockwell',\n",
       " 'Lola Rockwell',\n",
       " 'Davon Windsor',\n",
       " 'Rachel Hilbert',\n",
       " 'Honorees Sheryl and',\n",
       " 'Dan Tishman',\n",
       " 'Bette Midler',\n",
       " 'Darcy Stacom',\n",
       " 'Judy Gold',\n",
       " 'Bette Midler',\n",
       " 'Kevin Fox',\n",
       " 'Michelle Fox',\n",
       " 'Jane Krakowski',\n",
       " 'Michael Kors',\n",
       " 'Bette Midler',\n",
       " 'Lance LePere',\n",
       " 'Shoshanna Gruss',\n",
       " 'Dr. Drew Schiff',\n",
       " 'Margo Nederlander',\n",
       " 'Jimmy Nederlander',\n",
       " 'Nederlander table as Zombie Gillian’s Island',\n",
       " 'Jon Recor',\n",
       " 'Shelly Malkin',\n",
       " 'Nathalie Gerschel Kaplan',\n",
       " 'Douglas Little',\n",
       " 'friend',\n",
       " 'Martin von Haselberg',\n",
       " 'Mr. Allen',\n",
       " 'Mrs. Allen Swerdlick',\n",
       " \"Ta'Rhonda Jones of Empire (on right)\",\n",
       " 'Lance LePere',\n",
       " 'Jane Krakowski',\n",
       " 'Michael Kors',\n",
       " 'Kelly Bensimon',\n",
       " 'John Demsey',\n",
       " 'Michael Kors',\n",
       " 'Lauren duPont',\n",
       " 'Nancy Hunt',\n",
       " 'Bette Midler',\n",
       " 'Nile Rodgers',\n",
       " 'Nile Rodgers & CHIC',\n",
       " 'Bette Midler on stage',\n",
       " 'Richard Soloway',\n",
       " 'Donna Soloway',\n",
       " 'Barbara',\n",
       " 'Peter Regna',\n",
       " 'Jonas Barcellos',\n",
       " 'friends',\n",
       " 'Michelle Halpern',\n",
       " 'Mark Robinson',\n",
       " 'Lisa Halpern',\n",
       " 'Clark',\n",
       " 'Esra Munnell',\n",
       " 'Elizabeth Johnson',\n",
       " 'friends',\n",
       " 'Wendy Carduner',\n",
       " 'George Perry',\n",
       " 'Lisa Wilkenson',\n",
       " 'Tom Wilkenson',\n",
       " 'Stacy Reilly',\n",
       " 'friends',\n",
       " 'Eveyln Subramaniam',\n",
       " 'Sarah Page',\n",
       " 'Chips Page',\n",
       " 'Mrs. DeMaurier',\n",
       " 'friend',\n",
       " 'Jim Killerlane',\n",
       " 'Allison Minton',\n",
       " 'Liana Makkos',\n",
       " 'Ken Fishel',\n",
       " 'Maria Fishel',\n",
       " 'Tina Wong',\n",
       " 'George Perry',\n",
       " 'Marisa Rose',\n",
       " '\"KISS\" friends',\n",
       " 'Eveyln Subramaniam',\n",
       " 'Alexis Mersentes',\n",
       " 'Doris Liebman']"
      ]
     },
     "execution_count": 1284,
     "metadata": {},
     "output_type": "execute_result"
    }
   ],
   "source": [
    "[sample_names.extend(get_names(caption)) for caption in filtered_captions]\n",
    "sample_names"
   ]
  },
  {
   "cell_type": "code",
   "execution_count": null,
   "metadata": {},
   "outputs": [],
   "source": [
    "unique_names = []\n",
    "for name in sample_names:\n",
    "    if not name in unique_names:\n",
    "        unique_names.append(name)\n",
    "    else:\n",
    "        next\n",
    "sample_names = unique_names\n"
   ]
  },
  {
   "cell_type": "code",
   "execution_count": 1286,
   "metadata": {
    "collapsed": true
   },
   "outputs": [
    {
     "name": "stdout",
     "output_type": "stream",
     "text": [
      "['\"KISS\" friends', 'Alberto Villalobos', 'Alex Papachristidis', 'Alexandra Richards', 'Alexis Mersentes', 'Allison Minton', 'Amory McAndrew', 'Andi Potamkin', 'Angela Clofine', 'Anne Strickland', 'Barbara', 'Barbara Regna', 'Barbara Tober', 'Bette Midler', 'Bette Midler on stage', 'Bjorn Wallander', 'Bryna Pomp', 'C. Virginia Fields', 'Caroline Cokley', 'Caroline Dean', 'Celia Morrissette', 'Chele Farley', 'Chips Page', 'Christopher Spitzmiller', 'Clark', 'Craig Leavitt', 'Cynthia Adler', 'Dan Tishman', 'Darcy Stacom', 'David Duncan', 'David Rockwell', 'David Svanda', 'Davon Windsor', 'Debbie Bancroft', 'Deborah Lloyd', 'Deborah Marton', 'Dennis Freedman', 'Diana Quasha', 'Donald Tober', 'Donna Soloway', 'Doris Liebman', 'Douglas Little', 'Dr. Doug Steinbrech', 'Dr. Drew Schiff', 'Ebony G. Patterson', 'Edwin Hathaway', 'Elijah Duckworth-Schachter', 'Elizabeth Johnson', 'Elizabeth Swartz', 'Ellen Niven', 'Emily Leonard', 'Esra Munnell', 'Eveyln Subramaniam', 'Freddie Leiba', 'Geoffrey Bradfield', 'George Perry', 'Gina Nanni', 'Glenn Adamson', 'Gordan Kenney', 'Harry Heissmann', 'Helene Tilney', 'Honorees Sheryl and', 'Howard Ben Tre', 'James Farley', 'Jane Krakowski', 'Jared Goss', 'Jay Sugarman', 'Jennifer Cacioppo', 'Jennifer Fujitani', 'Jerome Chazen', 'Jill Huggins', 'Jim Killerlane', 'Jimmy Nederlander', 'Joan Craig', 'John Demsey', 'John Rosselli', 'Jon Recor', 'Jonas Barcellos', 'Judy Gold', 'Julia Kuni', 'Julia Weld', 'Kamie Lightburn', 'Kate White', 'Katherine DeConti', 'Kathy', 'Keith Johnson', 'Kelly', 'Kelly Bensimon', 'Ken Fishel', 'Kevin Fox', 'Kevin Lichten', 'Kevin Michael Barba', 'Kirsten Bailey', 'Kristina Stewart Ward', 'Lacary Sharpe', 'Lance LePere', 'Laura', 'Lauren duPont', 'Lee Strock', 'Lesley Dryden']\n"
     ]
    }
   ],
   "source": [
    "#sample_names = [\"Caroline Dean\"] * 100\n",
    "\n",
    "sample_names = sorted(sample_names)[:100]\n",
    "print(sample_names)"
   ]
  },
  {
   "cell_type": "code",
   "execution_count": 1287,
   "metadata": {},
   "outputs": [
    {
     "name": "stdout",
     "output_type": "stream",
     "text": [
      "==================\n",
      "Your score:  0.9600000000000006\n",
      "==================\n"
     ]
    }
   ],
   "source": [
    "#sample_names = [\"Caroline Dean\"] * 100\n",
    "\n",
    "grader.score('graph__sample_names', sample_names)"
   ]
  },
  {
   "cell_type": "markdown",
   "metadata": {},
   "source": [
    "Now, run this sort of test on a few other pages.  You will probably find that other pages have a slightly different HTML structure, as well as new captions that trip up your caption parser.  But don't worry if the parser isn't perfect -- just try to get the easy cases."
   ]
  },
  {
   "cell_type": "markdown",
   "metadata": {},
   "source": [
    "## Phase Three\n"
   ]
  },
  {
   "cell_type": "markdown",
   "metadata": {},
   "source": [
    "Once you are satisfied that your caption scraper and parser are working, run this for all of the pages.  If you haven't implemented some caching of the captions, you probably want to do this first."
   ]
  },
  {
   "cell_type": "code",
   "execution_count": 1288,
   "metadata": {},
   "outputs": [
    {
     "data": {
      "text/plain": [
       "26"
      ]
     },
     "execution_count": 1288,
     "metadata": {},
     "output_type": "execute_result"
    }
   ],
   "source": [
    "# Scraping all of the pages could take 10 minutes or so.\n",
    "len(futures)"
   ]
  },
  {
   "cell_type": "code",
   "execution_count": 1289,
   "metadata": {},
   "outputs": [
    {
     "name": "stdout",
     "output_type": "stream",
     "text": [
      "26\n"
     ]
    }
   ],
   "source": [
    "from requests_futures.sessions import FuturesSession\n",
    "session = FuturesSession(max_workers=30)\n",
    "\n",
    "page0 = session.get('https://web.archive.org/web/20150913224145/http://www.newyorksocialdiary.com/party-pictures')\n",
    "\n",
    "type(page0)\n",
    "\n",
    "futures=[page0]\n",
    "for page_num in range(1,26):\n",
    "    url=\"https://web.archive.org/web/20150913224145/http://www.newyorksocialdiary.com/party-pictures?page={}\".format(page_num)\n",
    "    futures.append(session.get(url))\n",
    "\n",
    "print(len(futures))"
   ]
  },
  {
   "cell_type": "code",
   "execution_count": 1290,
   "metadata": {},
   "outputs": [],
   "source": [
    "def get_page_soup_fut(path):\n",
    "    url = str('https://web.archive.org' + path)\n",
    "    page = session.get(url)\n",
    "    soup = BeautifulSoup(page.result().content, \"lxml\")\n",
    "    return soup\n",
    "\n",
    "# def get_captions(soup):\n",
    "#     #page = requests.get('https://web.archive.org' + path)\n",
    "#     #soup = BeautifulSoup(page.text, \"lxml\")\n",
    "#     captions = soup.find_all('div', {'class': 'photocaption'})\n",
    "#     captions = [caption.text for caption in captions]\n",
    "#     return captions"
   ]
  },
  {
   "cell_type": "markdown",
   "metadata": {},
   "source": [
    "soups = [get_page_soup_fut(link[0]) for link in link_list]"
   ]
  },
  {
   "cell_type": "code",
   "execution_count": null,
   "metadata": {},
   "outputs": [],
   "source": []
  },
  {
   "cell_type": "code",
   "execution_count": 1291,
   "metadata": {},
   "outputs": [
    {
     "data": {
      "text/plain": [
       "bs4.BeautifulSoup"
      ]
     },
     "execution_count": 1291,
     "metadata": {},
     "output_type": "execute_result"
    }
   ],
   "source": [
    "#soups[1192]\n",
    "len(soups)\n",
    "type(soups[0])"
   ]
  },
  {
   "cell_type": "code",
   "execution_count": 1341,
   "metadata": {},
   "outputs": [],
   "source": [
    "caption_list = [get_captions(soup) for soup in soups]"
   ]
  },
  {
   "cell_type": "code",
   "execution_count": 1644,
   "metadata": {},
   "outputs": [
    {
     "data": {
      "text/plain": [
       "'The scene at   IDEAL School & Academy’s  10th\\xa0Annual Gala.'"
      ]
     },
     "execution_count": 1644,
     "metadata": {},
     "output_type": "execute_result"
    }
   ],
   "source": [
    "caption_list[1][0]"
   ]
  },
  {
   "cell_type": "code",
   "execution_count": 1645,
   "metadata": {},
   "outputs": [
    {
     "name": "stdout",
     "output_type": "stream",
     "text": [
      "<_sre.SRE_Match object; span=(15, 20), match='IDEAL'>\n"
     ]
    }
   ],
   "source": [
    "x = re.search('IDEAL', caption_list[1][0])\n",
    "print(x)"
   ]
  },
  {
   "cell_type": "code",
   "execution_count": 1664,
   "metadata": {},
   "outputs": [
    {
     "name": "stdout",
     "output_type": "stream",
     "text": [
      "Philip Wells, Henry \"Hank\" Aaron, and Ted Wells, Jr.\n"
     ]
    }
   ],
   "source": [
    "for captions in caption_list[2:3]:\n",
    "    for caption in captions:\n",
    "        if 'Jr.' in caption:\n",
    "            print(caption)"
   ]
  },
  {
   "cell_type": "code",
   "execution_count": 1668,
   "metadata": {},
   "outputs": [
    {
     "data": {
      "text/plain": [
       "['Philip Wells', 'Henry \"Hank\" Aaron', 'Ted Wells Jr.']"
      ]
     },
     "execution_count": 1668,
     "metadata": {},
     "output_type": "execute_result"
    }
   ],
   "source": [
    "caption = caption_list[2][22]\n",
    "get_names(caption)"
   ]
  },
  {
   "cell_type": "markdown",
   "metadata": {},
   "source": [
    "#### Extract the names"
   ]
  },
  {
   "cell_type": "code",
   "execution_count": 1669,
   "metadata": {},
   "outputs": [],
   "source": [
    "names_raw = []\n",
    "for captions in caption_list:\n",
    "    captions = filter_captions(captions)\n",
    "    names_raw.extend([get_names(caption) for caption in captions])"
   ]
  },
  {
   "cell_type": "code",
   "execution_count": 1670,
   "metadata": {},
   "outputs": [],
   "source": [
    "#remove certain cases\n",
    "names = []\n",
    "for name_set in names_raw:\n",
    "    if 'a' in name_set:\n",
    "        name_set.remove('a')\n",
    "    if 'his wife' in name_set:\n",
    "        name_set.remove('his wife')\n",
    "    if 'guests' in name_set:\n",
    "        name_set.remove('guests')\n",
    "    \n",
    "    names.append(name_set)"
   ]
  },
  {
   "cell_type": "code",
   "execution_count": 1691,
   "metadata": {},
   "outputs": [
    {
     "data": {
      "text/plain": [
       "[['Les Lieberman',\n",
       "  'Barri Lieberman',\n",
       "  'Isabel Kallman',\n",
       "  'Trish Iervolino',\n",
       "  'Ron Iervolino'],\n",
       " ['Chuck Grodin'],\n",
       " ['Diana Rosario',\n",
       "  'Ali Sussman',\n",
       "  'Sarah Boll',\n",
       "  'Jen Zaleski',\n",
       "  'Alysse Brennan',\n",
       "  'Lindsay Macbeth'],\n",
       " ['Kelly', 'Tom Murro'],\n",
       " ['Ron Iervolino', 'Trish Iervolino', 'Russ Middleton', 'Lisa Middleton'],\n",
       " ['Barbara Loughlin', 'Dr. Gerald Loughlin', 'Debbie Gelston'],\n",
       " ['Julianne Michelle'],\n",
       " ['Heather Robinson',\n",
       "  'Kiwan Nichols',\n",
       "  'Jimmy Nichols',\n",
       "  'Melanie Carbone',\n",
       "  'Nancy Brown'],\n",
       " ['Bill Mack', 'Les Lieberman'],\n",
       " ['Dr. David Lyden', 'Patricia Sorenson'],\n",
       " ['Jimmy Cayne', 'Vince Tese', 'Pat Cayne'],\n",
       " ['Stuart Oran', 'Les Lieberman', 'Hilary Oran'],\n",
       " ['Vince Tese', 'Chuck Grodin'],\n",
       " ['Dwight Gooden', 'Les Lieberman'],\n",
       " ['Dr. Amy Cunningham-Bussel', 'Ray Mirra', 'Dr. Tyler Janovitz'],\n",
       " ['Dan Shedrick', 'Samara Heafitz'],\n",
       " ['Cass Adelman', 'Jason Adelman'],\n",
       " ['Bart Scott', 'Mark Laplander'],\n",
       " ['Mitch Rubin',\n",
       "  'Audra Zuckerman',\n",
       "  'Michelle Smith',\n",
       "  'Kenneth Mehlman',\n",
       "  'Julia Harquail',\n",
       "  'John Hackett'],\n",
       " ['Audra Zuckerman', 'Michelle Smith', 'Julia Harquail'],\n",
       " ['Judy Poller', 'Rob Affuso'],\n",
       " ['Angela Bergeson'],\n",
       " ['David Byrnes', 'Concetta Bencivenga'],\n",
       " ['Nicole Dicocco'],\n",
       " ['Henry Kravis', 'Kenneth Mehlman', 'Mitch Rubin'],\n",
       " ['Anne Jameson', 'Jay Eisenhofer'],\n",
       " ['Billy Morrissey', 'Brittany Brown'],\n",
       " ['Lee Ellenberg'],\n",
       " ['Carter Bays', 'Craig Thomas'],\n",
       " ['Melissa Errico', 'Todd Hollander', 'Natalia Bulgari'],\n",
       " ['George Lichtblau', 'Anne Lichtblau', 'Dr. Sig Ackerman'],\n",
       " ['Daniel Murphy', 'Deann Murphy', 'Jessica Farrell', 'Ken Farrell'],\n",
       " ['Jonny Podell'],\n",
       " ['Ashley McDermott'],\n",
       " ['Caroline Dean'],\n",
       " ['Jena Silverman', 'John Silverman', 'Tess Silverman', 'Dara Silverman'],\n",
       " ['Jaime Gleicher', 'Jared Seligman'],\n",
       " ['Fred Feiner', 'Ricki Feiner', 'Sandie Greene', 'Bob Greene'],\n",
       " ['Kelly Mulderry', 'Ted Murphy', 'Marci Murphy'],\n",
       " ['Michael Cominotto', 'Gigi Grimstad', 'Dennis Basso'],\n",
       " ['Mark Bessler', 'Andrea Ziegelman', 'Alex Figueroa'],\n",
       " ['Dana Creel', 'Jamie Creel'],\n",
       " ['Dana Taylor', 'Baird Ryan', 'Alexia Hamm Ryan'],\n",
       " ['Kurt Henckels', 'Lance Lundeberg'],\n",
       " ['William Candelaria',\n",
       "  'Mark Brendel',\n",
       "  'Yaz Hernandez',\n",
       "  'Dennis Basso',\n",
       "  'Giulia Caltagirone'],\n",
       " ['Guy Robinson', 'Elizabeth Stribling', 'Fernanda Kellogg'],\n",
       " ['Eleanor Noell'],\n",
       " ['Melissa Errico'],\n",
       " ['Jenny Price',\n",
       "  'Sharon Jacob',\n",
       "  'Stephanie Shuman',\n",
       "  'Gillian Miniter',\n",
       "  'Deborah Roberts'],\n",
       " ['Cynthia Conway', 'Tom Kempner', 'Luann Blowers', 'David Blowers'],\n",
       " ['Michael', 'Jenny Price'],\n",
       " ['Bob', 'Suzanne Cochran'],\n",
       " ['Patsy Tarr', 'Jeff Tarr'],\n",
       " ['Fred Shuman', 'Stephanie Shuman'],\n",
       " ['Gillian Miniter', 'Sylvester Miniter'],\n",
       " ['Iffie Okoronkwo Aitkenhead',\n",
       "  'Agenia Clark',\n",
       "  'Deborah Roberts',\n",
       "  'Fiona Rudin'],\n",
       " ['Michael', 'Lise Evans'],\n",
       " ['Fe', 'Alessandro Fendi'],\n",
       " ['Jill Ross', 'Sharon Teles', 'Eby McKay'],\n",
       " ['Kathryn Chenault', 'Carol Sutton Lewis'],\n",
       " ['Nancy Paduano', 'Dan Paduano'],\n",
       " ['Andrea Fahnestock', 'George Hambrecht'],\n",
       " ['Judy Angelo', 'Doug Blonsky'],\n",
       " ['James Scott', 'Barbara Scott', 'Julie Miller', 'Kamie Lightburn'],\n",
       " ['Bill Harrison', 'Anne Harrison'],\n",
       " ['Mitchell', 'Mary Silver'],\n",
       " ['Gillian Miniter', 'William Zeckendorf'],\n",
       " ['Michelle Smith', 'Tom Gold'],\n",
       " ['Patti Harris', 'Tom Kempner', 'Veronica White'],\n",
       " ['Jon Batiste', 'Marcus Miller'],\n",
       " ['Sherrilyn Ifill', 'Geoffrey Canada'],\n",
       " ['Sherrilyn Ifill', 'Debra Lee'],\n",
       " ['Deborah Roberts', 'Bernard Tyson', 'Gerald Adolph'],\n",
       " ['Yvonne Canada', 'Geoffrey Canada'],\n",
       " ['Denise Tyson', 'Judith Byrd'],\n",
       " ['Philip Wells', 'Tonya Lewis Lee', 'Ted Wells', 'Byron Pitts'],\n",
       " ['Angela Vallot', 'Deborah Roberts'],\n",
       " ['Star Jones', 'Frank Ahimaz'],\n",
       " ['Debra Lee', 'Denise Tyson', 'Bernard Tyson'],\n",
       " ['Debra Lee', 'Jon Batiste'],\n",
       " ['Leah Aden'],\n",
       " ['Amsale Aberra', 'Amelia Ogunleis,and'],\n",
       " ['Nina Wells', 'Gay McDougall'],\n",
       " ['Janai Nelson', 'Benjamin Talton'],\n",
       " ['Debby Greenberg', 'Jack Greenberg'],\n",
       " ['Jonelle Procope', 'Frank Ahimaz'],\n",
       " ['Geoffrey Canada', 'Judith M. Scheide'],\n",
       " ['Bruce Gordon', 'Tonya Lewis Lee', 'Charles Atkins'],\n",
       " ['John Utendahl', 'Debra Lee', 'Debra Martin Chase'],\n",
       " ['Tasha Smith'],\n",
       " ['Jonathan Soros', 'Gwen Adolph'],\n",
       " ['Philip Wells', 'Henry \"Hank\" Aaron', 'Ted Wells Jr.'],\n",
       " ['Susan Fales-Hill', 'Darren Walker'],\n",
       " ['Dennis Brownlee', 'Gabriella Morris'],\n",
       " ['Cheryl Brown Henderson', 'Sherrilyn Ifill', 'Osceola Brown'],\n",
       " ['Angela Vallot', 'Gwen Adolph'],\n",
       " ['Jon Batiste'],\n",
       " ['Janet Dewart Bell', 'Sherrilyn Ifill', 'Lisa Boykin'],\n",
       " ['Debra Martin Chase', 'Laurie Robinson Haden'],\n",
       " ['Michele Linton'],\n",
       " ['Sherrilyn Ifill', 'Dwight Johnson', 'Jon Batiste', 'Marcus Miller'],\n",
       " ['Madelaine Cohen',\n",
       "  'Kimberly Tighe',\n",
       "  'Lisa Ling',\n",
       "  'Barbara Cohen',\n",
       "  'Melissa Pordy'],\n",
       " ['Yousaf Ali', 'Dr. Douglas Dieterich', 'Barbara Murphy', 'Alice Levine'],\n",
       " ['Adrianne Silver', 'Sondra Mack', 'Susan Mark'],\n",
       " ['Dr. Alice Levine', 'Dr. Yousaf Ali'],\n",
       " ['Dr. Barbara Murphy', 'Dr. David Reich'],\n",
       " ['Kimberly Tighe', 'Madelaine Cohen'],\n",
       " ['Peter W. May', 'Lisa Ling'],\n",
       " ['Jane Rittmaster', 'Joan Raines', 'Vivian Farah', 'Ginny Aaron'],\n",
       " ['Jane Whitney', 'Maura Duffy'],\n",
       " ['Dr. Michael Brodman',\n",
       "  'Dr. Mary Ann McLaughlin',\n",
       "  'Kimberly Tighe',\n",
       "  'Barbara Murphy'],\n",
       " ['Dr. Peter Dottino', 'Dr. Marie-Noelle Langan'],\n",
       " ['Michael Schantz',\n",
       "  'Nina Muller',\n",
       "  'Peter Klein',\n",
       "  'Andrea Klein',\n",
       "  'Beverly Bell'],\n",
       " ['Ron Goldstein', 'Margy Hargrave', 'Diane and Dan Barry'],\n",
       " ['Sarah Bay Williams',\n",
       "  'Paul Gachot',\n",
       "  'Richard Gachot',\n",
       "  'Emily Franchina',\n",
       "  'Franklin Hill Perrell'],\n",
       " ['Lisa Ott',\n",
       "  'Gilbert Ott',\n",
       "  'Carol Large',\n",
       "  'Jim Large',\n",
       "  'Meredith and Frank Olt'],\n",
       " ['Thomas Carroll', 'Devon Carroll', 'Kim Testa', 'Kingsley Woolworth'],\n",
       " ['Franklin Hill Perrell', 'Christine Gachot', 'John Gachot', 'Sarane Ross'],\n",
       " ['Denyse Duval Pugsley', 'Sealy Hopkinson', 'Jonathan Wehle'],\n",
       " ['Charles Holcomb', 'Patricia Sands'],\n",
       " ['Ed Travaglianti', 'Pat Travaglianti', 'Carol Clarke', 'Ed Clarke'],\n",
       " ['Paul Gachot', 'Sarah Bay Williams', 'James Tiberg'],\n",
       " ['Thomas McGrath', 'Diahn McGrath', 'Robert Cooper', 'Jon Cooper'],\n",
       " ['Bart Tiernan', 'Dr. James Watson', 'Nini Tiernan'],\n",
       " ['Richard Weir',\n",
       "  'Rita Roselle',\n",
       "  'Cynthia Jay',\n",
       "  'Julie Rinaldini',\n",
       "  'Stephen Jay',\n",
       "  'Luis Rinaldini'],\n",
       " ['John Williamson',\n",
       "  'Bonnie Williamson',\n",
       "  'Rusty McCormack',\n",
       "  'Peggy McCormack',\n",
       "  'Diane and Dan Barry'],\n",
       " ['Doug Fox', 'Chris Fox', 'Paul Vermylen'],\n",
       " ['Dr. Mykola', 'Mrs. Mykola Alyskewycz'],\n",
       " ['Brendan FitzGerald', 'Kathleen FitzGerald'],\n",
       " ['Jim Cahill', 'Eileen Cahill', 'MaryAnn Hurd', 'Peter Hurd'],\n",
       " ['Caroline Gerry', 'Stephen Jay'],\n",
       " ['Michael Plackis', 'Teresa Martin', 'Robert Cooper'],\n",
       " ['Peri Wenz', 'Martin Wenz', 'Margie Burkett'],\n",
       " ['Bob Hussey', 'Debbie Hussey', 'Jonathan Wehle'],\n",
       " ['Clint Finlayson', 'Lynda Busquet', 'Jacques Busquet', 'Peter White'],\n",
       " ['Ted Bahr',\n",
       "  'Mr. Bob',\n",
       "  'Mrs. Bob Mackay',\n",
       "  'Jonathan Wehle',\n",
       "  'Frank Olt',\n",
       "  'Jackie Olt'],\n",
       " ['Chris Nottonson', 'Lawrence Smith', 'Ann Marie Mirabile'],\n",
       " ['David Hidalgo',\n",
       "  'UALC board member',\n",
       "  'Mary Ann Tighe',\n",
       "  'UALC board president',\n",
       "  'Aaron Tighe',\n",
       "  'UALC board member',\n",
       "  'Anne-Marie Olson Kahn',\n",
       "  'Todd Kahn'],\n",
       " ['Laurie Golub', 'Suri Kasirer'],\n",
       " ['Deborah Kern', 'Pamela Liebman'],\n",
       " ['Rebecca Malinsky',\n",
       "  'Ben Malinsky',\n",
       "  'Carolyn Malinsky',\n",
       "  'event co-chair',\n",
       "  'Aaron Malinsky'],\n",
       " ['David Greenbaum', 'Mary Ann Tighe', 'UALC board president', 'Glen Weiss'],\n",
       " ['JD Chalmé',\n",
       "  'Hy Chalmé',\n",
       "  'Robin Chalmé',\n",
       "  'Ray Chalmé',\n",
       "  'UALC board member',\n",
       "  'Vanessa Chalmé'],\n",
       " ['James Regan', 'Cyrus Izzo', 'Tom Scarangello', 'UALC board member'],\n",
       " ['Tim Dempsey', 'Jon Mechanic', 'Tommy Craig', 'Robert Knakal'],\n",
       " ['Roxanne Donovan', 'UALC board member', 'Ted Moudis'],\n",
       " ['Suzi Hill', 'Karen Asprea', 'Stephanie Schroeder', 'L. Stephen Hill'],\n",
       " ['Sharif El-Gamal',\n",
       "  'Soho Properties',\n",
       "  'Sammy El-Gamal',\n",
       "  'Aziz Friedrich',\n",
       "  'Andee Radu',\n",
       "  'Daniel Parker'],\n",
       " ['Mitti Liebersohn', 'Melissa Greenwald'],\n",
       " ['Milo Riverso', 'Tony Schirripa'],\n",
       " ['Harpist Mary Lattimore'],\n",
       " ['Charles Renfro', 'Tony Vidler', 'James Welling', 'Daniel Gortler'],\n",
       " ['Margaret Russell', 'Henry Urbach', 'Margareth Henriquez'],\n",
       " ['Carlos Souza', 'Charlene de Ganay'],\n",
       " ['Bonnie Morrison', 'Douglas Friedman'],\n",
       " [],\n",
       " ['Martha Stewart', 'Charles Renfro'],\n",
       " ['Margaret Russell',\n",
       "  'Martha Stewart',\n",
       "  'Susan Magrino Dunning',\n",
       "  'Margareth Henriquez',\n",
       "  'Reed Krakoff',\n",
       "  'Emma O’Neill',\n",
       "  'John Yunis',\n",
       "  'John Calcagno'],\n",
       " ['Lee Mindel',\n",
       "  'Margaret Russell',\n",
       "  'Tomas Maier',\n",
       "  'Martha Stewart',\n",
       "  'Susan Magrino Dunning'],\n",
       " ['Bill Katz',\n",
       "  'Bonnie Morrison',\n",
       "  'Douglas Friedman',\n",
       "  'Henry Urbach',\n",
       "  'Laurie Beckelman',\n",
       "  'James Sanders',\n",
       "  'Tony Vidler',\n",
       "  'Charles Renfro'],\n",
       " ['Monica Rich Kosann', 'Reed Krakoff'],\n",
       " ['Hendel Teicher'],\n",
       " ['Henry Urbach', 'Charles Renfro'],\n",
       " ['Lori Tritsch', 'William Lauder'],\n",
       " [],\n",
       " ['Martha Stewart', 'Laura Pla', 'Tomas Maier', 'Andrew Preston'],\n",
       " ['Margaret Russell', 'Carlos Souza', 'Charlene de Ganay'],\n",
       " ['Hermes Honoree Guillaume de Seuynes',\n",
       "  'Elizabeth Stribling',\n",
       "  'Astrid Stanfield Pinel'],\n",
       " ['Co-chairs Jean Shafiroff',\n",
       "  'CeCe Black',\n",
       "  'Ursula Lowerre',\n",
       "  'Ann Van Ness',\n",
       "  'Kazie Harvey',\n",
       "  'Deborah Royce'],\n",
       " ['Guy Robinson', 'Fernanda Kellogg', 'Kirk Henckels'],\n",
       " ['Bruce Horten', 'Barbara de Portago'],\n",
       " ['Dr. Penny Grant', 'Michel Witmer'],\n",
       " ['Baroness Laurie Bodor', 'William Ivey Long'],\n",
       " ['Cole Rumbough', 'Bettina Bennett'],\n",
       " ['Cynthia Maltese', 'Anthony Maltese'],\n",
       " ['Irene Aitken', 'Konrad Keesee'],\n",
       " ['Margaret Chase Hager', 'Chiu-Ti Jansen'],\n",
       " ['Timothy Corrigan'],\n",
       " ['Odile de Schiétère-Longchampt', 'CeCe Black', 'Timothy Corrigan'],\n",
       " ['Alex Donner', 'Jean Shafiroff', 'Geoffrey Bradfield'],\n",
       " ['Ann Van Ness', 'Elizabeth Stribling', 'Patricia Shiah'],\n",
       " ['Peter Regna', 'Barbara Regna', 'R. Couri Hay'],\n",
       " ['Roy Keane', 'Ann Rapp'],\n",
       " ['Silvina Leone', 'Ben Aguilar'],\n",
       " ['Baroness Caroline Brownstone', 'Charles Revson'],\n",
       " ['Margaret Russell'],\n",
       " ['Dr. Dennis Trafny', 'Kathleen Mahaffey', 'Scooby'],\n",
       " ['CEO Kate Coyne', 'Robert Liberman', 'Libby Monaco'],\n",
       " ['Cass Adelman', 'Jason Adelman'],\n",
       " ['Arriana Boardman', 'Flo Fulton Miller'],\n",
       " ['Kristin Fisher Allen',\n",
       "  'Virginia Wettlaufer',\n",
       "  'Lily Maddock',\n",
       "  'Travis Acquavella'],\n",
       " ['Dr. Dennis Trafny', 'Dr. Robert Hart'],\n",
       " ['Dr. Ann Hohenhaus', 'Michael Heaner'],\n",
       " ['Michaela Pereira'],\n",
       " ['Katie Ford', \"Children's Rights Honoree\", 'Molly Gochman'],\n",
       " ['Kasseem \"Swizz Beatz\" Dean', 'Rocco Bray'],\n",
       " [\"Children's Rights Honoree\",\n",
       "  'Jared Bobrow',\n",
       "  \"Children's Rights Interim Executive Director\",\n",
       "  'Sandy Santana'],\n",
       " ['Joseph Belluck', 'Anne Strickland Squadron'],\n",
       " ['Christine Schott Ledes', 'George Ledes', 'Jackie Norden'],\n",
       " ['Mark Kostabi'],\n",
       " ['Robert Simon'],\n",
       " ['Richard Ledes', 'Jean Shafiroff', 'Paola Mieli'],\n",
       " ['Kipton Cronkite'],\n",
       " ['Cole Rumough', 'Kick Kennedy'],\n",
       " ['Brian Maher', 'Ann Jensen', 'Eric Jensen'],\n",
       " ['Nicole DiCocco', 'Alex Donner'],\n",
       " ['Consuelo Vanderbilt Costin', 'Gregory Speck'],\n",
       " ['Travis Acquavella',\n",
       "  'Carolina de Neufville',\n",
       "  'Eleanor Ylvisaker',\n",
       "  'Martha Glass',\n",
       "  'Monique Lhuillier',\n",
       "  'Shabnam Henry'],\n",
       " ['Dani Stahl', 'Eleanor Ylvisaker', 'Shoshanna Gruss', 'Patricia Lansing'],\n",
       " [\"Palmer O'Sullivan\", 'Annie Taube'],\n",
       " ['Karla Martinez de Salas'],\n",
       " ['Cynthia Cook Smith', 'Hayley Bloomingdale'],\n",
       " ['Indre Rockefeller'],\n",
       " ['Alex Acquavella', 'Mollie Ruprecht'],\n",
       " ['Hadley Reynolds', 'Sara Peters', 'Clare McKeon'],\n",
       " ['Monique Lhuillier', 'Gretchen Gunlocke Fenton'],\n",
       " ['Wes Gordon', 'Paul Arnhold'],\n",
       " ['Veronica Beard'],\n",
       " ['Bettina Santo Domingo'],\n",
       " ['Marcie Pantzer'],\n",
       " ['Eleanora Kennedy', 'Anna Kennedy Safir'],\n",
       " ['Jenny Galluzzo', 'Charlotte Ronson'],\n",
       " ['Kelly Turlington Burns', 'Brian Burns'],\n",
       " ['Joanna Baker de Neufville'],\n",
       " ['Brett Heyman', 'Ferebee Taube'],\n",
       " ['Amanda Meigher', 'Nina Carbone'],\n",
       " ['Sarah Lanni', 'Mollie Ruprecht'],\n",
       " ['Joseph Singer', 'Mish Tworkowski', 'Tom Bugbee'],\n",
       " ['Monique Lhuillier', 'Jessica Sailer van Lith', 'Tom Bugbee'],\n",
       " ['Carolina de Neufville', 'Alvin Valley'],\n",
       " ['Monique Lhuiller', 'Bronson Van Wyck'],\n",
       " ['Jose Luis Los Arcos', 'Caroline Los Arcos'],\n",
       " ['Grace Fuller'],\n",
       " ['Martha Sharp', 'Leslie Heaney'],\n",
       " ['Nick Acquavella', 'Dixon Boardman'],\n",
       " ['Kim Flaster', 'Shoshanna Gruss', 'Monique Lhuillier'],\n",
       " ['Sylvana Durrett'],\n",
       " ['Eugenie Niven Goodman', 'Martha Glass'],\n",
       " ['Liz Walker Swenson'],\n",
       " ['Martha Glass', 'Lisa Errico', 'Carolina de Neufville'],\n",
       " ['Edward Barsamian', 'Rickie de Sole'],\n",
       " ['Jamie Niven', 'Lela Rose'],\n",
       " ['Barret Swatek', 'Leslie Finerman'],\n",
       " ['Alexandra Lind Rose', 'Jackie Astier', 'Emilia Fanjul Pfeifler'],\n",
       " ['Courtney Corleto', 'David Corleto'],\n",
       " ['Carla Darlington', 'Zita Davisson'],\n",
       " ['Judith Oringer', 'Andrew Kotchoubey'],\n",
       " ['Nancy Gehman', 'Irene Goodkind', 'Jerry Gehman'],\n",
       " ['Elaine Uzan Leary',\n",
       "  'Sandrine Kukurudz',\n",
       "  'Rod Kukurudz',\n",
       "  'Mathilde Schneider'],\n",
       " ['Sonja Morgan', 'Jay Paul'],\n",
       " ['EugeÌ?nie AngleÌ€s', 'Charlie Scheips', \"Didi d'Anglejan\"],\n",
       " ['Curator Mathilde Schneider',\n",
       "  'Miles Morgan',\n",
       "  'Kaleeta Doolin',\n",
       "  'Alan Govenar'],\n",
       " ['Irene Goodkind', 'Lyn McMillan', \"Didi d'Anglejan\", 'Carla Darlington'],\n",
       " ['Andrea Stillman', 'Sonja Morgan', 'EugeÌ?nie AngleÌ€s', 'Kate Wickham'],\n",
       " ['Ambassador FrancÌ§ois Delattre', 'AFB president EugeÌ?nie AngleÌ€s'],\n",
       " ['Sarah Page', 'Chips Page'],\n",
       " ['Charlie Scheips', 'Elaine Uzan Leary'],\n",
       " ['Victoria Vicunia', 'Miles Morgan', 'Sonja Morgan'],\n",
       " ['Princess KenizeÌ? Mourad', \"Baroness Didi d'Anglejan\"],\n",
       " ['EugeÌ?nie AngleÌ€s', 'Andrew Kortchoubey'],\n",
       " ['French consul General Bertrand Lortholary',\n",
       "  'Jeri Sape',\n",
       "  'George Sape',\n",
       "  'Sophie FrancÌ§ois',\n",
       "  'Ambassador FrancÌ§ois Delattre',\n",
       "  'Dorothy and Ambassador Craig Stapleton'],\n",
       " ['Jean Shafiroff', 'Sonja Morgan', 'Nancy Gehman'],\n",
       " ['John Mojdehi', 'Sonja Morgan'],\n",
       " ['Danny DiVella',\n",
       "  'Steve Millington',\n",
       "  'Kyung Up Lim',\n",
       "  'Robyn Levy-Wolf',\n",
       "  'Mario Moise',\n",
       "  'Michael McCarty'],\n",
       " ['Dr. Ruth Westheimer', 'Laurie Tisch'],\n",
       " ['Nancy Spears', 'Sissy Biggers'],\n",
       " ['Sean Kelly', 'Cecile Panzieri', 'Lauren Kelly'],\n",
       " ['Paul Karian', 'Simone Karian'],\n",
       " ['Kim McCarty', 'Susan Magrino Dunning', 'Allyn Magrino Holmberg'],\n",
       " ['Susan Silver', 'Joel Wachs'],\n",
       " ['Rikki Klieman', 'Steve Millington'],\n",
       " ['Ellen Niven', 'Cornelia Guest'],\n",
       " ['Liz Byrne', 'Gerry Byrne'],\n",
       " ['Joel Schnell', 'Lynn White'],\n",
       " ['Joan Kron', 'Jonathan Marder'],\n",
       " ['Paige Peterson'],\n",
       " ['L.A. Perkel', 'Jonathan Perkel', 'Dagny Corcoran'],\n",
       " ['Scott Merkin', 'Susan Blond'],\n",
       " ['Shari Rollins', 'Rick Friedberg'],\n",
       " ['Les Moonves', 'Matt Blank'],\n",
       " ['Hilary Gumbel', 'Bryant Gumbel'],\n",
       " ['John Hart', 'Nicolle Meyer'],\n",
       " ['Debbie Bancroft', 'Daniel Benedict'],\n",
       " ['Kath Hinton', 'Les Hinton'],\n",
       " ['Edward Klein', 'Penny Worth'],\n",
       " ['Joanna Coles', 'Peter Godwin'],\n",
       " ['John Jacobson', 'Betsy Perry'],\n",
       " ['Randy Jones'],\n",
       " ['Annik Wolf', 'Michael Wolf'],\n",
       " ['Michelle Coppedge', 'Jamie MacGuire'],\n",
       " ['Jay McInerney', 'Anne Hearst McInerney'],\n",
       " ['Cece Cord'],\n",
       " ['Jean Doumanian'],\n",
       " ['David Hryck', 'Joan Jedell'],\n",
       " ['Alexander Julian', 'Megan Julian'],\n",
       " ['Vicky Ward'],\n",
       " ['Mort Hamburg'],\n",
       " ['Neal Fox', 'Martha Kramer'],\n",
       " ['James Crump', 'Ronnie Sassoon'],\n",
       " ['Robin Wolf', 'Jamie Levy'],\n",
       " ['Florence Fabricant',\n",
       "  'Richard Fabricant',\n",
       "  'Jerry Della Femina',\n",
       "  'Judy Licht'],\n",
       " ['Roberta Allen', 'Lisa Birnbach', 'Denise LeFrak Calicchio'],\n",
       " ['Judtih Pisar'],\n",
       " ['Al Roker'],\n",
       " ['Wendy Stark', 'Geroge Farias', 'Amy Fine Collins'],\n",
       " ['John Hart', 'Nicolle Meyer'],\n",
       " ['Larry Spangler'],\n",
       " ['Geraldine Fabrikant'],\n",
       " ['Robin Wolf', 'Philippe Solomon', 'Paula Solomon'],\n",
       " ['Tim Zagat', 'Nina Zagat'],\n",
       " ['Ben Slepian', 'Thom Filicia', 'Margo Slepian', 'Greg Calejo'],\n",
       " ['John Koblin', 'Katie Rosman'],\n",
       " ['Michael McCarty', 'Connie Anne Phillips', 'Armando Ruiz'],\n",
       " ['Michelle Fizer-Peterson', 'Charles Grodin', 'Julio Peterson'],\n",
       " ['Patrick Murphy', 'Mary Murphy'],\n",
       " ['Marco Maccioni'],\n",
       " ['Jonathan Wald'],\n",
       " ['Ed Rollins', 'Shari Rollins'],\n",
       " ['Per Holmberg', 'Allyn Magrino Holmberg'],\n",
       " ['Jamie Niven', 'Mike Goldberg', 'Linda Fairstein', 'David Patrick Columbia'],\n",
       " ['Sharon Bush', 'Oscar Plotkin'],\n",
       " ['Dick Soloway', 'Donna Soloway'],\n",
       " ['Michael McCarty', 'Sara Beth Shrager', 'Rodney Hilton Brown'],\n",
       " ['George Farias', 'Wendy Stark'],\n",
       " ['Claire Mercury', 'Margo McNabb Nederlander'],\n",
       " ['Missy Falchi', 'Carlos Falchi', 'Mickey Ateyeh'],\n",
       " ['Felicia Taylor', 'Reed Covone'],\n",
       " ['Paul Chapman', 'Camila Savia'],\n",
       " ['Jay Kriegel', 'Tim Zagat', 'Nina Zagat', 'Gordon Davis'],\n",
       " ['Katie Lee Pollack', 'Stephanie Sporn'],\n",
       " ['Michelle Fizer-Peterson', 'Julio Peterson'],\n",
       " ['Diane Clehane', 'Anne Fulenwider', 'Phoebe Eaton'],\n",
       " ['Paul Amann', 'Joe Fitzsimmons'],\n",
       " ['Debra Castel', 'Stan Parish'],\n",
       " ['Euan Rellie', 'Michael McCarty', 'R. Couri Hay'],\n",
       " ['Richard Oldenberg'],\n",
       " ['Lauren Webb', 'Barry Frey'],\n",
       " ['Carol Austell', 'Jim Mitchell'],\n",
       " ['Wendy Moonan', 'Duncan Darrow', 'Rhett Austell'],\n",
       " ['Leslie Stevens', 'Nina Burleigh', 'Bobby Freidman', 'Bob Shaye'],\n",
       " ['TT Nguyen', 'Gregoire Vogelsang'],\n",
       " ['Roger Smith', 'Bob Shaye'],\n",
       " ['Monie Begley', 'Sessa von Richthofen'],\n",
       " ['Alex Newbold', 'Kristen Kirkland'],\n",
       " ['Kirsten Fleming', 'Mark Whitaker', 'Monie Begley', 'Roger Moore'],\n",
       " ['Michael McCarty', 'Richard Johnson'],\n",
       " ['Oliver Coleman', 'Emily Coleman'],\n",
       " ['Michael McCarty', 'Clancy McCarty', 'Chaz McCarty', 'Kim McCarty'],\n",
       " ['Rhett Austell', 'Michael McCarty', 'Carol Austell', 'Steve Millington'],\n",
       " ['Griffin Frazen', 'Jed Weisman', 'Hannah Glazebrook', 'Anna Gray'],\n",
       " ['Kristina Alexandra Kovalyuk', 'Gregoire Vogelsang'],\n",
       " ['Richard Johnson', 'Sessa von Richthofen'],\n",
       " ['Vlady Giorgiva', 'Joe Rayo'],\n",
       " ['Sally Morgan-Lehman', 'Jay Lehman'],\n",
       " ['Jerry Inzerillo', 'Kevin Ryan', 'Tom Rogers'],\n",
       " ['Liz Lange'],\n",
       " ['Nikki Haskell'],\n",
       " ['Gael Greene'],\n",
       " ['Alan Patricof'],\n",
       " ['Henry Schleiff'],\n",
       " ['Jane Notar', 'Richie Notar', 'Jennifer Gould Keil'],\n",
       " ['Dan Abrams', 'Lynn Sherr', 'Peggy Siegal'],\n",
       " ['Amy Kliger', 'Jack Kliger', 'Michael McCarty'],\n",
       " ['James Dunning Jr.', 'Michael McCarty'],\n",
       " ['Griffin Dunne', 'Joanna Coles', 'Peter Godwin'],\n",
       " ['Stuart Sundlun', 'Jennifer Heidi'],\n",
       " ['Richard Johnson', 'David Kuhn', 'Leslie Stevens', 'Kevin Thompson'],\n",
       " ['Boaty Boatwright', 'Lynn Nesbit'],\n",
       " ['Michael McCarty'],\n",
       " ['Lifeline New York Board members'],\n",
       " ['Prince Alexander', 'Princess Katherine', 'Prince Dmitri'],\n",
       " ['Cheri Kaufman', 'Sharon Bush', 'Janna Bullock'],\n",
       " ['David Hyrke', 'Dora Tomanovich'],\n",
       " ['Audrey Gruss', 'Susan Gutfreund'],\n",
       " ['Janna Bullock', 'Karen Klopp'],\n",
       " ['Sirio Maccioni', 'Dr. Ruth Westheimer'],\n",
       " ['Mush Katkol', 'Sharon Bush', 'Brian Murphy'],\n",
       " ['Kamie Lightburn', 'Bill Sclight', 'Paula Bacchini'],\n",
       " ['Penelope Collins', 'Christine Triant'],\n",
       " ['Andrew', 'Dora Economides'],\n",
       " [\"ZZ Top's Billy Gibbons\"],\n",
       " [\"Blues Traveler's John Popper\"],\n",
       " [],\n",
       " ['Steve Daffron', 'Ron Kolber', 'Lynette and Hank Hyatt'],\n",
       " ['Marcella de Martin', 'Billy Lerner'],\n",
       " ['Natalie Anise', 'Eddie Trunk'],\n",
       " ['George Chrisafis', 'Costas Kellas'],\n",
       " ['Mike Scottie', 'John Withrow'],\n",
       " ['Fara Hain Zerto', 'Cathy Andersen'],\n",
       " ['Ronald Perelman', 'Charlie Rose', 'Sir Martin Sorrell', 'Robert K. Kraft'],\n",
       " ['Sir Martin Sorrell',\n",
       "  \"Israel's Consul General in New York\",\n",
       "  'Amb. Ido Aharoni'],\n",
       " ['Ronald O. Perelman', 'Robert K. Kraft', 'Lorraine Bracco'],\n",
       " ['Don Mattingly',\n",
       "  'Derek Jeter',\n",
       "  'Allen Popowitz (Board Chair)',\n",
       "  'Jeffrey Loria (Dinner Co-Chair)',\n",
       "  'Keith Hernandez'],\n",
       " ['Allen Popowitz',\n",
       "  'Don Mattingly',\n",
       "  'Dorine Gordon',\n",
       "  'Keith Hernandez',\n",
       "  'Bob Costas',\n",
       "  'Franco Harris'],\n",
       " ['Dorine Gordon', 'Jennifer Steinbrenner Swindal', 'Liz Martin'],\n",
       " ['Jeanette Senerchia',\n",
       "  'Anthony Senerchia',\n",
       "  'Derek Jeter',\n",
       "  'Patrick and Jenn Quinn'],\n",
       " ['Kevin Brown Thompson', 'Derek Jeter'],\n",
       " ['Kevin Brown Thompson', 'family', 'Eddie Redmayne'],\n",
       " ['Tamsen Fadal',\n",
       "  'Lois Braverman',\n",
       "  'Suzanne Murphy',\n",
       "  'Javier Gomez',\n",
       "  'Martha Fling'],\n",
       " ['Laurie Sprayregen', 'Alice Netter', 'James Sprayregen'],\n",
       " ['Michele Scheinkman', 'Lois Braverman', 'Marie Wilson'],\n",
       " ['Arnold Syrop', 'Linda Dishy'],\n",
       " ['Tamsen Fadal', 'Chris Gillespie', 'Martha Fling'],\n",
       " ['Nina Taselaar'],\n",
       " ['Javier Gomez', 'Camilla Barungi'],\n",
       " ['Valerie Kempner', 'Carl Kempner'],\n",
       " ['Kristy Rao', 'Javier Gomez'],\n",
       " ['Lois Braverman', 'Andrew Solomon', 'Tamsen Fadal'],\n",
       " ['Pieter Taselaar', 'Amy Eagen', 'Greg Eagen', 'Nina Taselaar'],\n",
       " ['Silvia Espinal', 'Dorimar Morales', 'Erika Klein'],\n",
       " ['Honorees Andrew Malcolm', 'Dan Bena'],\n",
       " ['ANDRUS Acting President', 'CEO Bryan R. Murphy', 'his wife Brooke Baran'],\n",
       " ['ANDRUS Director',\n",
       "  'Institutional Advancement Alessandra Rose',\n",
       "  'Gala Co-Chair Jon Dorf'],\n",
       " ['Demo DiMartile',\n",
       "  'Pajama Program Founder',\n",
       "  'Executive Director Genevieve Piturro',\n",
       "  'Bryan R. Murphy'],\n",
       " ['Nicole Pelose', 'guest'],\n",
       " ['Mr.and Mrs. Andrew Roth'],\n",
       " ['Mr. and Mrs. Bradley',\n",
       "  'Barbara Baran',\n",
       "  'ANDRUS Vice President of Human Resources',\n",
       "  'Knowledge Management Tito Del Pilar'],\n",
       " ['Brooke Baran', 'Leslie Zeller', 'Tyrone Hodge', 'Barbara Baran'],\n",
       " ['Pierce Brosnan', 'Harry Connick Jr.'],\n",
       " ['Pierce Brosnan'],\n",
       " ['Pierce Brosnan',\n",
       "  'Harry Connick Jr.',\n",
       "  'Brooke Goodman Cohen',\n",
       "  'OCRF Board Members'],\n",
       " ['Victor Garber'],\n",
       " ['Tinsley Mortimer'],\n",
       " ['Chet Burros', 'Claudia Burros', 'Mara Sandler', 'Ricky Sandler'],\n",
       " ['Dionne Warwick'],\n",
       " ['Chris Salgardo', 'Carol Hamilton'],\n",
       " ['Audra Moran', 'Pierce Brosnan', 'Brooke Goodman Cohen', 'Chris Salgardo'],\n",
       " ['Nick Loeb', 'Kat Cohen'],\n",
       " ['Audra Moran', 'Harry Connick Jr.', 'Sol Schreiber'],\n",
       " ['Analeigh Tipton'],\n",
       " ['Kelly Rutherford'],\n",
       " ['Jillian Tapper'],\n",
       " ['Kat Cohen', 'Dori Cooperman'],\n",
       " ['Harry Connick Jr.', 'Pierce Brosnan', 'Chris Salgardo'],\n",
       " ['Sherry Jacobson',\n",
       "  'Harry Connick Jr.',\n",
       "  'John Hansbury',\n",
       "  'Brooke Goodman Cohen'],\n",
       " ['Ed Labaton', 'Audra Moran', 'Sol Schreiber'],\n",
       " ['Catherine Malandrino', 'Kelly Rutherford'],\n",
       " ['Kara Gordon', 'Vita Giordano'],\n",
       " ['Lila Nejad', 'Taryn Manning'],\n",
       " ['Lisa Lampanelli', 'Harry Connick Jr.'],\n",
       " ['Lieba Nesis', 'Joan Jedell', 'David Hryck'],\n",
       " ['Rob Tilberis', 'Jeanette Chang', 'Chris Tilberis'],\n",
       " ['Alison Brod', 'Maneesh Goyal'],\n",
       " ['Liz Margolies', 'Devorah Rose'],\n",
       " ['Dani Stahl',\n",
       "  'Charlotte Ronson',\n",
       "  'Katie Zorn',\n",
       "  'Chiara de Rege',\n",
       "  'Jennifer Liang',\n",
       "  'Hilary Koyfman'],\n",
       " ['Alexis Preston', 'Katie Zorn', 'Nicole Veras'],\n",
       " ['Jane Pellietere', 'Kenn Dudek', 'Mary Ingriselli'],\n",
       " ['Honorees - Ben Howe', 'Lou Howe', 'Luca Borghese'],\n",
       " ['Dick Zorn', 'Ilene Wetson'],\n",
       " ['Bill Murphy', 'Justyna Zajac'],\n",
       " ['Graziano de Boni', 'Valerie de Boni', 'Cliff Brokaw', 'Mark Gilbertson'],\n",
       " ['Jose Luis Guerra', 'Florence Peyrelongue'],\n",
       " ['Katie Tozer', 'Jack Lynch', 'Gillian Boyer'],\n",
       " ['John Rustum', 'Shannon Henderson', 'Todd Henderson'],\n",
       " ['Michael Clofine', 'Angela Clofine'],\n",
       " ['Bill Manger', 'Elizabeth Pyne'],\n",
       " ['Dick Zorn', 'Franny Zorn', 'Katie Zorn', 'Lee Huebner'],\n",
       " ['Jo Garst', 'Tracy Lindwall'],\n",
       " ['Tracey Huff', 'Joseph Brandt', 'Carol Brandt'],\n",
       " ['Elise McLean', 'Megan Henze', 'Fritz Franz', 'Chrissy Franz'],\n",
       " ['Nicola White', 'Benjamin Zimbric'],\n",
       " ['Violetta Weddepohl', 'Nick Raynes', 'Lil Phillips'],\n",
       " ['Alex Lipman', 'Sarah Simmons', 'Brooke Mountain', 'Asher Lipman'],\n",
       " ['Megan Savage', 'Tyler Gaffney'],\n",
       " ['Ali Carter', 'Virginia Tracey', 'Kate Brecht'],\n",
       " ['Carrie Howe', 'Lou Howe', 'Ellen Howe', 'Ben Howe'],\n",
       " ['Mo Koyfman', 'Hilary Koyfman'],\n",
       " ['Angela Clofine', 'Paige Hardy'],\n",
       " ['Sloane Mikesell',\n",
       "  'Amanda Schumaker',\n",
       "  'Jamie Birkenhead',\n",
       "  'Richard Birkenhead'],\n",
       " ['Jonathan Berger', 'Marjaleena Berger'],\n",
       " ['Berna Huebner', 'Shari Lusskin'],\n",
       " ['Warren Tye', 'Giusi Cennamo', 'Ben Draper', 'Jessica Caetano'],\n",
       " ['Elisa Gaede', 'Meagan Cowan-Barnes'],\n",
       " ['Liz Anderson', 'Rema Parachini', 'Shannon Henderson'],\n",
       " ['Ben Howe', 'Helen Pennoyer', 'Daisy Keevil', 'Luca Borghese'],\n",
       " ['Alexandra Fisher', 'Phil Fisher', 'Diane Chachas'],\n",
       " ['Danielle Goldstein', 'Richard Donnell', 'Leila Feinberg'],\n",
       " ['Ecaterina Andreev', 'Warren Tye', 'Giusi Cennamo'],\n",
       " ['Katherine Todd', 'Jaimee Zanzinger'],\n",
       " ['Michael Pierson', 'Annette Tapert Allen', 'Lou Howe'],\n",
       " ['Mark Gilbertson', 'Kate Allen'],\n",
       " ['Kamie Lightburn', 'Scott Anderson'],\n",
       " ['Olda FitzGerald', 'Susan Richardson', 'Kathrine Richardson'],\n",
       " ['Spencer Harper',\n",
       "  'Christina McInerney',\n",
       "  'Patrick Guinness',\n",
       "  'Paula McDermott'],\n",
       " ['Beth Dater', 'Michael Kerrigan'],\n",
       " ['Alexandra Schlesinger', 'Kenneth Jay Lane', 'Olda FitzGerald'],\n",
       " ['Sean Reynolds', 'Paula McDermott', 'Donough Cahill', 'Kyra Cheremeteff'],\n",
       " ['Delia Roche-Kelly', 'Jose Aguire', 'Beatriz Aguire'],\n",
       " [\"Sheila O'Malley Fuchs\",\n",
       "  'Michael Kerrigan',\n",
       "  \"Chantal O'Sullivan\",\n",
       "  'Kieran McLoughlin'],\n",
       " ['Jill Donoghue', \"Robert O'Byrne\"],\n",
       " ['Bob Dowling', 'Steven Stolman', 'Michael Kerrigan', 'Rich Wilke'],\n",
       " ['Robert Fox', 'Anya Fox'],\n",
       " ['James Anderson', 'Ivana Lowell', 'Steven Gambrel'],\n",
       " ['Angus Wilke', 'Cynthia Ryan'],\n",
       " ['Christopher Monkhouse', 'William Laffan'],\n",
       " ['Maribeth Welsh', 'Tom Quick'],\n",
       " ['Ursula Burns'],\n",
       " ['Joy Reid'],\n",
       " ['Amma Asante'],\n",
       " ['Anne Fulenwider'],\n",
       " ['Scott Seydel',\n",
       "  'Pat Mitchell',\n",
       "  'Elianne Ramos',\n",
       "  'Gloria Steinem',\n",
       "  'Sheila Johnson',\n",
       "  'Julie Burton'],\n",
       " ['Clive Davis', 'Lesley Gore'],\n",
       " ['David Corn', 'Jessica Valenti', 'Elizabeth Plank', 'Rachel Sklar'],\n",
       " ['Donna Deitch', 'Bonnie Schaefer', 'Robin Morgan'],\n",
       " ['Jewelle Bickford', 'Lauren Embrey', 'Sally Kohn'],\n",
       " ['Julie Burton', 'Carol Jenkins', 'Carolyn Maloney'],\n",
       " ['Phil Donahue', 'Gloria Steinem', 'Marlo Thomas', 'Robin Morgan'],\n",
       " ['Roger Hickey', 'Gloria Steinem', 'David Corn', 'Julie Burton'],\n",
       " ['Sady Doyle', 'Elianne Ramos', 'Lindy West'],\n",
       " ['Steven Swig', 'Mary Swig', 'Gloria Steinem'],\n",
       " ['Vanessa De Luca', 'Elianne Ramos', 'Juile Burton'],\n",
       " ['Bob Peterson', 'Katie Couric', 'Marlo Thomas'],\n",
       " ['Katie Couric', 'Barbara Walters'],\n",
       " [],\n",
       " ['Susan Burden',\n",
       "  'Duane Hampton',\n",
       "  'Patrick Murphy',\n",
       "  'Kathryn Cashman',\n",
       "  'Sally Phipps',\n",
       "  'Paul Powers',\n",
       "  'Beth Reifers',\n",
       "  'David Meneret',\n",
       "  'Mary Connelly',\n",
       "  'Gib Dunham',\n",
       "  'Jeff Weber',\n",
       "  \"Lindsay O'Reilly\"],\n",
       " ['New York Community Trust: David Marcus',\n",
       "  'Eileen Casey',\n",
       "  'Roderick Jenkins',\n",
       "  'Len McNally',\n",
       "  'Pat Jenny',\n",
       "  'Lorie Slutsky',\n",
       "  'Irfan Hassan'],\n",
       " ['Donna Corrado', 'Commissioner', 'Deputy Commissioner'],\n",
       " ['Gala Chairs Julie', 'David Meneret'],\n",
       " ['Gala Chair David Meneret; Erin Shakespeare; Honoree Michael McLaughlin;',\n",
       "  'Gala Chair Walter Pye'],\n",
       " ['Gala Vice Chairs Margaret', 'Ian Smith'],\n",
       " ['Margaret Grioli',\n",
       "  'Vice President Corporate Communication Employee Volunteerism',\n",
       "  \"Macy's Burden\",\n",
       "  'Susan Burden',\n",
       "  'Gala Vice Chair'],\n",
       " ['Norma Negron',\n",
       "  'Carol Massa',\n",
       "  'George Davis',\n",
       "  'Sarah Petit',\n",
       "  'Rita Trapner',\n",
       "  'Anne Wild'],\n",
       " ['Sharon Casdin', 'Mary Van Pelt', 'Sara Hobel'],\n",
       " ['Sherri Stephenson', 'Monica Bolstad'],\n",
       " ['Bronson Van Wyck', 'Coco Kopelman'],\n",
       " ['Emilia Saint-Amand', 'Grace Meigher'],\n",
       " ['Jean Shafiroff', 'Nancy Gehman'],\n",
       " ['Alison Strong', 'Jill Ross'],\n",
       " ['Andrea Fahnestock', 'Paige Sutherland', 'Liz Kogen'],\n",
       " ['Anna Safir', 'Eleanora Kennedy'],\n",
       " ['Grace Meigher', 'Mark Gilbertson', 'Warrie Price'],\n",
       " ['Barbara Paul Robinson',\n",
       "  'Louis Bauer',\n",
       "  'Mark Fisher',\n",
       "  'Claudia Bonn',\n",
       "  'Marechal Brown',\n",
       "  'Tom Smarr'],\n",
       " ['Jack Lynch', 'Barbara McLaughlin'],\n",
       " ['Loren Taufield', 'Hilary Block', 'Helen Fitzgerald'],\n",
       " ['Kamie Lightburn', 'Francis Schultz'],\n",
       " ['Linda Fraser', 'Melanie Wambold'],\n",
       " ['Mary Van Pelt', 'Melanie Chisholm'],\n",
       " ['Lindsey Pryor', 'Lucy Lamphere', 'Sheila Stephenson', 'Betsy Bacon'],\n",
       " ['Nikki Brown', 'Kate Hemphill'],\n",
       " ['Maria Hernandez', 'Douglas Blonsky', 'Kamie Lightburn'],\n",
       " ['Nina Griscom', 'Mark Gilbertson'],\n",
       " ['Dr. Marianne Engle', 'Susi Wunsch', 'Cecilia Dupire'],\n",
       " ['Holly Hunt', 'Kamie Lightburn', 'Stephanie Loeffler'],\n",
       " ['Nancy Mortimer', 'Jessica Tcherepnine', 'Anne Ekstrom'],\n",
       " ['Sheila Stephenson', \"Lily O'Boyle\"],\n",
       " ['Natalie Pray', 'Helen Fitzgerald', 'Lucy Day', 'Sharon Casdin'],\n",
       " ['Ursula Lowerre', 'Nancy Paduano'],\n",
       " ['Rochelle Ohrstrom', 'Liz Peek', 'Lucy Lamphere'],\n",
       " ['Neil Cavuto', 'Publisher Peter Mayer', 'Jon Huntsman', 'Abby Huntsman'],\n",
       " ['Pete Peterson', 'Michael Peterson', 'Jon Huntsman'],\n",
       " ['John Resnick', 'Billie Resnick'],\n",
       " ['Somers Farkas', 'Jonathan Farkas'],\n",
       " ['Sandi Mendelson', 'Christopher Cerf', 'Lynn Sherr'],\n",
       " ['Mary Kaye Huntsman', 'Jon Huntsman Jr.', 'Abby Huntsman'],\n",
       " ['HRH Prince Abdulaziz bin Talal bin Abdulaziz Al-Saud',\n",
       "  'HH Princess Sora bint Saud'],\n",
       " ['Jon Huntsman',\n",
       "  'Karen Huntsman',\n",
       "  'Lord Evelyn',\n",
       "  'Lady Evelyn de Rothschild'],\n",
       " ['Jon Huntsman Jr.', 'Jeff Greenfield'],\n",
       " ['Vicky Ward', 'Richard Cohen'],\n",
       " ['Rudy Sotolongo',\n",
       "  'Wayne Reaud',\n",
       "  'Jon Huntsman',\n",
       "  'Larry Tillury',\n",
       "  'Paul Huntsman'],\n",
       " ['Glenn Horowitz', 'Tracey Jackson'],\n",
       " ['Betsy Gotbaum', 'Mitch Rosenthal'],\n",
       " ['Wayne Reaud', 'Ben Barnes'],\n",
       " ['David Peterson', 'Peter Cary Peterson', 'Paige Peterson'],\n",
       " ['Luncheon Benefit Advisor Committee: Amanda Low',\n",
       "  'Stacy Pinelli',\n",
       "  'Elyse Fuerth',\n",
       "  'Barbara Barbera',\n",
       "  'Holly Peterson',\n",
       "  'Maria Vecchiotti',\n",
       "  'Cathy Trentalancia'],\n",
       " ['SAH Trustees Elsie Aidinoff',\n",
       "  'Amanda Low',\n",
       "  'Pete Eikenberry',\n",
       "  'Mimi Saltzman',\n",
       "  'Maria Vecchiotti',\n",
       "  'Jonathan Stearns',\n",
       "  'Lauren Marrus',\n",
       "  'Holly Peterson',\n",
       "  'Dorian Brown'],\n",
       " ['Storefront Academy First Grade students'],\n",
       " ['Elisa Istueta',\n",
       "  'Lauren Marrus',\n",
       "  'Jennifer Marrus',\n",
       "  'Mary Judelson',\n",
       "  'Holly Peterson',\n",
       "  'Ritchie Howe'],\n",
       " ['Holly Peterson', 'Ray Cameron', 'Jonelle Procope'],\n",
       " ['Patty Sacks', 'Elyse Fuerth', 'Vanessa Fuerth', 'Valerie Goldfein'],\n",
       " ['Pat Schifke', 'Maria Vecchiotti', 'Donna Golkin'],\n",
       " ['Joan Saltzman', 'Debra Luken'],\n",
       " ['Sue Davies', 'Elsie Aidinoff'],\n",
       " ['Alexis Thomason', 'SAH Student Ambassadors'],\n",
       " ['SAH Student Ambassador', 'Martine Rubenstein'],\n",
       " ['Lisa Plepler', 'SAH Eighth Grader Neveah T.'],\n",
       " ['Bruce', 'Doubles Concierge'],\n",
       " ['Jim Coleman', 'Cynthia Ott'],\n",
       " ['Scott Cragg', 'Aleksandra Cragg'],\n",
       " ['Chips Page'],\n",
       " ['David Orentreich', 'Marina Killery'],\n",
       " ['Amy Hoadley', 'Debbie Bancroft'],\n",
       " ['Emdens and Falkenbergs'],\n",
       " ['Fred Spencer', 'Bianca Nikic'],\n",
       " ['Stephen Westerfield',\n",
       "  'Kimberly Hart',\n",
       "  'Michael Barlow',\n",
       "  'Bryan Sherman',\n",
       "  'Grace Johnson'],\n",
       " ['Alison Minton', 'Bob Stumo', \"Anne D'Innocruzio\"],\n",
       " ['Barbara Regna', 'Peter Regna'],\n",
       " ['Christina Rose'],\n",
       " ['Megan Meade', 'Chris Lipuia', 'Adam Brenner', 'Charlie Amber'],\n",
       " ['Denise Rich'],\n",
       " ['Lisa and Tom Wilkenson'],\n",
       " ['Tina Flaherty'],\n",
       " ['Mrs. du Maurier'],\n",
       " ['Karenn Brown'],\n",
       " [],\n",
       " ['Dr. Jeffrey Borenstein', 'Dr. Herbert Pardes', 'Dr. Mehmet C. Oz'],\n",
       " ['Nobel Laureate Eric Kandel', 'Jeffrey Borenstein', 'Mehmet Oz'],\n",
       " ['John Golden', 'Suzanne Golden', 'Carole Mallement', 'Harvey Mallement'],\n",
       " ['Ronald Abramson', 'Anne Abramson', 'Eve Novick'],\n",
       " ['Mehmet Oz', 'Ellen Levine', 'Richard Levine'],\n",
       " ['Herbert Pardes', 'Nancy Wexler', 'Ph.D.', 'Bob Wright'],\n",
       " ['Peter Sellars', 'Elihu Rose'],\n",
       " ['John Guare', 'Adele Chatfield Taylor', 'Peter Sellars in conversation'],\n",
       " ['John Guare', 'Adele Chatfield Taylor', 'Peter Sellars camera ready'],\n",
       " ['David Monn'],\n",
       " ['Sheba Jafari', 'Stuart Sopp'],\n",
       " ['Jim Seger', 'Lissa Frenkel'],\n",
       " ['Jane DeFlorio', 'John McDermott'],\n",
       " ['Elizabeth Kahane', 'Dr. Shirley Madhere'],\n",
       " ['Olivia Flatto', 'Alex Poots', 'Heidi McWilliams', 'Adrienne Arsht'],\n",
       " ['Elizabeth Kahane', 'Rebecca Robertson', 'Dr. Shirley Madhere'],\n",
       " ['Libby Ellis', 'Adrian Ellis'],\n",
       " ['Randy Kemper', 'Tony Ingrao'],\n",
       " ['Lonti Ebers'],\n",
       " ['Wendy Belzberg', 'Jenny Kassanoff'],\n",
       " ['Marjorie Reed Gordon', 'Ellery Gordon'],\n",
       " ['Elihu Rose', 'Susan Rose', 'Isabelle Rose', 'Jeffrey Fagen'],\n",
       " ['Joanne Ellis', 'Scott Waddell'],\n",
       " ['Monique Van Vooren', 'Geoffrey Bradfield'],\n",
       " ['Michael Feinstein',\n",
       "  'Cathie Black',\n",
       "  'Tom Harvey',\n",
       "  'Adrienne Arsht',\n",
       "  'Terrence Flannery'],\n",
       " ['Juliana May', 'Amy Silverman'],\n",
       " ['Serge Tismen', 'Ida Liu', 'Michael Rockefeller', 'Tara Rockefeller'],\n",
       " ['Raj Prakash', 'Stacey Alvarez'],\n",
       " ['Liz Stern'],\n",
       " ['Juliana May', 'Jonathan May', 'Amy Silverman', 'Jeffrey Silverman'],\n",
       " ['Leslie Bains', 'Harrison Bains'],\n",
       " ['Alan Levenstein', 'Gail Levenstein'],\n",
       " ['Sara Lese'],\n",
       " ['Karen Ackman', 'Bill Ackman'],\n",
       " ['Tamara Bernstein', 'Brad Bernstein'],\n",
       " ['Bonnie Comley', 'Stewart Lane', 'Leah Lane'],\n",
       " ['Steven Brill', 'Cynthia Brill'],\n",
       " ['Jamee Gregory', 'Peter Gregory'],\n",
       " ['Michael Shnayerson', 'Gayfryd Steinberg'],\n",
       " ['David Wassong', 'Cynthia Clift', 'Alyssa Fanelli', 'Jeffrey Hirsch'],\n",
       " ['Rico King'],\n",
       " ['Christian Gudefin'],\n",
       " ['Nancy Offit', 'Morris Offit', 'Nancy Marks'],\n",
       " ['Madison J Papp', 'Justin Kush'],\n",
       " ['Alexandra Lebenthal'],\n",
       " ['Lisa Ehrenkranz', 'Sandy Ehrenkranz'],\n",
       " ['Sheila Stephenson'],\n",
       " ['Kathy Steinberg', 'Veronica Kelly'],\n",
       " ['Michael Barclay', 'Inga Kozel'],\n",
       " ['James Bassett', 'Bree Jeppson'],\n",
       " ['Dennis Paul', 'Coralie Charriol Paul'],\n",
       " ['Sofia Milonas'],\n",
       " ['Amanda Thompson-Riegel', 'Dicky Riegel', 'Angela (Mrs. Wade) Thompson'],\n",
       " ['Sophocles Zoullas', 'Priscilla Zoullas'],\n",
       " ['Sanford Smith', 'Jill Bokor'],\n",
       " ['Adam Schlossinger', 'Natasha Schlossinger', 'Nanna Stern', 'Dan Stern'],\n",
       " ['Amy Galanos', 'Nanna Stern'],\n",
       " ['Pablo Legorreta', 'Almudena Legorreta'],\n",
       " ['Julie Macklowe', 'Billy Macklowe'],\n",
       " ['Stan Warshawsky', 'Sandra Warshawsky', 'Mort Zuckerman'],\n",
       " ['Margot Steinberg', 'Stan Harrison'],\n",
       " ['Mary Ellen Oldenburg',\n",
       "  'Inger Elliott',\n",
       "  'Janet Ross',\n",
       "  'Elizabeth Strong-Cuevas'],\n",
       " ['Diana Revson',\n",
       "  'Tripp Revson',\n",
       "  'Kylie Halperin',\n",
       "  'Alex Revson',\n",
       "  'Alexis Powers'],\n",
       " ['Terry Crosby', 'Mihaela Crosby'],\n",
       " ['Zoe Bullock', 'R Couri Hay', 'Janna Bullock'],\n",
       " ['Jamie Tisch', 'Julian Gratry'],\n",
       " ['Dr. Shirley Madhere'],\n",
       " ['Laura Ramsey', 'Rachel Jacobellis'],\n",
       " ['Lesley Vecsler', 'Rob Vecsler'],\n",
       " ['Johnnie Planco',\n",
       "  'Phylicia Rashad',\n",
       "  'Monique van Vooren',\n",
       "  'Geoffrey Bradfield'],\n",
       " ['Heidi McWilliams', 'Chuck Royce'],\n",
       " ['Elizabeth Strong-Cuevas'],\n",
       " ['David Halberstadt', 'Heather Halberstadt'],\n",
       " ['George Farias', 'Bettina Zilkha', 'Ann Wolf', 'Mathew Wolf'],\n",
       " ['John Fiscora', 'Katherine Todd'],\n",
       " ['Joel Press', 'Andrea Press'],\n",
       " ['Joanne Ellis', 'Scott Waddell'],\n",
       " ['Andy Winer', 'Liz Ward', 'Natalie Wiegenfeld', 'Yoav Wiegenfeld'],\n",
       " ['Jill Lloyd', 'Isabelle Harnoncourt', 'Noreen Buckfire'],\n",
       " ['Farhad Farman Farmaian'],\n",
       " ['Lorri Ahl', 'Michael Edsall'],\n",
       " ['Diane Lippert',\n",
       "  'Justin Kush',\n",
       "  'Margaret Pennoyer',\n",
       "  'Angelina Lippert',\n",
       "  'Hugh MacKay'],\n",
       " ['Barbara Tober',\n",
       "  'Donald Tober',\n",
       "  'Denise Saul',\n",
       "  'Andrew Saul',\n",
       "  'Mindy Papp',\n",
       "  'Matthew Smyth'],\n",
       " ['Chris Larson', 'Mary Kush', 'Ed Sumpter', 'Marcella Ciceri', 'Gus Davis'],\n",
       " ['Cathie Black', 'Tom Harvey', 'Adrienne Arsht'],\n",
       " ['Richard Meyer', 'Karon Meyer'],\n",
       " ['Christian Gudefin', 'Marie Noel Pierce'],\n",
       " ['Alyssa Fanelli', 'Cynthia Clift', 'Lesley Vecsler', 'Priscilla Zoullas'],\n",
       " ['Sheila Stephenson', 'George Stephenson'],\n",
       " ['Nadia'],\n",
       " ['Stephanie French', 'Sherri Geldin'],\n",
       " ['Sheba Jafari', 'Stuart Sopp'],\n",
       " ['Elizabeth Callender'],\n",
       " ['James Nguyen', 'Alexander Gottlieb'],\n",
       " ['Gwen Norton', 'Sam Claiborne'],\n",
       " ['Thelma Golden', 'Kate D. Levin'],\n",
       " ['Colin Callender', 'Julie Taymor'],\n",
       " ['Mira Nair', 'Joe Reece'],\n",
       " [],\n",
       " ['Susan Rose', 'Cameron Carpenter'],\n",
       " ['Dyllan McGee Diana Revson', 'Joyce Cowin'],\n",
       " ['Paul Travis', 'Eric Rudin'],\n",
       " ['Tom Pulling', 'Eileen Pulling'],\n",
       " ['Sandy Farkas', 'Andrew Farkas'],\n",
       " ['Alexis Powers',\n",
       "  'Alex Revson',\n",
       "  'Charles Revson',\n",
       "  'Diana Revson',\n",
       "  'Kylie Halperin',\n",
       "  'Tripp Revson'],\n",
       " ['Peter Nitze', 'Susan Nitze'],\n",
       " ['Fran Weissler', 'Fred Shuman', 'Stephanie Shuman'],\n",
       " ['Samantha Rudin Earls', 'George Farias', 'Ophelia Rudin'],\n",
       " ['Raj Prakash', 'Stacey Alvarez'],\n",
       " ['Frank Ahimaz', 'James Reginato', 'Steve Barr'],\n",
       " ['Pedro Gonzales', 'Maria Caso'],\n",
       " ['Heather Halberstadt', 'David Halberstadt'],\n",
       " ['Richard Gaddes', 'Daisy Soros'],\n",
       " ['Jeff Arnstein', 'Pat Papachristidis'],\n",
       " ['Charlotte Mittenthal', 'Tilly Moross'],\n",
       " ['Frank Morgan', 'Thomas Teeple', 'John David Willingham'],\n",
       " ['Bill Rudin', 'Scott Nelson'],\n",
       " ['Isabelle Harnoncourt', 'Richard Feigen'],\n",
       " ['Alex Navab', 'Mary Katheryn'],\n",
       " ['Jackie Astier'],\n",
       " ['Michael Wise', 'Della Rounick'],\n",
       " ['Norton Belknap', 'Marjorie Hart', 'Gurnee Hart'],\n",
       " ['Edmee Firth', 'Andrew Farkas'],\n",
       " ['Barbara Gundlach', 'Andrew Gundlach', 'Shirin von Wolfen'],\n",
       " ['Luke Frazier'],\n",
       " ['Cecelia Alemani', 'Timothy Quinlan'],\n",
       " ['Annie Taube', 'Eleanor Ylvisaker'],\n",
       " ['Liz Bickley', 'Dara Schreiber', 'Julie Geden', 'Kirsten Reoch'],\n",
       " ['Robert Bradford', 'Barbara Taylor Bradford'],\n",
       " ['Alexia Hamm Ryan', 'Natalie Kaplan'],\n",
       " ['Amy Fine Collins'],\n",
       " ['Ashley McDermott'],\n",
       " ['Andrew Heaney', 'Andrew Georges', 'Leslie Heaney'],\n",
       " ['Antony Todd'],\n",
       " ['Ara Hovnanian', 'Elizabeth de Kergolay'],\n",
       " ['Blair Husain', 'Betsy Pitts'],\n",
       " ['Bruce Addison', 'Evelyn Tompkins'],\n",
       " ['Carol Mack', 'Debbie Bancroft'],\n",
       " ['Christian', 'Claire Gudefin'],\n",
       " ['Chris Meigher', 'Mary Hilliard', 'Bill McKnight'],\n",
       " ['Daisy Kanavos', 'Dennis Paul', 'Blair Husain'],\n",
       " ['Dana Creel', 'Larry Creel'],\n",
       " ['Debbie Daumann', 'Nina Griscom'],\n",
       " ['Jamie Gregory', 'Peter Gregory'],\n",
       " ['Deborah Norville', 'Karl Wellner'],\n",
       " ['Donald Jackson', 'Lisa Jackson'],\n",
       " ['Eric Villency', 'Caroline Villency'],\n",
       " ['Frances Schultz', 'Nina Griscom'],\n",
       " ['Grace Meigher', 'Brad Comisar'],\n",
       " ['Julian Gratry', 'Jamie Tisch'],\n",
       " ['Juliette Longuet'],\n",
       " ['Kristin Clark'],\n",
       " ['Kara Ross', 'Rachel Hovnanian', 'Wendy Carduner'],\n",
       " ['Kate Allen', 'Jennifer Oken'],\n",
       " ['Kirk Henckels', 'Lorna Graev', 'Larry Graev'],\n",
       " ['Kristen Krusen', 'Charlie Krusen'],\n",
       " ['Tara', 'Michael', 'Peter', 'Allison Rockefeller'],\n",
       " ['Locke Maddock', 'Lilly Maddock'],\n",
       " ['Lorna Graev', 'Kari Tiedemann'],\n",
       " ['Mag Braff', 'Leslie Stevens', 'Chappy Morris'],\n",
       " ['Mark Gilbertson', 'Barbara Tober'],\n",
       " ['Mark Gilbertson', 'Bronson Van Wyck', 'Zani Gugelmann'],\n",
       " ['Mary Van Pelt'],\n",
       " ['Othon Prounis', 'Kathy Prounis'],\n",
       " ['Simone Mailman'],\n",
       " ['Michael Comminotto', 'Dennis Basso'],\n",
       " ['Monique Richards'],\n",
       " ['Prince Dimitri', 'Yaz Hernandez'],\n",
       " ['Nina Richter', 'Terry Fritzgerald'],\n",
       " ['Pauline Pitt', 'Jerry Seay', 'Fernanda Kellogg'],\n",
       " ['Whitney Fairchild', 'Scott Currie'],\n",
       " ['Stephanie Foster', 'Pam Owen'],\n",
       " ['Peter Pennoyer', 'Katie Pennoyer'],\n",
       " ['Richard', 'Kami Lightburn', 'Michael Kempner', 'Tori Kempner'],\n",
       " ['Richard Cohen', 'Vicky Ward'],\n",
       " ['Richard Johnson', 'Vicky Ward'],\n",
       " ['Ellsworth Kelly', 'Agnes Gund'],\n",
       " ['Bonnie Burnham', 'Mica Ertegun', 'Ellsworth Kelly', 'Mary McFadden'],\n",
       " ['Ashton Hawkins', 'Patty Tang', 'John Hawkins', 'Peter Kimmel'],\n",
       " ['Fernanda Kellogg', 'Kirk Henckels'],\n",
       " ['Anne Mai', 'Lebiba Ali'],\n",
       " ['Connie Hildesley', 'Alex Gregory', 'Linda Wachner'],\n",
       " ['Ashton Hawkins', 'Joan Hardy Clark', 'Peter Duchin'],\n",
       " ['Laura Sico', 'Natalie Kaplan'],\n",
       " ['Tuna Koprulu', 'A. M. Homes', 'Alison Gingeras'],\n",
       " ['Manuela Hoelterhoff', 'Elbrun Kimmelman', 'Ildiko Butler'],\n",
       " ['Gary Pudney', 'Amy Lemons-Sutton', 'Kenny Lane', 'Alden Ramsey'],\n",
       " ['Lilla Ohrstrom', 'Chris Ohrstrom'],\n",
       " ['Jean-Michel Placent', 'Felicia Taylor'],\n",
       " ['Tyler Gaffney', 'Todd Yannuzzi'],\n",
       " ['Alice Walton', 'Linda Ferber'],\n",
       " ['Judy Taubman'],\n",
       " ['David Nitto'],\n",
       " ['Robert Couturier', 'Irith Landeau', 'Mercedes Bass', 'Jim Zirin'],\n",
       " ['Barbara Goldsmith', 'Lester Weingarten'],\n",
       " ['Roberta  Sandeman', 'Peter Pennoyer'],\n",
       " ['Ann Madonia', 'Suzanne Clary'],\n",
       " ['Christopher Walling', 'Casey Kohlberg'],\n",
       " ['Paul Beirne', 'Suzanna Cole Kohlberg'],\n",
       " ['James Reginata',\n",
       "  'Alison Gingeras',\n",
       "  'A. M. Homes',\n",
       "  'Jack Bankowsky',\n",
       "  'Charlotte Birnbaum',\n",
       "  'Nicholas Cullinan'],\n",
       " ['Cynthia Frank',\n",
       "  'Muffie Potter Aston',\n",
       "  'Lauren DuPont',\n",
       "  'Claudia Overstrom',\n",
       "  'Alexia Hamm Ryan',\n",
       "  'Karen Zucker'],\n",
       " ['Trish Carroll',\n",
       "  'Hilary Dick',\n",
       "  'Courtney Moss',\n",
       "  'Sallie Giordano',\n",
       "  'Jennifer Creel'],\n",
       " ['Madeline Weinrib', 'Jacqueline Schnabel'],\n",
       " ['Linda Fargo'],\n",
       " ['Grace Meigher', 'Jamee Gregory'],\n",
       " ['Muffie Potter Aston', 'Martha Glass', 'Judy Cox'],\n",
       " ['Mario Buatta', 'Michael Boodro'],\n",
       " ['Donald Tober', 'Barbara Tober'],\n",
       " ['Eleanor Ylvisaker', 'Beth Blake Day'],\n",
       " ['Nina Griscom'],\n",
       " ['Christopher Spitzmiller', 'Sam Allen'],\n",
       " ['Arie Kopelman', 'Coco Kopelman'],\n",
       " ['Eleanora Kennedy', 'Michael Kennedy'],\n",
       " ['Ernest de la Torre', 'Michael Boodro', 'Barbara Friedmann'],\n",
       " ['Helena Martinez', 'Roman Martinez'],\n",
       " ['Jonathan Tisch', 'Lizzie Tisch'],\n",
       " ['Emilia Krimendahl'],\n",
       " ['Veronica Beard'],\n",
       " ['Martha Sharp', 'Julie Miller'],\n",
       " ['70. Teresa Colley',\n",
       "  'Cathy Nassau',\n",
       "  'Karen Klopp',\n",
       "  'Ginna le Vine',\n",
       "  'Susy Schieffelin'],\n",
       " ['Bunny Williams', 'John Rosselli'],\n",
       " ['Susan Zises Green'],\n",
       " [\"Tony Waag's American Tap Dance Foundation\"],\n",
       " [],\n",
       " ['Paula Abdul', 'Michael Dameski'],\n",
       " ['Michele Riggi', 'Alexander Dube'],\n",
       " ['CTFD Honorees Fe Saracino Fendi', 'Joe Tremaine', 'Janice Galli Becker'],\n",
       " ['James Earl Jones', 'Angela Lansbury'],\n",
       " ['Michele Riggi', 'honoree Joe Tremaine'],\n",
       " ['Cynthia Fischer', 'Angela Lansbury', 'Cynthia Gregory', 'Chita Rivera'],\n",
       " ['Michelle Herbert', 'Larry Herbert'],\n",
       " ['Ann Van', 'Bill Van Ness'],\n",
       " ['Patricia Shiah'],\n",
       " ['Susan Gutfreund', 'Larry Kaiser'],\n",
       " ['Adam Pollet', 'Jennifer Becker Pollet', 'Stuart Becker'],\n",
       " ['Victor Elmaleh', 'Sono Osato', 'Anka Palitz'],\n",
       " ['Lucia Hwong Gordon'],\n",
       " ['Honoree Janice Galli Becker', 'Stuart Becker'],\n",
       " ['Mercedes Ellington'],\n",
       " ['Barbara Taylor Bradford', 'Robert Bradford'],\n",
       " ['Richard Soloway', 'Donna Soloway'],\n",
       " ['Katherine Andreassen', 'Gary Andreassen'],\n",
       " ['Edgar Batista', 'Margo Langenberg', 'Edward Callaghan'],\n",
       " ['Thomas Shiah', 'Patricia Shiah'],\n",
       " ['Bill Cunningham'],\n",
       " ['Gigi Fisdale'],\n",
       " ['Prima ballerina Cynthia Gregory', 'Ann Marie DeAngelo'],\n",
       " ['Alex Dube', 'Anka Palitz'],\n",
       " ['Barbara Regna', 'Peter Regna'],\n",
       " ['Candace Gonzalez', 'Ann Van Ness', 'Caroline Lieberman'],\n",
       " ['Anka Palitz', 'Jean Shafiroff', 'Lucia Hwong Gordon'],\n",
       " ['Lynn Sherr', 'John McEnroe'],\n",
       " ['Valerie Ohrstrom',\n",
       "  'Kamie Lightburn',\n",
       "  'Nyssa Kourakos',\n",
       "  'Karen Thornwell May',\n",
       "  'Neda Navab',\n",
       "  'Lynn Sherr'],\n",
       " ['Judy Hart Angelo', 'Mary Pat Christie', 'Elaine Langone'],\n",
       " ['Valerie Ohrstrom', 'Neda Navab', 'Nyssa Kourakos', 'Kamie Lightburn'],\n",
       " ['Karen LeFrak', 'Gillian Miniter', 'Hilary Geary Ross'],\n",
       " ['Kate Gellert', 'Nancy Missett', 'Samantha Gellert'],\n",
       " ['Kay McEnroe', 'John McEnroe'],\n",
       " ['Sharon Jacob', 'Suzie Aijala'],\n",
       " ['Lise Evans', 'Alexia Leuschen', 'Amandine Freidheim'],\n",
       " ['Luanne Blowers', 'Sheila Labrecque'],\n",
       " ['Noreen Buckfire', 'Antonia Paternó-Castello'],\n",
       " ['Suzanne Cochran', 'John McEnroe', 'Lynn Sherr', 'Tom Kempner'],\n",
       " ['Emanuel Ax', 'PMP Board Co-Chair Itzhak Perlman'],\n",
       " ['David Bury',\n",
       "  'Judy Zankel',\n",
       "  'OSL Board Chairman Norman Benzaquen',\n",
       "  'OSL Board Member Georgia Frasch',\n",
       "  'OSL President Emeritus Marianne Lockwood'],\n",
       " ['Dan Goldwasser', 'Monique Goldwasser', 'Howard Solomon'],\n",
       " ['DiMenna Center Council Co-Chair Emme Deland', 'Phyllis Levin'],\n",
       " ['Emanuel Ax', 'Yoko Ax'],\n",
       " ['Frances Resheske', 'OSL President Emeritus Marianne Lockwood'],\n",
       " ['DiMenna Center Council Co-Chair Emme Deland',\n",
       "  'OSL Executive Director Katy Clark',\n",
       "  'OSL Board Member Georgia Frasch',\n",
       "  'PMP Board Co-Chair Itzhak Perlman'],\n",
       " ['OSL Board Member Georgia Frasch',\n",
       "  'PMP Board Co-Chair Itzhak Perlman',\n",
       "  'Ronald Frasch'],\n",
       " ['James Lally', 'OSL Board Member Helen Lally'],\n",
       " ['Barbara Gladstone'],\n",
       " ['OSL Board Member Janet Seidler',\n",
       "  'Charles Seidler',\n",
       "  'OSL Board Member Carol Grossman'],\n",
       " ['Jonathan Deland',\n",
       "  'DiMenna Center Council Co-Chair Emme Deland',\n",
       "  'Karen Kochevar'],\n",
       " ['Judi Flom',\n",
       "  'David Hyde Pierce',\n",
       "  'OSL Vice President Charles Hamlen',\n",
       "  'Judy Zankel'],\n",
       " ['OSL Executive Director Katy Clark', 'OSL Board Member Dr. Norman Haffner'],\n",
       " ['Leila Straus'],\n",
       " ['Matthew Feldman',\n",
       "  'Charlottle Lee',\n",
       "  'PMP Board Co-Chair Itzhak Perlman',\n",
       "  'David Lai'],\n",
       " ['Brian Fisher', 'OSL Board Member Joanna Fisher'],\n",
       " ['OSL Board Member Steven Leifer', 'Helen Donner', 'Martin Donner'],\n",
       " ['Rachel Larry', 'Dr. Larry Norton', 'PMP Board Co-Chair Toby Perlman'],\n",
       " ['Roger Alcaly', 'Stuart Nelson', 'Linda Nelson', 'Helen Bodian'],\n",
       " ['OSL Board Member Steven Leifer',\n",
       "  'Karen Zeigler',\n",
       "  'Michael Zeigler',\n",
       "  'OSL Board Member Dr. Norman Haffner'],\n",
       " ['PMP Board Member Vicki Kellogg', 'Michael Finn'],\n",
       " ['Susan Gottsegen', 'OSL Board Member Peter Gottsegen'],\n",
       " ['Rainbow Room - from upper balcony'],\n",
       " ['Michael Boodro', 'Anita Sarsedi', 'Mitchell Owens', 'Barbara Freidmann'],\n",
       " ['Stephanie Stokes', 'Tom Kligerman'],\n",
       " ['Brain Sawyer', 'Judith Prause'],\n",
       " ['Henry Neville', 'Wendy Moonan', 'Ulrich Leben'],\n",
       " ['Anne Kriken Mann', 'Joanna Bird', 'Susanne Santry'],\n",
       " ['Brandon Correll',\n",
       "  'Joshua Amores',\n",
       "  'Joel Barkley',\n",
       "  'Brian McCarthy',\n",
       "  'Todd Klein'],\n",
       " ['Zoe Ryan', 'Barry Bergdoll', 'Barbara Pine'],\n",
       " ['Lucy Day', 'Nat Day', 'Suzy Grote', 'Jeanne Butler'],\n",
       " ['Ashley Adjaye', 'David Adjaye'],\n",
       " ['Anne Ashmore-Hudson', 'Jim Hudson'],\n",
       " ['Scott Cummings', 'Philae Dominick', 'Evan and Tricia Stewart'],\n",
       " ['Martini man', 'Sarah Ehrlich', 'Liz Hall'],\n",
       " ['Mary Anne Hunting',\n",
       "  'Nick Stern',\n",
       "  'MaryLouise Napier Zuzunaga',\n",
       "  'Courtney Stern'],\n",
       " ['Augusta Barone', 'Mabel Wilson', 'Mario Gooden', 'Alan Robinson'],\n",
       " ['Chippy Irvine', 'Betty Scott'],\n",
       " ['Becky Birdwell', 'Chris Lytle'],\n",
       " ['Michael Gabellini', 'Cintra McGauley'],\n",
       " ['Bob Stern', 'Nick Stern'],\n",
       " ['Fred Bernstein', 'Birch Coffey', 'Anne Edgar', 'Sam Roche', 'Dave Sussman'],\n",
       " ['Hermes Mallea', 'Jim Friedlander', 'Liz Friedlander', 'Carey Maloney'],\n",
       " ['Jan Aronson',\n",
       "  'Matthew Bronfman',\n",
       "  'Honoree Phyllis Lambert',\n",
       "  'Charles Bronfman',\n",
       "  'Stacey Bronfman',\n",
       "  'Rita Bronfman'],\n",
       " ['Monty Freeman',\n",
       "  'Honoree Phyllis Lambert',\n",
       "  'Abraham Thomas',\n",
       "  'Fred Bernstein'],\n",
       " ['Barrie Pickering', 'Maggie Carey'],\n",
       " ['Richard Sammons', 'Charles Miers'],\n",
       " ['Presenters Adam Lerner', 'Thelma Golden', 'Honoree David Adjaye'],\n",
       " ['Colette Arredondo', 'John Soane figure', 'John Flower'],\n",
       " [],\n",
       " ['Adam Shankman'],\n",
       " ['Alec Baldwin', 'Hilaria Baldwin'],\n",
       " ['Brian Atwood'],\n",
       " ['Cameron Bicondova'],\n",
       " ['Gillian Miniter', 'Fe Fendi'],\n",
       " ['Breandan Fallis', 'Hannah Bronfman'],\n",
       " ['David Hallberg'],\n",
       " ['Chiu-Ti Jansen'],\n",
       " ['Dalia Oberlander', 'Debora Pagani'],\n",
       " ['Deborah Ann Woll'],\n",
       " ['Alec Baldwin', 'Hilaria Baldwin'],\n",
       " ['Chris Noth'],\n",
       " ['Lauren Hutton', 'Gina Torres'],\n",
       " ['Eaddy Kiernan', 'Indre Rockefeller'],\n",
       " ['Jenny Slate'],\n",
       " ['Olivia Munn'],\n",
       " ['Taye Diggs'],\n",
       " ['Micaela Erlanger', 'Olivia Munn'],\n",
       " ['Susan Fales-Hill', 'Bettina Zilkha', 'Caryn Zucker'],\n",
       " ['Leslie Ziff'],\n",
       " ['Misty Copeland', 'Nigel Barker', 'Cristen Barker'],\n",
       " ['Hamish Bowles', 'Anh Duong'],\n",
       " ['Martine van Hamel', 'Kevin McKenzie'],\n",
       " ['Isabella Boylston'],\n",
       " ['Sonja Morgan'],\n",
       " ['Stephanie Williams'],\n",
       " ['Al Roker', 'Deborah Roberts'],\n",
       " ['Alec Baldwin', 'Rachel Moore'],\n",
       " ['Steven Kobre',\n",
       "  'Louise Kornfeld',\n",
       "  'Stephen Kornfeld',\n",
       "  'Karyn Kornfeld',\n",
       "  'Adam Kornfeld',\n",
       "  'Joanna Kornfeld',\n",
       "  'Dr. Paul Friedman'],\n",
       " [\"‘Timeless Hollywood icon'\", 'a twist ...'],\n",
       " ['Somers Farkas', 'Chele Chiavacci'],\n",
       " ['Muffie Potter Aston', 'Sherrell Aston'],\n",
       " ['Fabia Masson'],\n",
       " ['Princess Yasmin Aga Khan', 'Ronnie Spector'],\n",
       " ['Lucia Hwong Gordon', 'Jean Shafiroff'],\n",
       " ['Hilary Gumbel', 'Bryant Gumbel'],\n",
       " ['Michelle Herbert'],\n",
       " ['Deborah Norville', 'Karl Wellner'],\n",
       " ['Nikki Haskell'],\n",
       " ['Dennis Basso', 'Dede Wilsey'],\n",
       " ['Brooke Shields', 'John McEnroe', 'Patty McEnroe'],\n",
       " ['Charlene Nederlander', 'Bonnie Comley'],\n",
       " ['Lise Evans', 'Michael Evans'],\n",
       " ['James Nederlander', 'Stewart Lane'],\n",
       " ['Geoffrey Bradfield', 'Jonathan Farkas', 'Robert Zimmerman'],\n",
       " ['Suzanne Murphy', 'Nurit Kahane'],\n",
       " ['Deborah Norville', 'Karl Wellner', 'Ann Dexter Jones'],\n",
       " ['Liz Lang', 'Mark Locks', 'Mindy Grossman'],\n",
       " ['Harry Johns', 'Brendan Shanahan'],\n",
       " ['Princess Yasmin Aga Khan', 'Bryant Gumbel'],\n",
       " ['Debbie Bancroft'],\n",
       " ['Jody Wolf', 'Marla Helen'],\n",
       " ['Regis', 'Joy Philbin'],\n",
       " ['Uban Hassan'],\n",
       " ['Lisa Rinna'],\n",
       " ['Lisa Lori', 'Mat Lori'],\n",
       " ['John Meltzer',\n",
       "  'Justin Meltzer',\n",
       "  'Robin Meltzer',\n",
       "  'Martin Meltzer',\n",
       "  'Paul Fine',\n",
       "  'Lizzie Meltzer',\n",
       "  'Amy Meltzer'],\n",
       " ['Alexandra Lebenthal', 'Jay Diamond'],\n",
       " ['Dara Sowell', 'Steve Tanger'],\n",
       " ['Jana Bullock'],\n",
       " ['David Nichol', 'Hal Rubenstein'],\n",
       " ['Paola Rosenshein', 'Arnie Rosenshein', 'Marlyne Sexton'],\n",
       " ['Margo Nederlander'],\n",
       " ['Harry Johns', 'Lynn Carey', 'Tommy Hilfiger'],\n",
       " ['Sharon Bush'],\n",
       " ['Serena Torrey Roosevelt',\n",
       "  'Museum President Ellen V. Futter',\n",
       "  'Ted Roosevelt V',\n",
       "  'children'],\n",
       " [],\n",
       " ['Mini member', 'his Family Party backpack'],\n",
       " ['Museum members Mark and Leigh Teixeira', 'family'],\n",
       " ['Chairmen Kim and Greg Lippmann', 'daughter'],\n",
       " ['Vice Chairmen Heather and Ross Schulman', 'children'],\n",
       " ['Vice Chairmen Andrew and Zibby Right', 'children'],\n",
       " ['Committee Member Katie Boes', 'family'],\n",
       " ['Museum President Ellen V. Futter', 'Vice Chairman John Lykouretzos'],\n",
       " ['Museum President Ellen V. Futter', 'Trustee John Eastman'],\n",
       " ['Vice Chairman Elizabeth Eginton',\n",
       "  'son',\n",
       "  'Trustee Chris Davis',\n",
       "  'Museum President Ellen V. Futter'],\n",
       " ['Trustee and Chairman Rebekah Mercer', 'children'],\n",
       " ['Chairman Allison Mignone', 'Trustee Roberto Mignone', 'their children'],\n",
       " ['Committee Member Dana Wallach Jones',\n",
       "  'Chairmen Amy Griffin',\n",
       "  'their children'],\n",
       " ['Glow Zone: Wild Weather'],\n",
       " ['Chairmen Carney and Melissa Hawks', 'children'],\n",
       " ['Dinosaur Fossil Table'],\n",
       " [\"Clyde Peeling's Reptiland\"],\n",
       " ['LEO Zoological Conservation Center'],\n",
       " ['LEO Zoological Conservation Center'],\n",
       " ['Magician Looney Louie'],\n",
       " ['Museum Science Center'],\n",
       " ['Museum Science Center'],\n",
       " [\"Cozy's Cuts for Kids\"],\n",
       " ['Dr. Tamara Lazic'],\n",
       " ['Sandy House', 'Copland House Board President Fred Pack'],\n",
       " ['Neurosurgen House',\n",
       "  'Copland House trustee Dr. Ezriel Kornel',\n",
       "  'Paul Shaffer',\n",
       "  'Chef Lidia Bastianich',\n",
       "  'pianist and Copland House Artistic',\n",
       "  'Executive Director Michael Boriskin',\n",
       "  'Composer Daniel Brewbaker'],\n",
       " ...]"
      ]
     },
     "execution_count": 1691,
     "metadata": {},
     "output_type": "execute_result"
    }
   ],
   "source": [
    "names"
   ]
  },
  {
   "cell_type": "markdown",
   "metadata": {},
   "source": [
    "#### Make list of unique names"
   ]
  },
  {
   "cell_type": "code",
   "execution_count": 1671,
   "metadata": {},
   "outputs": [],
   "source": [
    "unique_names = []\n",
    "for name_set in names:\n",
    "    for name in name_set:\n",
    "        if not name in unique_names:\n",
    "            unique_names.append(name)\n",
    "        else:\n",
    "            next"
   ]
  },
  {
   "cell_type": "code",
   "execution_count": 1672,
   "metadata": {},
   "outputs": [
    {
     "data": {
      "text/plain": [
       "79817"
      ]
     },
     "execution_count": 1672,
     "metadata": {},
     "output_type": "execute_result"
    }
   ],
   "source": [
    "len(unique_names)"
   ]
  },
  {
   "cell_type": "code",
   "execution_count": 1673,
   "metadata": {},
   "outputs": [],
   "source": [
    "num_names = [len(name_set) for name_set in names]"
   ]
  },
  {
   "cell_type": "code",
   "execution_count": 1674,
   "metadata": {},
   "outputs": [
    {
     "data": {
      "text/plain": [
       "159085"
      ]
     },
     "execution_count": 1674,
     "metadata": {},
     "output_type": "execute_result"
    }
   ],
   "source": [
    "np.cumsum(np.array(num_names))[-1]"
   ]
  },
  {
   "cell_type": "markdown",
   "metadata": {},
   "source": [
    "For the remaining analysis, we think of the problem in terms of a\n",
    "[network](http://en.wikipedia.org/wiki/Computer_network) or a\n",
    "[graph](https://en.wikipedia.org/wiki/Graph_%28discrete_mathematics%29).  Any time a pair of people appear in a photo together, that is considered a link.  What we have described is more appropriately called an (undirected)\n",
    "[multigraph](http://en.wikipedia.org/wiki/Multigraph) with no self-loops but this has an obvious analog in terms of an undirected [weighted graph](http://en.wikipedia.org/wiki/Graph_%28mathematics%29#Weighted_graph).  In this problem, we will analyze the social graph of the New York social elite.  We recommend using python's [`networkx`](https://networkx.github.io/) library."
   ]
  },
  {
   "cell_type": "code",
   "execution_count": 1675,
   "metadata": {},
   "outputs": [
    {
     "data": {
      "text/plain": [
       "['Les Lieberman',\n",
       " 'Barri Lieberman',\n",
       " 'Isabel Kallman',\n",
       " 'Trish Iervolino',\n",
       " 'Ron Iervolino']"
      ]
     },
     "execution_count": 1675,
     "metadata": {},
     "output_type": "execute_result"
    }
   ],
   "source": [
    "\n",
    "names[0]"
   ]
  },
  {
   "cell_type": "markdown",
   "metadata": {},
   "source": [
    "All in all, you should end up with over 100,000 captions and more than 110,000 names, connected in about 200,000 pairs."
   ]
  },
  {
   "cell_type": "code",
   "execution_count": 1676,
   "metadata": {},
   "outputs": [],
   "source": [
    "import itertools  # itertools.combinations may be useful\n",
    "import networkx as nx"
   ]
  },
  {
   "cell_type": "code",
   "execution_count": 1677,
   "metadata": {},
   "outputs": [],
   "source": [
    "social_graph = nx.Graph()"
   ]
  },
  {
   "cell_type": "code",
   "execution_count": 1678,
   "metadata": {},
   "outputs": [],
   "source": [
    "name_tuples = []\n",
    "for name_set in names:\n",
    "    name_tuples.extend(itertools.combinations(name_set, 2))"
   ]
  },
  {
   "cell_type": "code",
   "execution_count": 1679,
   "metadata": {},
   "outputs": [],
   "source": [
    "name_pairs = [','.join(tup) for tup in name_tuples]"
   ]
  },
  {
   "cell_type": "code",
   "execution_count": 1680,
   "metadata": {},
   "outputs": [
    {
     "data": {
      "text/plain": [
       "['Les Lieberman,Barri Lieberman',\n",
       " 'Les Lieberman,Isabel Kallman',\n",
       " 'Les Lieberman,Trish Iervolino',\n",
       " 'Les Lieberman,Ron Iervolino',\n",
       " 'Barri Lieberman,Isabel Kallman',\n",
       " 'Barri Lieberman,Trish Iervolino',\n",
       " 'Barri Lieberman,Ron Iervolino',\n",
       " 'Isabel Kallman,Trish Iervolino',\n",
       " 'Isabel Kallman,Ron Iervolino',\n",
       " 'Trish Iervolino,Ron Iervolino',\n",
       " 'Diana Rosario,Ali Sussman',\n",
       " 'Diana Rosario,Sarah Boll',\n",
       " 'Diana Rosario,Jen Zaleski',\n",
       " 'Diana Rosario,Alysse Brennan',\n",
       " 'Diana Rosario,Lindsay Macbeth',\n",
       " 'Ali Sussman,Sarah Boll',\n",
       " 'Ali Sussman,Jen Zaleski',\n",
       " 'Ali Sussman,Alysse Brennan',\n",
       " 'Ali Sussman,Lindsay Macbeth',\n",
       " 'Sarah Boll,Jen Zaleski',\n",
       " 'Sarah Boll,Alysse Brennan',\n",
       " 'Sarah Boll,Lindsay Macbeth',\n",
       " 'Jen Zaleski,Alysse Brennan',\n",
       " 'Jen Zaleski,Lindsay Macbeth',\n",
       " 'Alysse Brennan,Lindsay Macbeth',\n",
       " 'Kelly,Tom Murro',\n",
       " 'Ron Iervolino,Trish Iervolino',\n",
       " 'Ron Iervolino,Russ Middleton',\n",
       " 'Ron Iervolino,Lisa Middleton',\n",
       " 'Trish Iervolino,Russ Middleton',\n",
       " 'Trish Iervolino,Lisa Middleton',\n",
       " 'Russ Middleton,Lisa Middleton',\n",
       " 'Barbara Loughlin,Dr. Gerald Loughlin',\n",
       " 'Barbara Loughlin,Debbie Gelston',\n",
       " 'Dr. Gerald Loughlin,Debbie Gelston',\n",
       " 'Heather Robinson,Kiwan Nichols',\n",
       " 'Heather Robinson,Jimmy Nichols',\n",
       " 'Heather Robinson,Melanie Carbone',\n",
       " 'Heather Robinson,Nancy Brown',\n",
       " 'Kiwan Nichols,Jimmy Nichols',\n",
       " 'Kiwan Nichols,Melanie Carbone',\n",
       " 'Kiwan Nichols,Nancy Brown',\n",
       " 'Jimmy Nichols,Melanie Carbone',\n",
       " 'Jimmy Nichols,Nancy Brown',\n",
       " 'Melanie Carbone,Nancy Brown',\n",
       " 'Bill Mack,Les Lieberman',\n",
       " 'Dr. David Lyden,Patricia Sorenson',\n",
       " 'Jimmy Cayne,Vince Tese',\n",
       " 'Jimmy Cayne,Pat Cayne',\n",
       " 'Vince Tese,Pat Cayne',\n",
       " 'Stuart Oran,Les Lieberman',\n",
       " 'Stuart Oran,Hilary Oran',\n",
       " 'Les Lieberman,Hilary Oran',\n",
       " 'Vince Tese,Chuck Grodin',\n",
       " 'Dwight Gooden,Les Lieberman',\n",
       " 'Dr. Amy Cunningham-Bussel,Ray Mirra',\n",
       " 'Dr. Amy Cunningham-Bussel,Dr. Tyler Janovitz',\n",
       " 'Ray Mirra,Dr. Tyler Janovitz',\n",
       " 'Dan Shedrick,Samara Heafitz',\n",
       " 'Cass Adelman,Jason Adelman',\n",
       " 'Bart Scott,Mark Laplander',\n",
       " 'Mitch Rubin,Audra Zuckerman',\n",
       " 'Mitch Rubin,Michelle Smith',\n",
       " 'Mitch Rubin,Kenneth Mehlman',\n",
       " 'Mitch Rubin,Julia Harquail',\n",
       " 'Mitch Rubin,John Hackett',\n",
       " 'Audra Zuckerman,Michelle Smith',\n",
       " 'Audra Zuckerman,Kenneth Mehlman',\n",
       " 'Audra Zuckerman,Julia Harquail',\n",
       " 'Audra Zuckerman,John Hackett',\n",
       " 'Michelle Smith,Kenneth Mehlman',\n",
       " 'Michelle Smith,Julia Harquail',\n",
       " 'Michelle Smith,John Hackett',\n",
       " 'Kenneth Mehlman,Julia Harquail',\n",
       " 'Kenneth Mehlman,John Hackett',\n",
       " 'Julia Harquail,John Hackett',\n",
       " 'Audra Zuckerman,Michelle Smith',\n",
       " 'Audra Zuckerman,Julia Harquail',\n",
       " 'Michelle Smith,Julia Harquail',\n",
       " 'Judy Poller,Rob Affuso',\n",
       " 'David Byrnes,Concetta Bencivenga',\n",
       " 'Henry Kravis,Kenneth Mehlman',\n",
       " 'Henry Kravis,Mitch Rubin',\n",
       " 'Kenneth Mehlman,Mitch Rubin',\n",
       " 'Anne Jameson,Jay Eisenhofer',\n",
       " 'Billy Morrissey,Brittany Brown',\n",
       " 'Carter Bays,Craig Thomas',\n",
       " 'Melissa Errico,Todd Hollander',\n",
       " 'Melissa Errico,Natalia Bulgari',\n",
       " 'Todd Hollander,Natalia Bulgari',\n",
       " 'George Lichtblau,Anne Lichtblau',\n",
       " 'George Lichtblau,Dr. Sig Ackerman',\n",
       " 'Anne Lichtblau,Dr. Sig Ackerman',\n",
       " 'Daniel Murphy,Deann Murphy',\n",
       " 'Daniel Murphy,Jessica Farrell',\n",
       " 'Daniel Murphy,Ken Farrell',\n",
       " 'Deann Murphy,Jessica Farrell',\n",
       " 'Deann Murphy,Ken Farrell',\n",
       " 'Jessica Farrell,Ken Farrell',\n",
       " 'Jena Silverman,John Silverman']"
      ]
     },
     "execution_count": 1680,
     "metadata": {},
     "output_type": "execute_result"
    }
   ],
   "source": [
    "name_pairs[:100]"
   ]
  },
  {
   "cell_type": "code",
   "execution_count": 1681,
   "metadata": {},
   "outputs": [],
   "source": [
    "name_tuples_arr = np.array(name_pairs)"
   ]
  },
  {
   "cell_type": "code",
   "execution_count": 1682,
   "metadata": {},
   "outputs": [],
   "source": [
    "unique, counts = np.unique(name_tuples_arr, return_counts=True)"
   ]
  },
  {
   "cell_type": "code",
   "execution_count": 1683,
   "metadata": {},
   "outputs": [
    {
     "data": {
      "text/plain": [
       "array(['\"A Touch of Nature\",Jerry Zelenka',\n",
       "       '\"Cazzette\",Alexander Bjorklund', '\"Cazzette\",Sebastian Furrer',\n",
       "       '\"Fela\" star Saycon Sengbloh,Michelle Paterson',\n",
       "       '\"Fifth Harmony\",Ally Brooke', '\"Fifth Harmony\",Camila Cabello',\n",
       "       '\"Fifth Harmony\",Dinah-Jane Hansen',\n",
       "       '\"Fifth Harmony\",Lauren Jauregui',\n",
       "       '\"Fifth Harmony\",Normani Hamilton', '\"Lawson\",Adam Pitts'],\n",
       "      dtype='<U185')"
      ]
     },
     "execution_count": 1683,
     "metadata": {},
     "output_type": "execute_result"
    }
   ],
   "source": [
    "unique[:10]\n",
    "#len(unique)"
   ]
  },
  {
   "cell_type": "code",
   "execution_count": 1684,
   "metadata": {},
   "outputs": [
    {
     "data": {
      "text/plain": [
       "138548"
      ]
     },
     "execution_count": 1684,
     "metadata": {},
     "output_type": "execute_result"
    }
   ],
   "source": [
    "counts[:10]\n",
    "len(counts)"
   ]
  },
  {
   "cell_type": "markdown",
   "metadata": {},
   "source": [
    "#get rid of all pairs with single incidence\n",
    "bad = counts==1\n",
    "\n",
    "unique = unique[~bad]\n",
    "counts = counts[~bad]"
   ]
  },
  {
   "cell_type": "code",
   "execution_count": 1685,
   "metadata": {},
   "outputs": [],
   "source": [
    "unique = [tuple(i.split(',')) for i in unique]"
   ]
  },
  {
   "cell_type": "code",
   "execution_count": 1686,
   "metadata": {},
   "outputs": [
    {
     "data": {
      "text/plain": [
       "('\"A Touch of Nature\"', 'Jerry Zelenka')"
      ]
     },
     "execution_count": 1686,
     "metadata": {},
     "output_type": "execute_result"
    }
   ],
   "source": [
    "unique[0]"
   ]
  },
  {
   "cell_type": "code",
   "execution_count": 1687,
   "metadata": {},
   "outputs": [],
   "source": [
    "#social_graph.add_edge(unique[0][0], unique[0][1], weight = counts[0])"
   ]
  },
  {
   "cell_type": "code",
   "execution_count": 1688,
   "metadata": {},
   "outputs": [],
   "source": [
    "for i in range(len(unique)):\n",
    "    social_graph.add_edge(unique[i][0], unique[i][1], weight = counts[i])"
   ]
  },
  {
   "cell_type": "markdown",
   "metadata": {},
   "source": [
    "## Question 3: degree\n"
   ]
  },
  {
   "cell_type": "markdown",
   "metadata": {},
   "source": [
    "The simplest question to ask is \"who is the most popular\"?  The easiest way to answer this question is to look at how many connections everyone has.  Return the top 100 people and their degree.  Remember that if an edge of the graph has weight 2, it counts for 2 in the degree.\n",
    "\n",
    "**Checkpoint:** Some aggregate stats on the solution\n",
    "\n",
    "    \"count\": 100.0\n",
    "    \"mean\": 189.92\n",
    "    \"std\": 87.8053034454\n",
    "    \"min\": 124.0\n",
    "    \"25%\": 138.0\n",
    "    \"50%\": 157.0\n",
    "    \"75%\": 195.0\n",
    "    \"max\": 666.0"
   ]
  },
  {
   "cell_type": "code",
   "execution_count": 1689,
   "metadata": {},
   "outputs": [
    {
     "data": {
      "text/plain": [
       "[('Jean Shafiroff', 290),\n",
       " ('Mark Gilbertson', 271),\n",
       " ('Gillian Miniter', 175),\n",
       " ('Geoffrey Bradfield', 163),\n",
       " ('Alexandra Lebenthal', 162),\n",
       " ('Mario Buatta', 146),\n",
       " ('Kamie Lightburn', 145),\n",
       " ('Somers Farkas', 144),\n",
       " ('Alina Cho', 143),\n",
       " ('Andrew Saffir', 134),\n",
       " ('Yaz Hernandez', 132),\n",
       " ('Lucia Hwong Gordon', 131),\n",
       " ('Debbie Bancroft', 131),\n",
       " ('Allison Aston', 117),\n",
       " ('Eleanora Kennedy', 117),\n",
       " ('Martha Stewart', 116),\n",
       " ('Lydia Fenet', 115),\n",
       " ('Sharon Bush', 114),\n",
       " ('Muffie Potter Aston', 111),\n",
       " ('Kipton Cronkite', 110),\n",
       " ('Bettina Zilkha', 109),\n",
       " ('Jamee Gregory', 106),\n",
       " ('Leonard Lauder', 105),\n",
       " ('Liz Peek', 105),\n",
       " ('Audrey Gruss', 104),\n",
       " ('Deborah Norville', 102),\n",
       " ('Jennifer Creel', 98),\n",
       " ('Karen LeFrak', 98),\n",
       " ('Barbara Tober', 96),\n",
       " ('Grace Meigher', 96),\n",
       " ('Amy Fine Collins', 96),\n",
       " ('Adelina Wong Ettelson', 95),\n",
       " ('Lisa Anastos', 94),\n",
       " ('Martha Glass', 93),\n",
       " ('Nathalie Kaplan', 93),\n",
       " ('Alec Baldwin', 91),\n",
       " ('Nicole Miller', 91),\n",
       " ('Rosanna Scotto', 89),\n",
       " ('Karen Klopp', 88),\n",
       " ('Wendy Carduner', 88),\n",
       " ('Margaret Russell', 88),\n",
       " ('Fern Mallis', 88),\n",
       " ('Diana Taylor', 85),\n",
       " ('Pamela Fiori', 84),\n",
       " ('Alexandra Lind Rose', 84),\n",
       " ('Fe Fendi', 84),\n",
       " ('Margo Langenberg', 84),\n",
       " ('Mayor Michael Bloomberg', 84),\n",
       " ('Dennis Basso', 82),\n",
       " ('Alexia Hamm Ryan', 82),\n",
       " ('Michele Gerber Klein', 82),\n",
       " ('Bonnie Comley', 81),\n",
       " ('Fernanda Kellogg', 81),\n",
       " ('Charlotte Moss', 80),\n",
       " ('Michele Herbert', 80),\n",
       " ('Russell Simmons', 80),\n",
       " ('Janna Bullock', 80),\n",
       " ('Donna Karan', 79),\n",
       " ('children', 77),\n",
       " ('Daniel Boulud', 77),\n",
       " ('family', 77),\n",
       " ('Felicia Taylor', 77),\n",
       " ('Deborah Roberts', 76),\n",
       " ('Susan Shin', 76),\n",
       " ('CeCe Black', 76),\n",
       " ('Evelyn Lauder', 75),\n",
       " ('Suzanne Cochran', 74),\n",
       " ('Dawne Marie Grannum', 74),\n",
       " ('Dayssi Olarte de Kanavos', 73),\n",
       " ('Clare McKeon', 73),\n",
       " ('Steven Stolman', 73),\n",
       " ('Georgina Schaeffer', 73),\n",
       " ('Melanie Holland', 73),\n",
       " ('Elizabeth Stribling', 73),\n",
       " ('Cynthia Lufkin', 72),\n",
       " ('Stephanie Winston Wolkoff', 71),\n",
       " ('Coralie Charriol Paul', 71),\n",
       " ('Bette Midler', 71),\n",
       " ('Danielle Ganek', 71),\n",
       " ('Kelly Rutherford', 70),\n",
       " ('Liliana Cavendish', 70),\n",
       " ('R. Couri Hay', 70),\n",
       " ('Julia Koch', 70),\n",
       " ('Barbara Regna', 69),\n",
       " ('Carol Mack', 69),\n",
       " ('Mary Davidson', 69),\n",
       " ('Peter Lyden', 68),\n",
       " ('Hilary Geary Ross', 68),\n",
       " ('Tinsley Mortimer', 68),\n",
       " ('Gregory Long', 68),\n",
       " ('Roric Tobin', 67),\n",
       " ('Stewart Lane', 66),\n",
       " ('Paula Zahn', 66),\n",
       " ('Amy Hoadley', 66),\n",
       " ('Diana DiMenna', 65),\n",
       " ('Glenn Close', 64),\n",
       " ('Beth Rudin DeWoody', 63),\n",
       " ('Bettina Prentice', 63),\n",
       " ('Hunt Slonem', 63),\n",
       " ('Christopher Hyland', 63)]"
      ]
     },
     "execution_count": 1689,
     "metadata": {},
     "output_type": "execute_result"
    }
   ],
   "source": [
    "node_degrees = social_graph.degree(nx.nodes(social_graph))\n",
    "degree = sorted(social_graph.degree, key=lambda x: x[1], reverse=True)\n",
    "degree = degree[:100]\n",
    "degree"
   ]
  },
  {
   "cell_type": "code",
   "execution_count": 1690,
   "metadata": {},
   "outputs": [
    {
     "name": "stdout",
     "output_type": "stream",
     "text": [
      "==================\n",
      "Your score:  0.5900000000000003\n",
      "==================\n"
     ]
    }
   ],
   "source": [
    "import heapq  # Heaps are efficient structures for tracking the largest\n",
    "              # elements in a collection.  Use introspection to find the\n",
    "              # function you need.\n",
    "#degree = [('Alec Baldwin', 144)] * 100\n",
    "\n",
    "grader.score('graph__degree', degree)"
   ]
  },
  {
   "cell_type": "markdown",
   "metadata": {},
   "source": [
    "## Question 4: PageRank\n"
   ]
  },
  {
   "cell_type": "markdown",
   "metadata": {},
   "source": [
    "A similar way to determine popularity is to look at their\n",
    "[PageRank](http://en.wikipedia.org/wiki/PageRank).  PageRank is used for web ranking and was originally\n",
    "[patented](http://patft.uspto.gov/netacgi/nph-Parser?patentnumber=6285999) by Google and is essentially the stationary distribution of a [Markov\n",
    "chain](http://en.wikipedia.org/wiki/Markov_chain) implied by the social graph. You can implement this yourself or use the version in `networkx`\n",
    "\n",
    "Use 0.85 as the damping parameter so that there is a 15% chance of jumping to another vertex at random.\n",
    "\n",
    "**Checkpoint:** Some aggregate stats on the solution\n",
    "\n",
    "    \"count\": 100.0\n",
    "    \"mean\": 0.0001841088\n",
    "    \"std\": 0.0000758068\n",
    "    \"min\": 0.0001238355\n",
    "    \"25%\": 0.0001415028\n",
    "    \"50%\": 0.0001616183\n",
    "    \"75%\": 0.0001972663\n",
    "    \"max\": 0.0006085816"
   ]
  },
  {
   "cell_type": "code",
   "execution_count": 1705,
   "metadata": {},
   "outputs": [],
   "source": [
    "pr = nx.pagerank(social_graph, alpha = 0.85)"
   ]
  },
  {
   "cell_type": "code",
   "execution_count": null,
   "metadata": {},
   "outputs": [],
   "source": [
    "#degree = sorted(social_graph.degree, key=lambda x: x[1], reverse=True)"
   ]
  },
  {
   "cell_type": "code",
   "execution_count": 1711,
   "metadata": {},
   "outputs": [
    {
     "ename": "AttributeError",
     "evalue": "'list' object has no attribute 'items'",
     "output_type": "error",
     "traceback": [
      "\u001b[0;31m---------------------------------------------------------------------------\u001b[0m",
      "\u001b[0;31mAttributeError\u001b[0m                            Traceback (most recent call last)",
      "\u001b[0;32m<ipython-input-1711-015f167a7b06>\u001b[0m in \u001b[0;36m<module>\u001b[0;34m()\u001b[0m\n\u001b[0;32m----> 1\u001b[0;31m \u001b[0mpagerank\u001b[0m\u001b[0;34m.\u001b[0m\u001b[0mitems\u001b[0m\u001b[0;34m(\u001b[0m\u001b[0;34m)\u001b[0m\u001b[0;34m\u001b[0m\u001b[0m\n\u001b[0m",
      "\u001b[0;31mAttributeError\u001b[0m: 'list' object has no attribute 'items'"
     ]
    }
   ],
   "source": []
  },
  {
   "cell_type": "code",
   "execution_count": 1714,
   "metadata": {},
   "outputs": [],
   "source": [
    "pagerank = sorted(pr.items(), key = lambda x: x[1], reverse = True)#, key=lambda x: x, reverse=True)"
   ]
  },
  {
   "cell_type": "code",
   "execution_count": 1717,
   "metadata": {},
   "outputs": [],
   "source": [
    "pagerank = pagerank[:100]"
   ]
  },
  {
   "cell_type": "code",
   "execution_count": 1718,
   "metadata": {},
   "outputs": [
    {
     "name": "stdout",
     "output_type": "stream",
     "text": [
      "==================\n",
      "Your score:  0.9700000000000006\n",
      "==================\n"
     ]
    }
   ],
   "source": [
    "#pagerank = [('Martha Stewart', 0.00019312108706213307)] * 100\n",
    "\n",
    "grader.score('graph__pagerank', pagerank)"
   ]
  },
  {
   "cell_type": "markdown",
   "metadata": {},
   "source": [
    "## Question 5: best_friends\n"
   ]
  },
  {
   "cell_type": "markdown",
   "metadata": {},
   "source": [
    "Another interesting question is who tend to co-occur with each other.  Give us the 100 edges with the highest weights.\n",
    "\n",
    "Google these people and see what their connection is.  Can we use this to detect instances of infidelity?\n",
    "\n",
    "**Checkpoint:** Some aggregate stats on the solution\n",
    "\n",
    "    \"count\": 100.0\n",
    "    \"mean\": 25.84\n",
    "    \"std\": 16.0395470855\n",
    "    \"min\": 14.0\n",
    "    \"25%\": 16.0\n",
    "    \"50%\": 19.0\n",
    "    \"75%\": 29.25\n",
    "    \"max\": 109.0"
   ]
  },
  {
   "cell_type": "code",
   "execution_count": 1721,
   "metadata": {},
   "outputs": [],
   "source": [
    "edges = social_graph.edges(data = True)"
   ]
  },
  {
   "cell_type": "code",
   "execution_count": 1730,
   "metadata": {},
   "outputs": [],
   "source": [
    "best_friends = sorted(edges,key= lambda x: x[2]['weight'],reverse=True)\n",
    "best_friends = best_friends[:100]"
   ]
  },
  {
   "cell_type": "code",
   "execution_count": 1736,
   "metadata": {},
   "outputs": [
    {
     "data": {
      "text/plain": [
       "('Stewart Lane', 'Bonnie Comley', {'weight': 40})"
      ]
     },
     "execution_count": 1736,
     "metadata": {},
     "output_type": "execute_result"
    }
   ],
   "source": [
    "entry = best_friends[0]\n",
    "entry"
   ]
  },
  {
   "cell_type": "code",
   "execution_count": 1737,
   "metadata": {},
   "outputs": [
    {
     "data": {
      "text/plain": [
       "('Stewart Lane', 'Bonnie Comley')"
      ]
     },
     "execution_count": 1737,
     "metadata": {},
     "output_type": "execute_result"
    }
   ],
   "source": [
    "names = tuple(entry[:2])\n",
    "names"
   ]
  },
  {
   "cell_type": "code",
   "execution_count": 1739,
   "metadata": {},
   "outputs": [
    {
     "data": {
      "text/plain": [
       "40"
      ]
     },
     "execution_count": 1739,
     "metadata": {},
     "output_type": "execute_result"
    }
   ],
   "source": [
    "entry[2]['weight']"
   ]
  },
  {
   "cell_type": "code",
   "execution_count": 1743,
   "metadata": {},
   "outputs": [
    {
     "data": {
      "text/plain": [
       "(('Stewart Lane', 'Bonnie Comley'), 40)"
      ]
     },
     "execution_count": 1743,
     "metadata": {},
     "output_type": "execute_result"
    }
   ],
   "source": [
    "tuple([tuple(entry[:2]), entry[2]['weight']])\n",
    "\n"
   ]
  },
  {
   "cell_type": "code",
   "execution_count": 1751,
   "metadata": {
    "scrolled": true
   },
   "outputs": [],
   "source": [
    "def formt(entry):\n",
    "    out = tuple([tuple(entry[:2]), int(entry[2]['weight'])])\n",
    "    return out"
   ]
  },
  {
   "cell_type": "code",
   "execution_count": 1752,
   "metadata": {},
   "outputs": [],
   "source": [
    "best_friends_formatted = list(map(formt, best_friends))"
   ]
  },
  {
   "cell_type": "code",
   "execution_count": 1753,
   "metadata": {},
   "outputs": [
    {
     "name": "stdout",
     "output_type": "stream",
     "text": [
      "==================\n",
      "Your score:  0.26000000000000006\n",
      "==================\n"
     ]
    }
   ],
   "source": [
    "#best_friends = [(('Michael Kennedy', 'Eleanora Kennedy'), 41)] * 100\n",
    "\n",
    "grader.score('graph__best_friends', best_friends_formatted)"
   ]
  },
  {
   "cell_type": "markdown",
   "metadata": {},
   "source": [
    "*Copyright &copy; 2019 The Data Incubator.  All rights reserved.*"
   ]
  }
 ],
 "metadata": {
  "kernelspec": {
   "display_name": "Python [default]",
   "language": "python",
   "name": "python3"
  },
  "language_info": {
   "codemirror_mode": {
    "name": "ipython",
    "version": 3
   },
   "file_extension": ".py",
   "mimetype": "text/x-python",
   "name": "python",
   "nbconvert_exporter": "python",
   "pygments_lexer": "ipython3",
   "version": "3.6.7"
  },
  "nbclean": true
 },
 "nbformat": 4,
 "nbformat_minor": 1
}
